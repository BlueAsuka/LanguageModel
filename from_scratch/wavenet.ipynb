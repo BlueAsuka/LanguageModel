{
 "cells": [
  {
   "cell_type": "code",
   "execution_count": 392,
   "metadata": {},
   "outputs": [],
   "source": [
    "import torch\n",
    "import torch.nn.functional as F\n",
    "import random\n",
    "from IPython import display \n",
    "import matplotlib.pyplot as plt"
   ]
  },
  {
   "cell_type": "code",
   "execution_count": 393,
   "metadata": {},
   "outputs": [
    {
     "name": "stdout",
     "output_type": "stream",
     "text": [
      "0\n"
     ]
    }
   ],
   "source": [
    "# Get the device\n",
    "USE_CUDA = torch.cuda.is_available()\n",
    "if USE_CUDA:\n",
    "    device = torch.cuda.current_device() \n",
    "else:\n",
    "    device = 'cpu'\n",
    "print(device)"
   ]
  },
  {
   "cell_type": "code",
   "execution_count": 394,
   "metadata": {},
   "outputs": [],
   "source": [
    "# Set the generator\n",
    "g = torch.Generator().manual_seed(114135)"
   ]
  },
  {
   "cell_type": "markdown",
   "metadata": {},
   "source": [
    "# Data loading and preprocessing"
   ]
  },
  {
   "cell_type": "code",
   "execution_count": 395,
   "metadata": {},
   "outputs": [],
   "source": [
    "# Read the dataset\n",
    "with open('data/names.txt', 'r') as f:\n",
    "    names_list = f.read().splitlines()\n",
    "\n",
    "# Get all characters in the name_list\n",
    "all_chars = sorted(list(set(''.join(names_list))))\n",
    "\n",
    "# Encoding alphabet using numbering \n",
    "# Also using the char '.' to replace the <S> and <E>, the '.' is denoted as 0\n",
    "stoi = {s:i+1 for i, s in enumerate(all_chars)}\n",
    "stoi['.'] = 0\n",
    "\n",
    "# Decoding\n",
    "itos = {i:s for s, i in stoi.items()}\n",
    "\n",
    "# Get the number of all_chars list\n",
    "char_num = len(stoi)"
   ]
  },
  {
   "cell_type": "code",
   "execution_count": 396,
   "metadata": {},
   "outputs": [],
   "source": [
    "def built_dataset(text, ws, show=False, shuffle=False):\n",
    "    \"\"\" Build the dataset\n",
    "    text: the raw text\n",
    "    ws: the number of token for predicting next char\n",
    "    show: whether show samples in the dataset, default to fault\n",
    "    \"\"\"\n",
    "    X, Y = [], []\n",
    "    \n",
    "    if shuffle:\n",
    "    # Shuffle the x and y\n",
    "        random.seed(345567)\n",
    "        random.shuffle(text)\n",
    "\n",
    "    for t in text:\n",
    "        # Clean up the window for the next name\n",
    "        content = [0] * ws\n",
    "\n",
    "        for c in t + '.':\n",
    "            X.append(content)\n",
    "            Y.append(stoi[c])\n",
    "            content = content[1:] + [stoi[c]]\n",
    "            if show:\n",
    "                print(''.join(itos[i] for i in content), '--->', c)\n",
    "\n",
    "    return torch.tensor(X, device=device), torch.tensor(Y, device=device)"
   ]
  },
  {
   "cell_type": "code",
   "execution_count": 397,
   "metadata": {},
   "outputs": [],
   "source": [
    "def split_dataset(x, y, tr_rate=0.8, va_rate=0.1):\n",
    "    assert len(x) == len(y), \"The length of two given arrays are not compatiable \"\n",
    "\n",
    "    tr_num = int(tr_rate * len(x))\n",
    "    va_num = int((tr_rate + va_rate) * len(x))\n",
    "    \n",
    "    return x[:tr_num], y[:tr_num], x[tr_num:va_num], y[tr_num:va_num], x[va_num:], y[va_num:]"
   ]
  },
  {
   "cell_type": "code",
   "execution_count": 398,
   "metadata": {},
   "outputs": [
    {
     "name": "stdout",
     "output_type": "stream",
     "text": [
      "tensor([[ 0,  0, 10,  1, 25, 19,  9,  5],\n",
      "        [ 0,  0,  0,  0,  0,  0,  0,  0],\n",
      "        [ 0,  0,  0,  0,  0,  0,  0, 19],\n",
      "        [ 0,  0,  0,  0,  0,  0, 19, 25],\n",
      "        [ 0,  0,  0,  0,  0, 19, 25,  2]], device='cuda:0')\n",
      "tensor([ 0, 19, 25,  2,  5], device='cuda:0')\n"
     ]
    }
   ],
   "source": [
    "# The window size = 8, then it use 8 tokens to predict the next chars\n",
    "window_size = 8\n",
    "xs, ys = built_dataset(text=names_list, ws=window_size, shuffle=True)\n",
    "x_tr, y_tr, x_va, y_va, x_te, y_te = split_dataset(xs, ys)\n",
    "print(x_tr[10:15])\n",
    "print(y_tr[10:15])"
   ]
  },
  {
   "cell_type": "markdown",
   "metadata": {},
   "source": [
    "# Building blocks of the model"
   ]
  },
  {
   "cell_type": "code",
   "execution_count": 399,
   "metadata": {},
   "outputs": [],
   "source": [
    "class Embedding:\n",
    "    \"\"\" The embedding layer \"\"\"\n",
    "\n",
    "    def __init__(self, num_embeddings, embedding_dim, device=None) -> None:\n",
    "        self.w = torch.randn((num_embeddings, embedding_dim), device=device)\n",
    "\n",
    "    def __call__(self, x):\n",
    "        self.out = self.w[x]\n",
    "        return self.out\n",
    "    \n",
    "    def parameters(self):\n",
    "        return [self.w]"
   ]
  },
  {
   "cell_type": "code",
   "execution_count": 400,
   "metadata": {},
   "outputs": [],
   "source": [
    "class Linear:\n",
    "    \"\"\" The Linear layer defined using same API in Pytorch \"\"\"\n",
    "\n",
    "    def __init__(self, in_features, out_features, bias=True, device=None) -> None:\n",
    "        self.w = torch.randn((in_features, out_features), device=device) / (in_features ** 0.5)\n",
    "        self.b = torch.zeros(out_features, device=device) if bias else None\n",
    "\n",
    "    def __call__(self, x):\n",
    "        self.out = x @ self.w\n",
    "        if self.b is not None:\n",
    "            self.out += self.b\n",
    "        return self.out\n",
    "    \n",
    "    def parameters(self):\n",
    "        return [self.w] + ([] if self.b is None else [self.b])"
   ]
  },
  {
   "cell_type": "code",
   "execution_count": 401,
   "metadata": {},
   "outputs": [],
   "source": [
    "class BatchNorm1D:\n",
    "    \"\"\" Batch normalization for 1D data \"\"\"\n",
    "\n",
    "    def __init__(self, dim, eps=1e-5, momentum=0.1, device=None) -> None:\n",
    "        self.eps = eps\n",
    "        self.momentum = momentum\n",
    "        self.training = True\n",
    "\n",
    "        # trainable parameters \n",
    "        self.gamma = torch.ones(dim, device=device)\n",
    "        self.beta = torch.zeros(dim, device=device)\n",
    "\n",
    "        # buffer (trained with a running 'momentum update')\n",
    "        self.running_mean = torch.zeros(dim, device=device)\n",
    "        self.running_var = torch.ones(dim, device=device)\n",
    "\n",
    "    def __call__(self, x):\n",
    "        # Compute the mean and variance on the batch\n",
    "        # Along all samples\n",
    "        if self.training:\n",
    "            # Select the axis (dim) to get the mean and variance\n",
    "            if x.ndim == 2:\n",
    "                dim = 0\n",
    "            elif x.ndim == 3:\n",
    "                dim = (0, 1)\n",
    "            x_mean = x.mean(dim, keepdim=True)\n",
    "            x_var = x.var(dim, keepdim=True)\n",
    "        else:\n",
    "            x_mean = self.running_mean\n",
    "            x_var = self.running_var\n",
    "\n",
    "        # Update the buffer\n",
    "        if self.training:\n",
    "            with torch.no_grad():\n",
    "                self.running_mean = (1 - self.momentum) * self.running_mean + self.momentum * x_mean\n",
    "                self.running_var = (1 - self.momentum) * self.running_var + self.momentum * x_var        \n",
    "        \n",
    "        # Normalize and scale as shown in the third and fourth steps in the image to return the result\n",
    "        x_hat = (x - x_mean) / torch.sqrt(x_var + self.eps) # Normalize\n",
    "        self.out = self.gamma * x_hat + self.beta           # Scale \n",
    "        return self.out\n",
    "    \n",
    "    def parameters(self):\n",
    "        return [self.gamma, self.beta]"
   ]
  },
  {
   "cell_type": "code",
   "execution_count": 402,
   "metadata": {},
   "outputs": [],
   "source": [
    "class Flatten:\n",
    "    \"\"\" concatnate the n_emb and emb_dim, while only retain the batch size \"\"\"\n",
    "\n",
    "    def __call__(self, x):\n",
    "        self.out = x.view(x.shape[0], -1)\n",
    "        return self.out\n",
    "    \n",
    "    def parameters(self):\n",
    "        return []"
   ]
  },
  {
   "cell_type": "code",
   "execution_count": 403,
   "metadata": {},
   "outputs": [],
   "source": [
    "class FlattenConsecutive:\n",
    "\n",
    "    def __init__(self, n) -> None:\n",
    "        # The consecutive number \n",
    "        # (1) (2) (3) (4) (5) (6) (7) (8) => consecutive number is 1\n",
    "        # (1 2) (3 4) (5 6) (7 8) => consecutive number is 2\n",
    "        # (1 2 3 4) (5 6 7 8) => consecutive number is 4\n",
    "        # (1 2 3 4 5 6 7 8) => consecutive number is 8\n",
    "        self.n = n \n",
    "    \n",
    "    def __call__(self, x):\n",
    "        B, T, C = x.shape # B is the batch size, T is the block size, C is the emb_dim\n",
    "        temp = x.view(B, T // self.n, C * self.n)\n",
    "        # If T // n == 1, then just return the tensor as Flatten layer does\n",
    "        if temp.shape[1] == 1:\n",
    "            temp = temp.squeeze(dim=1) # (B, 1, C*n) => (B, C*n)\n",
    "        self.out = temp\n",
    "        return self.out\n",
    "    \n",
    "    def parameters(self):\n",
    "        return []\n"
   ]
  },
  {
   "cell_type": "code",
   "execution_count": 404,
   "metadata": {},
   "outputs": [],
   "source": [
    "class Tanh:\n",
    "    \"\"\" tanh activation for nonlinearty \"\"\"\n",
    "    \n",
    "    def __call__(self, x):\n",
    "        self.out = torch.tanh(x)\n",
    "        return self.out\n",
    "    \n",
    "    def parameters(self):\n",
    "        return []"
   ]
  },
  {
   "cell_type": "code",
   "execution_count": 405,
   "metadata": {},
   "outputs": [],
   "source": [
    "class Sequential:\n",
    "    \"\"\" Define a container for running a stack of layers \"\"\"\n",
    "\n",
    "    def __init__(self, layers) -> None:\n",
    "        self.layers = layers\n",
    "    \n",
    "    def __call__(self, x):\n",
    "        for layer in self.layers:\n",
    "            x = layer(x)\n",
    "        self.out = x\n",
    "        return self.out\n",
    "    \n",
    "    def parameters(self):\n",
    "        return [p for layer in self.layers for p in layer.parameters()]"
   ]
  },
  {
   "cell_type": "markdown",
   "metadata": {},
   "source": [
    "# Built the network"
   ]
  },
  {
   "cell_type": "code",
   "execution_count": 406,
   "metadata": {},
   "outputs": [],
   "source": [
    "# Create the look up table, suppose the embedding space is n-dimensional\n",
    "# then the size of the lookup table is [27, n] (n components for representing each char)\n",
    "n_emb = 8\n",
    "n_hidden = 64"
   ]
  },
  {
   "cell_type": "code",
   "execution_count": 407,
   "metadata": {},
   "outputs": [],
   "source": [
    "# Define the network as a stack of building block\n",
    "model = Sequential([\n",
    "    Embedding(char_num, n_emb, device=device),\n",
    "    FlattenConsecutive(2), Linear(n_emb * 2, n_hidden, bias=False, device=device), BatchNorm1D(n_hidden, device=device), Tanh(),\n",
    "    FlattenConsecutive(2), Linear(n_hidden * 2, n_hidden, bias=False, device=device), BatchNorm1D(n_hidden, device=device), Tanh(),\n",
    "    FlattenConsecutive(2), Linear(n_hidden * 2, n_hidden, bias=False, device=device), BatchNorm1D(n_hidden, device=device), Tanh(),\n",
    "    Linear(n_hidden, char_num, bias=False, device=device),\n",
    "])"
   ]
  },
  {
   "cell_type": "code",
   "execution_count": 408,
   "metadata": {},
   "outputs": [],
   "source": [
    "# Initialize all weights in the network \n",
    "with torch.no_grad():\n",
    "    model.layers[-1].w *= 0.1 # Less confident in the final layer\n",
    "\n",
    "    # Initialize all other parameters using Kaiming init 5/3\n",
    "    for layer in model.layers[:-1]:\n",
    "        if isinstance(layer, Linear):\n",
    "            layer.w *= 5/3"
   ]
  },
  {
   "cell_type": "code",
   "execution_count": 409,
   "metadata": {},
   "outputs": [
    {
     "name": "stdout",
     "output_type": "stream",
     "text": [
      "Embedding\n",
      "FlattenConsecutive\n",
      "Linear\n",
      "BatchNorm1D\n",
      "Tanh\n",
      "FlattenConsecutive\n",
      "Linear\n",
      "BatchNorm1D\n",
      "Tanh\n",
      "FlattenConsecutive\n",
      "Linear\n",
      "BatchNorm1D\n",
      "Tanh\n",
      "Linear\n",
      "Total number of parameters 19736\n"
     ]
    }
   ],
   "source": [
    "# Get all parameters\n",
    "params = model.parameters()\n",
    "\n",
    "# Set all parameters gradient to true\n",
    "for p in params:\n",
    "    p.requires_grad = True\n",
    "\n",
    "# Show all layers info in the model\n",
    "for l in model.layers:\n",
    "    print(f'{l.__class__.__name__}')\n",
    "\n",
    "n_params = sum(p.nelement() for p in params)\n",
    "print(f'Total number of parameters {n_params}')"
   ]
  },
  {
   "cell_type": "markdown",
   "metadata": {},
   "source": [
    "# Train the network"
   ]
  },
  {
   "cell_type": "markdown",
   "metadata": {},
   "source": [
    "## A small demo\n"
   ]
  },
  {
   "cell_type": "code",
   "execution_count": 410,
   "metadata": {},
   "outputs": [],
   "source": [
    "rand_idx = torch.randint(0, x_tr.shape[0], (4, )) # Extract 4 samples from the training set\n",
    "rand_x, rand_y = x_tr[rand_idx], y_tr[rand_idx]\n",
    "rand_logits = model(rand_x)"
   ]
  },
  {
   "cell_type": "code",
   "execution_count": 411,
   "metadata": {},
   "outputs": [],
   "source": [
    "# print(f'The shape of inputs: {rand_x.shape}')\n",
    "# print(rand_x)\n",
    "# print(f'The shape of logits: {rand_logits.shape}')\n",
    "# print(rand_logits)"
   ]
  },
  {
   "cell_type": "code",
   "execution_count": 412,
   "metadata": {},
   "outputs": [
    {
     "name": "stdout",
     "output_type": "stream",
     "text": [
      "Embedding : torch.Size([4, 8, 8])\n",
      "FlattenConsecutive : torch.Size([4, 4, 16])\n",
      "Linear : torch.Size([4, 4, 64])\n",
      "BatchNorm1D : torch.Size([4, 4, 64])\n",
      "Tanh : torch.Size([4, 4, 64])\n",
      "FlattenConsecutive : torch.Size([4, 2, 128])\n",
      "Linear : torch.Size([4, 2, 64])\n",
      "BatchNorm1D : torch.Size([4, 2, 64])\n",
      "Tanh : torch.Size([4, 2, 64])\n",
      "FlattenConsecutive : torch.Size([4, 128])\n",
      "Linear : torch.Size([4, 64])\n",
      "BatchNorm1D : torch.Size([4, 64])\n",
      "Tanh : torch.Size([4, 64])\n",
      "Linear : torch.Size([4, 27])\n"
     ]
    }
   ],
   "source": [
    "for layer in model.layers:\n",
    "    print(f'{layer.__class__.__name__} : {layer.out.shape}')"
   ]
  },
  {
   "cell_type": "code",
   "execution_count": 413,
   "metadata": {},
   "outputs": [
    {
     "data": {
      "text/plain": [
       "torch.Size([4, 8, 8])"
      ]
     },
     "execution_count": 413,
     "metadata": {},
     "output_type": "execute_result"
    }
   ],
   "source": [
    "model.layers[0].out.shape # The Embedding layer output"
   ]
  },
  {
   "cell_type": "code",
   "execution_count": 414,
   "metadata": {},
   "outputs": [
    {
     "data": {
      "text/plain": [
       "torch.Size([4, 4, 16])"
      ]
     },
     "execution_count": 414,
     "metadata": {},
     "output_type": "execute_result"
    }
   ],
   "source": [
    "model.layers[1].out.shape # The Flatten layer output\n",
    "# It only remain the batch size \n",
    "# and concentate the n_emb and emb_dim, which is n_emb * emb_dim "
   ]
  },
  {
   "cell_type": "code",
   "execution_count": 415,
   "metadata": {},
   "outputs": [
    {
     "data": {
      "text/plain": [
       "torch.Size([4, 4, 64])"
      ]
     },
     "execution_count": 415,
     "metadata": {},
     "output_type": "execute_result"
    }
   ],
   "source": [
    "model.layers[2].out.shape # The linear layer output"
   ]
  },
  {
   "cell_type": "code",
   "execution_count": 416,
   "metadata": {},
   "outputs": [
    {
     "data": {
      "text/plain": [
       "torch.Size([1, 1, 64])"
      ]
     },
     "execution_count": 416,
     "metadata": {},
     "output_type": "execute_result"
    }
   ],
   "source": [
    "model.layers[3].running_mean.shape"
   ]
  },
  {
   "cell_type": "code",
   "execution_count": 417,
   "metadata": {},
   "outputs": [
    {
     "data": {
      "text/plain": [
       "torch.Size([4, 4, 200])"
      ]
     },
     "execution_count": 417,
     "metadata": {},
     "output_type": "execute_result"
    }
   ],
   "source": [
    "(torch.randn(4, 80) @ torch.randn(80, 200) + torch.randn(200)).shape\n",
    "(torch.randn(4, 4, 20) @ torch.randn(20, 200) + torch.randn(200)).shape"
   ]
  },
  {
   "cell_type": "code",
   "execution_count": 418,
   "metadata": {},
   "outputs": [
    {
     "data": {
      "text/plain": [
       "torch.Size([4, 4, 20])"
      ]
     },
     "execution_count": 418,
     "metadata": {},
     "output_type": "execute_result"
    }
   ],
   "source": [
    "e = torch.randn(4, 8, 10)\n",
    "e.view(4, 4, 20).shape"
   ]
  },
  {
   "cell_type": "markdown",
   "metadata": {},
   "source": [
    "## A final training "
   ]
  },
  {
   "cell_type": "code",
   "execution_count": 419,
   "metadata": {},
   "outputs": [
    {
     "name": "stdout",
     "output_type": "stream",
     "text": [
      "      0/ 200000: Loss=3.2988\n",
      "  10000/ 200000: Loss=2.0176\n",
      "  20000/ 200000: Loss=2.3643\n",
      "  30000/ 200000: Loss=2.2446\n",
      "  40000/ 200000: Loss=2.1402\n",
      "  50000/ 200000: Loss=1.9885\n",
      "  60000/ 200000: Loss=2.6257\n",
      "  70000/ 200000: Loss=2.0432\n",
      "  80000/ 200000: Loss=2.0642\n",
      "  90000/ 200000: Loss=2.0902\n",
      " 100000/ 200000: Loss=2.1859\n",
      " 110000/ 200000: Loss=1.8540\n",
      " 120000/ 200000: Loss=2.3228\n",
      " 130000/ 200000: Loss=2.2077\n",
      " 140000/ 200000: Loss=2.1383\n",
      " 150000/ 200000: Loss=2.5847\n",
      " 160000/ 200000: Loss=2.1436\n",
      " 170000/ 200000: Loss=1.7624\n",
      " 180000/ 200000: Loss=2.4291\n",
      " 190000/ 200000: Loss=2.4738\n"
     ]
    }
   ],
   "source": [
    "# Optimization\n",
    "steps = 200000\n",
    "batch_size = 32\n",
    "lossi = []\n",
    "ud = []\n",
    "\n",
    "for i in range(steps):\n",
    "\n",
    "    # Get minibatch from the dataset\n",
    "    ix = torch.randint(0, x_tr.shape[0], (batch_size,), device=device)\n",
    "    samples, labels = x_tr[ix], y_tr[ix]\n",
    "\n",
    "    # Forward pass\n",
    "    logits = model(samples)\n",
    "\n",
    "    # Compute the loss using the cross entropy function\n",
    "    loss = F.cross_entropy(logits, labels)\n",
    "\n",
    "    # # Backward\n",
    "    for p in params:\n",
    "        p.grad = None\n",
    "    loss.backward()\n",
    "\n",
    "    # # Update\n",
    "    lr = 0.1 if i < 150000 else 0.01\n",
    "    for p in params:\n",
    "        p.data += -lr * p.grad\n",
    "    \n",
    "    # Track loss and state\n",
    "    if i % 10000 == 0:\n",
    "        print(f'{i:7d}/{steps:7d}: Loss={loss.item():.4f}')\n",
    "    lossi.append(loss.log10().item())\n",
    "    with torch.no_grad():\n",
    "        ud.append([((lr * p.grad).std() / p.data.std()).log10().item() for p in params])\n",
    "\n",
    "    # if i >= 1000: # For DEBUG\n",
    "    # break"
   ]
  },
  {
   "cell_type": "code",
   "execution_count": 420,
   "metadata": {},
   "outputs": [
    {
     "data": {
      "text/plain": [
       "[<matplotlib.lines.Line2D at 0x29edf8213d0>]"
      ]
     },
     "execution_count": 420,
     "metadata": {},
     "output_type": "execute_result"
    },
    {
     "data": {
      "image/png": "[encoded data removed]",
      "text/plain": [
       "<Figure size 640x480 with 1 Axes>"
      ]
     },
     "metadata": {},
     "output_type": "display_data"
    }
   ],
   "source": [
    "# Show the loss during the training\n",
    "plt.plot(torch.tensor(lossi).view(200, -1).mean(1))"
   ]
  },
  {
   "cell_type": "markdown",
   "metadata": {},
   "source": [
    "# Save and load the model"
   ]
  },
  {
   "cell_type": "code",
   "execution_count": 421,
   "metadata": {},
   "outputs": [],
   "source": [
    "# Save parameters\n",
    "embedding_stack = []\n",
    "linear_stack = []\n",
    "bn_gamma_stack = []\n",
    "bn_beta_stack = []\n",
    "bn_running_mean_stack = []\n",
    "bn_running_var_stack = []\n",
    "\n",
    "for layer in model.layers:\n",
    "    if isinstance(layer, Embedding):\n",
    "        embedding_stack.append(layer.w)\n",
    "    if isinstance(layer, Linear):\n",
    "        linear_stack.append(layer.w)\n",
    "    if isinstance(layer, BatchNorm1D):\n",
    "        bn_running_mean_stack.append(layer.running_mean)\n",
    "        bn_running_var_stack.append(layer.running_var)\n",
    "        bn_gamma_stack.append(layer.gamma)\n",
    "        bn_beta_stack.append(layer.beta)\n",
    "    if isinstance(layer, Tanh):\n",
    "        continue\n",
    "\n",
    "torch.save(embedding_stack, 'params/wavenet/emb.pt')\n",
    "torch.save(linear_stack, 'params/wavenet/l_w.pt')\n",
    "torch.save(bn_running_mean_stack, 'params/wavenet/bn_rm.pt')\n",
    "torch.save(bn_running_var_stack, 'params/wavenet/bn_rv.pt')\n",
    "torch.save(bn_gamma_stack, 'params/wavenet/bn_gamma.pt')\n",
    "torch.save(bn_beta_stack, 'params/wavenet/bn_beta.pt')"
   ]
  },
  {
   "cell_type": "code",
   "execution_count": 422,
   "metadata": {},
   "outputs": [],
   "source": [
    "# Load the parameters\n",
    "embeddings = torch.load('params/wavenet/emb.pt')\n",
    "linear_weights = torch.load('params/wavenet/l_w.pt')\n",
    "bn_gammas = torch.load('params/wavenet/bn_gamma.pt')\n",
    "bn_betas = torch.load('params/wavenet/bn_beta.pt')\n",
    "bn_rm = torch.load('params/wavenet/bn_rm.pt')\n",
    "bn_rv = torch.load('params/wavenet/bn_rv.pt')"
   ]
  },
  {
   "cell_type": "code",
   "execution_count": 423,
   "metadata": {},
   "outputs": [],
   "source": [
    "# Re-define a new model\n",
    "r_model = Sequential([\n",
    "    Embedding(char_num, n_emb, device=device),\n",
    "    FlattenConsecutive(2), Linear(n_emb * 2, n_hidden, bias=False, device=device), BatchNorm1D(n_hidden, device=device), Tanh(),\n",
    "    FlattenConsecutive(2), Linear(n_hidden * 2, n_hidden, bias=False, device=device), BatchNorm1D(n_hidden, device=device), Tanh(),\n",
    "    FlattenConsecutive(2), Linear(n_hidden * 2, n_hidden, bias=False, device=device), BatchNorm1D(n_hidden, device=device), Tanh(),\n",
    "    Linear(n_hidden, char_num, bias=False, device=device),\n",
    "])"
   ]
  },
  {
   "cell_type": "code",
   "execution_count": 424,
   "metadata": {},
   "outputs": [],
   "source": [
    "# Assign all parameters to the new defined model\n",
    "lw_idx = 0\n",
    "bn_idx = 0\n",
    "for layer in r_model.layers:\n",
    "    if isinstance(layer, Embedding):\n",
    "        layer.w = embedding_stack[0]\n",
    "    if isinstance(layer, Linear):\n",
    "        layer.w = linear_weights[lw_idx]\n",
    "        lw_idx += 1\n",
    "    if isinstance(layer, BatchNorm1D):\n",
    "        layer.gamma = bn_gammas[bn_idx]\n",
    "        layer.beta = bn_betas[bn_idx]\n",
    "        layer.running_mean = bn_rm[bn_idx]\n",
    "        layer.running_var = bn_rv[bn_idx]\n",
    "        bn_idx += 1\n",
    "    if isinstance(layer, Tanh) or isinstance(layer, FlattenConsecutive):\n",
    "        continue"
   ]
  },
  {
   "cell_type": "markdown",
   "metadata": {},
   "source": [
    "# Loss on the Test and Validate set"
   ]
  },
  {
   "cell_type": "code",
   "execution_count": 425,
   "metadata": {},
   "outputs": [],
   "source": [
    "for layer in r_model.layers:\n",
    "    layer.training = False"
   ]
  },
  {
   "cell_type": "code",
   "execution_count": 426,
   "metadata": {},
   "outputs": [],
   "source": [
    "@torch.no_grad()\n",
    "def compute_loss(dataset):\n",
    "    # Get the select dataset for loss computation\n",
    "    x, y = {'train': (x_tr, y_tr), 'valid': (x_va, y_va), 'test': (x_te, y_te)}[dataset]\n",
    "\n",
    "    # Forward pass to the model to get prediction\n",
    "    x_preds = r_model(x)\n",
    "\n",
    "    # Compute the loss\n",
    "    return F.cross_entropy(x_preds, y).item()"
   ]
  },
  {
   "cell_type": "code",
   "execution_count": 427,
   "metadata": {},
   "outputs": [
    {
     "name": "stdout",
     "output_type": "stream",
     "text": [
      "Loss on train-set is 1.9358\n",
      "Loss on valid-set is 2.0249\n",
      "Loss on test-set is 2.0234\n"
     ]
    }
   ],
   "source": [
    "train_loss = compute_loss('train')\n",
    "print(f'Loss on train-set is {train_loss:.4f}')\n",
    "valid_loss = compute_loss('valid')\n",
    "print(f'Loss on valid-set is {valid_loss:.4f}')\n",
    "test_loss = compute_loss('test')\n",
    "print(f'Loss on test-set is {test_loss:.4f}')"
   ]
  },
  {
   "cell_type": "markdown",
   "metadata": {},
   "source": [
    "## Performance log\n",
    "Averaged negative log likelihodd on the whole dataset: 2.4544  \n",
    "MLP  \n",
    "2 block-size(no emb) + 1 * hidden( 27)  totally  729 params: train 2.4955  \n",
    "3 block-size(emb 10) + 2 * hidden(200) totally 11897 params: train       , val 2.2924, test 2.2785 (with random Init)  \n",
    "3 block-size(emb 10) + 2 * hidden(200) totally 11897 params: train       , val 2.1861, test 2.1739 (with selected Init)    \n",
    "3 block-size(emb 10) + 2 * hidden(200) totally 11897 params: train       , val 2.1521, test 2.1367 (with Kaiming Init)  \n",
    "3 block-size(emb 10) + 2 * hidden(200) totally 12097 params: train 2.0906, val 2.1411, test 2.1276 (with BN + Init)  \n",
    "3 block-size(emb 10) + 5 * hidden(100) totally 36770 params: train 2.0120, val 2.0940, test 2.0829 (with BN + Init)  \n",
    "8 block-size(emb 10) + 2 * hidden(200) totally 22070 params: train 1.9291, val 2.0344, test 2.0219 (with BN + Init)  \n",
    "WaveNet    \n",
    "8 block-size(emb 8)  + 3 * hidden( 64) totally 19736 params: train 1.9358, val 2.0249, test 2.0234  \n",
    "8 block-size(emb 16) + 3 * hidden( 64) totally 20976 params: train 1.9157, val 2.0250, test 2.0067    \n",
    "8 block-size(emb 16) + 3 * hidden(128) totally 74288 params: train 1.7836, val 1.9974, test 1.9859  \n",
    "8 block-size(emb 32) + 3 * hidden(256) totally 287840 params: train 1.6689, val 2.0040, test 1.9984 (overfitting)\n",
    "\n"
   ]
  },
  {
   "cell_type": "markdown",
   "metadata": {},
   "source": [
    "# Generate new names"
   ]
  },
  {
   "cell_type": "code",
   "execution_count": 428,
   "metadata": {},
   "outputs": [],
   "source": [
    "# sample from the model\n",
    "g = torch.Generator(device=device).manual_seed(2147483647 + 10)"
   ]
  },
  {
   "cell_type": "code",
   "execution_count": 429,
   "metadata": {},
   "outputs": [
    {
     "name": "stdout",
     "output_type": "stream",
     "text": [
      "jain\n",
      "bashady\n",
      "bryce\n",
      "taruba\n",
      "khumario\n",
      "kahsyn\n",
      "thumor\n",
      "ayshaum\n",
      "kinda\n",
      "deeryn\n",
      "smuelle\n",
      "zayder\n",
      "elli\n",
      "lucaijah\n",
      "brayleigh\n",
      "guhnem\n",
      "yuslei\n",
      "wylan\n",
      "cyre\n",
      "kenzie\n"
     ]
    }
   ],
   "source": [
    "for _ in range(20):\n",
    "    names = []\n",
    "\n",
    "    context = [0] * window_size\n",
    "    while True:\n",
    "        # Again, forward pass to the model\n",
    "        logits = r_model(torch.tensor([context], device=device))\n",
    "        \n",
    "        # Get the char with the maximum possibility (maximum likelihood)\n",
    "        probs = F.softmax(logits, dim=1)\n",
    "        ix = torch.multinomial(probs, num_samples=1).item()\n",
    "        \n",
    "        # Get the new and next combinations for prediction\n",
    "        # Break when meets the '.', or say 0 in the index list\n",
    "        if ix != 0:\n",
    "            context = context[1:] + [ix]\n",
    "            names.append(ix)\n",
    "        else:\n",
    "            break\n",
    "\n",
    "    print(''.join(itos[i] for i in names))"
   ]
  },
  {
   "cell_type": "code",
   "execution_count": null,
   "metadata": {},
   "outputs": [],
   "source": []
  }
 ],
 "metadata": {
  "kernelspec": {
   "display_name": "Python 3.7.12 ('pytorch')",
   "language": "python",
   "name": "python3"
  },
  "language_info": {
   "codemirror_mode": {
    "name": "ipython",
    "version": 3
   },
   "file_extension": ".py",
   "mimetype": "text/x-python",
   "name": "python",
   "nbconvert_exporter": "python",
   "pygments_lexer": "ipython3",
   "version": "3.7.12"
  },
  "orig_nbformat": 4,
  "vscode": {
   "interpreter": {
    "hash": "0f4b453dc89721b7a9110353965dbaa38d078ee3035ce069d0d0747aece85aca"
   }
  }
 },
 "nbformat": 4,
 "nbformat_minor": 2
}
