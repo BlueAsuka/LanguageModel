{
 "cells": [
  {
   "cell_type": "code",
   "execution_count": 10,
   "metadata": {},
   "outputs": [],
   "source": [
    "import torch\n",
    "import torch.nn.functional as F\n",
    "import random\n",
    "from IPython import display \n",
    "import matplotlib.pyplot as plt"
   ]
  },
  {
   "cell_type": "code",
   "execution_count": 11,
   "metadata": {},
   "outputs": [
    {
     "name": "stdout",
     "output_type": "stream",
     "text": [
      "0\n"
     ]
    }
   ],
   "source": [
    "# Get the device\n",
    "USE_CUDA = torch.cuda.is_available()\n",
    "if USE_CUDA:\n",
    "    device = torch.cuda.current_device() \n",
    "else:\n",
    "    device = 'cpu'\n",
    "print(device)"
   ]
  },
  {
   "cell_type": "code",
   "execution_count": 12,
   "metadata": {},
   "outputs": [],
   "source": [
    "# Set the generator\n",
    "g = torch.Generator().manual_seed(114135)"
   ]
  },
  {
   "cell_type": "markdown",
   "metadata": {},
   "source": [
    "# Data loading and preprocessing"
   ]
  },
  {
   "cell_type": "code",
   "execution_count": 13,
   "metadata": {},
   "outputs": [],
   "source": [
    "# Read the dataset\n",
    "with open('data/names.txt', 'r') as f:\n",
    "    names_list = f.read().splitlines()\n",
    "\n",
    "# Get all characters in the name_list\n",
    "all_chars = sorted(list(set(''.join(names_list))))\n",
    "\n",
    "# Encoding alphabet using numbering \n",
    "# Also using the char '.' to replace the <S> and <E>, the '.' is denoted as 0\n",
    "stoi = {s:i+1 for i, s in enumerate(all_chars)}\n",
    "stoi['.'] = 0\n",
    "\n",
    "# Decoding\n",
    "itos = {i:s for s, i in stoi.items()}\n",
    "\n",
    "# Get the number of all_chars list\n",
    "char_num = len(stoi)"
   ]
  },
  {
   "cell_type": "code",
   "execution_count": 14,
   "metadata": {},
   "outputs": [],
   "source": [
    "def built_dataset(text, ws, show=False, shuffle=False):\n",
    "    \"\"\" Build the dataset\n",
    "    text: the raw text\n",
    "    ws: the number of token for predicting next char\n",
    "    show: whether show samples in the dataset, default to fault\n",
    "    \"\"\"\n",
    "    X, Y = [], []\n",
    "    \n",
    "    if shuffle:\n",
    "    # Shuffle the x and y\n",
    "        random.seed(345567)\n",
    "        random.shuffle(text)\n",
    "\n",
    "    for t in text:\n",
    "        # Clean up the window for the next name\n",
    "        content = [0] * ws\n",
    "\n",
    "        for c in t + '.':\n",
    "            X.append(content)\n",
    "            Y.append(stoi[c])\n",
    "            content = content[1:] + [stoi[c]]\n",
    "            if show:\n",
    "                print(''.join(itos[i] for i in content), '--->', c)\n",
    "\n",
    "    return torch.tensor(X, device=device), torch.tensor(Y, device=device)"
   ]
  },
  {
   "cell_type": "code",
   "execution_count": 15,
   "metadata": {},
   "outputs": [],
   "source": [
    "def split_dataset(x, y, tr_rate=0.8, va_rate=0.1):\n",
    "    assert len(x) == len(y), \"The length of two given arrays are not compatiable \"\n",
    "\n",
    "    tr_num = int(tr_rate * len(x))\n",
    "    va_num = int((tr_rate + va_rate) * len(x))\n",
    "    \n",
    "    return x[:tr_num], y[:tr_num], x[tr_num:va_num], y[tr_num:va_num], x[va_num:], y[va_num:]"
   ]
  },
  {
   "cell_type": "code",
   "execution_count": 16,
   "metadata": {},
   "outputs": [
    {
     "name": "stdout",
     "output_type": "stream",
     "text": [
      "tensor([[19,  9,  5],\n",
      "        [ 0,  0,  0],\n",
      "        [ 0,  0, 19],\n",
      "        [ 0, 19, 25],\n",
      "        [19, 25,  2]], device='cuda:0')\n",
      "tensor([ 0, 19, 25,  2,  5], device='cuda:0')\n"
     ]
    }
   ],
   "source": [
    "# The window size = 3, then it use 3 tokens to predict the next chars\n",
    "window_size = 3\n",
    "xs, ys = built_dataset(text=names_list, ws=window_size, shuffle=True)\n",
    "x_tr, y_tr, x_va, y_va, x_te, y_te = split_dataset(xs, ys)\n",
    "print(x_tr[10:15])\n",
    "print(y_tr[10:15])"
   ]
  },
  {
   "cell_type": "markdown",
   "metadata": {},
   "source": [
    "# Building blocks of the model"
   ]
  },
  {
   "cell_type": "code",
   "execution_count": 17,
   "metadata": {},
   "outputs": [],
   "source": [
    "class Linear:\n",
    "    \"\"\" The Linear layer defined using same API in Pytorch \"\"\"\n",
    "\n",
    "    def __init__(self, in_features, out_features, bias=True, device=None) -> None:\n",
    "        self.w = torch.randn((in_features, out_features), device=device) / (in_features ** 0.5)\n",
    "        self.b = torch.zeros(out_features, device=device) if bias else None\n",
    "\n",
    "    def __call__(self, x):\n",
    "        self.out = x @ self.w\n",
    "        if self.b is not None:\n",
    "            self.out += self.b\n",
    "        return self.out\n",
    "    \n",
    "    def parameters(self):\n",
    "        return [self.w] + ([] if self.b is None else [self.b])"
   ]
  },
  {
   "cell_type": "code",
   "execution_count": 18,
   "metadata": {},
   "outputs": [],
   "source": [
    "class BatchNorm1D:\n",
    "    \"\"\" Batch normalization for 1D data \"\"\"\n",
    "\n",
    "    def __init__(self, dim, eps=1e-5, momentum=0.1, device=None) -> None:\n",
    "        self.eps = eps\n",
    "        self.momentum = momentum\n",
    "        self.training = True\n",
    "\n",
    "        # trainable parameters \n",
    "        self.gamma = torch.ones(dim, device=device)\n",
    "        self.beta = torch.zeros(dim, device=device)\n",
    "\n",
    "        # buffer (trained with a running 'momentum update')\n",
    "        self.running_mean = torch.zeros(dim, device=device)\n",
    "        self.running_var = torch.ones(dim, device=device)\n",
    "\n",
    "    def __call__(self, x):\n",
    "        # Compute the mean and variance on the batch\n",
    "        # Along all samples\n",
    "        if self.training:\n",
    "            x_mean = x.mean(0, keepdim=True)\n",
    "            x_var = x.var(0, keepdim=True)\n",
    "        else:\n",
    "            x_mean = self.running_mean\n",
    "            x_var = self.running_var\n",
    "\n",
    "        # Update the buffer\n",
    "        if self.training:\n",
    "            with torch.no_grad():\n",
    "                self.running_mean = (1 - self.momentum) * self.running_mean + self.momentum * x_mean\n",
    "                self.running_var = (1 - self.momentum) * self.running_var + self.momentum * x_var        \n",
    "        \n",
    "        # Normalize and scale as shown in the third and fourth steps in the image to return the result\n",
    "        x_hat = (x - x_mean) / torch.sqrt(x_var + self.eps) # Normalize\n",
    "        self.out = self.gamma * x_hat + self.beta           # Scale \n",
    "        return self.out\n",
    "    \n",
    "    def parameters(self):\n",
    "        return [self.gamma, self.beta]"
   ]
  },
  {
   "cell_type": "code",
   "execution_count": 19,
   "metadata": {},
   "outputs": [],
   "source": [
    "class Tanh():\n",
    "    def __call__(self, x):\n",
    "        self.out = torch.tanh(x)\n",
    "        return self.out\n",
    "    \n",
    "    def parameters(self):\n",
    "        return []"
   ]
  },
  {
   "cell_type": "markdown",
   "metadata": {},
   "source": [
    "# Built the network"
   ]
  },
  {
   "cell_type": "code",
   "execution_count": 21,
   "metadata": {},
   "outputs": [],
   "source": [
    "# Create the look up table, suppose the embedding space is n-dimensional\n",
    "# then the size of the lookup table is [27, n] (n components for representing each char)\n",
    "n_emb = 10\n",
    "n_hidden = 100\n",
    "lookup = torch.randn((char_num, n_emb), generator=g, device=device)"
   ]
  },
  {
   "cell_type": "code",
   "execution_count": 22,
   "metadata": {},
   "outputs": [
    {
     "data": {
      "text/plain": [
       "torch.Size([27, 10])"
      ]
     },
     "execution_count": 22,
     "metadata": {},
     "output_type": "execute_result"
    }
   ],
   "source": [
    "lookup.shape"
   ]
  },
  {
   "cell_type": "code",
   "execution_count": 23,
   "metadata": {},
   "outputs": [],
   "source": [
    "# Define the network as a stack of building block\n",
    "layers = [\n",
    "    Linear(n_emb * window_size, n_hidden, bias=False, device=device), BatchNorm1D(n_hidden, device=device), Tanh(),\n",
    "    Linear(           n_hidden, n_hidden, bias=False, device=device), BatchNorm1D(n_hidden, device=device), Tanh(),\n",
    "    Linear(           n_hidden, n_hidden, bias=False, device=device), BatchNorm1D(n_hidden, device=device), Tanh(),\n",
    "    Linear(           n_hidden, n_hidden, bias=False, device=device), BatchNorm1D(n_hidden, device=device), Tanh(),\n",
    "    Linear(           n_hidden, char_num, bias=False, device=device),\n",
    "]"
   ]
  },
  {
   "cell_type": "code",
   "execution_count": 24,
   "metadata": {},
   "outputs": [],
   "source": [
    "# Initialize all weights in the network \n",
    "with torch.no_grad():\n",
    "    layers[-1].w *= 0.1 # Less confident in the final layer\n",
    "\n",
    "    # Initialize all other parameters using Kaiming init 5/3\n",
    "    for layer in layers[:-1]:\n",
    "        if isinstance(layer, Linear):\n",
    "            layer.w *= 5/3"
   ]
  },
  {
   "cell_type": "code",
   "execution_count": 25,
   "metadata": {},
   "outputs": [
    {
     "name": "stdout",
     "output_type": "stream",
     "text": [
      "Total number of parameters 36770\n"
     ]
    }
   ],
   "source": [
    "# Get all parameters\n",
    "params = [lookup] + [p for layer in layers for p in layer.parameters()]\n",
    "\n",
    "# Set all parameters gradient to true\n",
    "for p in params:\n",
    "    p.requires_grad = True\n",
    "\n",
    "n_params = sum(p.nelement() for p in params)\n",
    "print(f'Total number of parameters {n_params}')"
   ]
  },
  {
   "cell_type": "markdown",
   "metadata": {},
   "source": [
    "# Train the network"
   ]
  },
  {
   "cell_type": "code",
   "execution_count": 26,
   "metadata": {},
   "outputs": [
    {
     "name": "stdout",
     "output_type": "stream",
     "text": [
      "      0/ 200000: Loss=3.2982\n",
      "  10000/ 200000: Loss=2.4349\n",
      "  20000/ 200000: Loss=2.4441\n",
      "  30000/ 200000: Loss=1.9101\n",
      "  40000/ 200000: Loss=2.1472\n",
      "  50000/ 200000: Loss=2.1761\n",
      "  60000/ 200000: Loss=2.0083\n",
      "  70000/ 200000: Loss=1.8071\n",
      "  80000/ 200000: Loss=1.9378\n",
      "  90000/ 200000: Loss=2.3398\n",
      " 100000/ 200000: Loss=2.3605\n",
      " 110000/ 200000: Loss=2.0840\n",
      " 120000/ 200000: Loss=2.3257\n",
      " 130000/ 200000: Loss=2.3067\n",
      " 140000/ 200000: Loss=2.1288\n",
      " 150000/ 200000: Loss=1.8893\n",
      " 160000/ 200000: Loss=2.1588\n",
      " 170000/ 200000: Loss=1.9998\n",
      " 180000/ 200000: Loss=2.1008\n",
      " 190000/ 200000: Loss=2.4023\n"
     ]
    }
   ],
   "source": [
    "# Optimization\n",
    "steps = 200000\n",
    "batch_size = 32\n",
    "lossi = []\n",
    "ud = []\n",
    "\n",
    "for i in range(steps):\n",
    "\n",
    "    # Get minibatch from the dataset\n",
    "    ix = torch.randint(0, x_tr.shape[0], (batch_size,), device=device)\n",
    "    samples, labels = x_tr[ix], y_tr[ix]\n",
    "\n",
    "    # Forward pass\n",
    "    emb = lookup[samples]\n",
    "    x = emb.view(emb.shape[0], -1) # Concatenate the vectors to maintain the batch number\n",
    "    for layer in layers:\n",
    "        x = layer(x)\n",
    "    \n",
    "    # Compute the loss using the cross entropy function\n",
    "    loss = F.cross_entropy(x, labels)\n",
    "\n",
    "    # Backward\n",
    "    for layer in layers:\n",
    "        layer.out.retain_grad()\n",
    "    for p in params:\n",
    "        p.grad = None\n",
    "    loss.backward()\n",
    "\n",
    "    # Update\n",
    "    lr = 0.1 if i < 150000 else 0.01\n",
    "    for p in params:\n",
    "        p.data += -lr * p.grad\n",
    "    \n",
    "    # Track loss and state\n",
    "    if i % 10000 == 0:\n",
    "        print(f'{i:7d}/{steps:7d}: Loss={loss.item():.4f}')\n",
    "    lossi.append(loss.log10().item())\n",
    "    with torch.no_grad():\n",
    "        ud.append([((lr * p.grad).std() / p.data.std()).log10().item() for p in params])\n",
    "\n",
    "    # if i >= 1000: # For DEBUG\n",
    "    #     break"
   ]
  },
  {
   "cell_type": "code",
   "execution_count": 27,
   "metadata": {},
   "outputs": [
    {
     "data": {
      "text/plain": [
       "[<matplotlib.lines.Line2D at 0x29eab885fa0>]"
      ]
     },
     "execution_count": 27,
     "metadata": {},
     "output_type": "execute_result"
    },
    {
     "data": {
      "image/png": "[encoded data removed]",
      "text/plain": [
       "<Figure size 640x480 with 1 Axes>"
      ]
     },
     "metadata": {},
     "output_type": "display_data"
    }
   ],
   "source": [
    "# Show the loss during the training\n",
    "plt.plot(lossi)"
   ]
  },
  {
   "cell_type": "markdown",
   "metadata": {},
   "source": [
    "# Save and load the model"
   ]
  },
  {
   "cell_type": "code",
   "execution_count": 72,
   "metadata": {},
   "outputs": [],
   "source": [
    "# Save parameters\n",
    "linear_stack = []\n",
    "bn_gamma_stack = []\n",
    "bn_beta_stack = []\n",
    "bn_running_mean_stack = []\n",
    "bn_running_var_stack = []\n",
    "\n",
    "for layer in layers:\n",
    "    if isinstance(layer, Linear):\n",
    "        linear_stack.append(layer.w)\n",
    "    if isinstance(layer, BatchNorm1D):\n",
    "        bn_running_mean_stack.append(layer.running_mean)\n",
    "        bn_running_var_stack.append(layer.running_var)\n",
    "        bn_gamma_stack.append(layer.gamma)\n",
    "        bn_beta_stack.append(layer.beta)\n",
    "    if isinstance(layer, Tanh):\n",
    "        continue\n",
    "\n",
    "torch.save(linear_stack, 'params/wavenet/l_w.pt')\n",
    "torch.save(bn_running_mean_stack, 'params/wavenet/bn_rm.pt')\n",
    "torch.save(bn_running_var_stack, 'params/wavenet/bn_rv.pt')\n",
    "torch.save(bn_gamma_stack, 'params/wavenet/bn_gamma.pt')\n",
    "torch.save(bn_beta_stack, 'params/wavenet/bn_beta.pt')"
   ]
  },
  {
   "cell_type": "code",
   "execution_count": 81,
   "metadata": {},
   "outputs": [],
   "source": [
    "# Load the parameters\n",
    "linear_weights = torch.load('params/wavenet/l_w.pt')\n",
    "bn_gammas = torch.load('params/wavenet/bn_gamma.pt')\n",
    "bn_betas = torch.load('params/wavenet/bn_beta.pt')\n",
    "bn_rm = torch.load('params/wavenet/bn_rm.pt')\n",
    "bn_rv = torch.load('params/wavenet/bn_rv.pt')"
   ]
  },
  {
   "cell_type": "code",
   "execution_count": 82,
   "metadata": {},
   "outputs": [],
   "source": [
    "# Define the new model to test\n",
    "model = [\n",
    "    Linear(n_emb * window_size, n_hidden, bias=False, device=device), BatchNorm1D(n_hidden, device=device), Tanh(),\n",
    "    Linear(           n_hidden, n_hidden, bias=False, device=device), BatchNorm1D(n_hidden, device=device), Tanh(),\n",
    "    Linear(           n_hidden, n_hidden, bias=False, device=device), BatchNorm1D(n_hidden, device=device), Tanh(),\n",
    "    Linear(           n_hidden, n_hidden, bias=False, device=device), BatchNorm1D(n_hidden, device=device), Tanh(),\n",
    "    Linear(           n_hidden, char_num, bias=False, device=device),\n",
    "]"
   ]
  },
  {
   "cell_type": "code",
   "execution_count": 83,
   "metadata": {},
   "outputs": [],
   "source": [
    "# Assign all parameters to the new defined model\n",
    "lw_idx = 0\n",
    "bn_idx = 0\n",
    "for layer in model:\n",
    "    if isinstance(layer, Linear):\n",
    "        layer.w = linear_weights[lw_idx]\n",
    "        lw_idx += 1\n",
    "    if isinstance(layer, BatchNorm1D):\n",
    "        layer.gamma = bn_gammas[bn_idx]\n",
    "        layer.beta = bn_betas[bn_idx]\n",
    "        layer.running_mean = bn_rm[bn_idx]\n",
    "        layer.running_var = bn_rv[bn_idx]\n",
    "        bn_idx += 1\n",
    "    if isinstance(layer, Tanh):\n",
    "        continue"
   ]
  },
  {
   "cell_type": "markdown",
   "metadata": {},
   "source": [
    "# Loss on the Test and Validate set"
   ]
  },
  {
   "cell_type": "code",
   "execution_count": 90,
   "metadata": {},
   "outputs": [],
   "source": [
    "@torch.no_grad()\n",
    "def compute_loss(dataset):\n",
    "    # Get the select dataset for loss computation\n",
    "    x, y = {'train': (x_tr, y_tr), 'valid': (x_va, y_va), 'test': (x_te, y_te)}[dataset]\n",
    "\n",
    "    # Forward pass to the model to get prediction\n",
    "    emb = lookup[x]\n",
    "    x_preds = emb.view(emb.shape[0], -1)\n",
    "    for layer in model:\n",
    "        x_preds = layer(x_preds)\n",
    "\n",
    "    # Compute the loss\n",
    "    loss = F.cross_entropy(x_preds, y)\n",
    "    print(f'Loss on {dataset}-set is {loss.item():.4f}')"
   ]
  },
  {
   "cell_type": "code",
   "execution_count": 92,
   "metadata": {},
   "outputs": [],
   "source": [
    "for layer in model:\n",
    "    layer.training = False # put layers into eval mode"
   ]
  },
  {
   "cell_type": "code",
   "execution_count": 94,
   "metadata": {},
   "outputs": [
    {
     "name": "stdout",
     "output_type": "stream",
     "text": [
      "Loss on train-set is 2.0120\n",
      "Loss on valid-set is 2.0940\n",
      "Loss on test-set is 2.0829\n"
     ]
    }
   ],
   "source": [
    "compute_loss('train')\n",
    "compute_loss('valid')\n",
    "compute_loss('test')"
   ]
  },
  {
   "cell_type": "markdown",
   "metadata": {},
   "source": [
    "# Generate new names"
   ]
  },
  {
   "cell_type": "code",
   "execution_count": 97,
   "metadata": {},
   "outputs": [],
   "source": [
    "# sample from the model\n",
    "g = torch.Generator(device=device).manual_seed(2147483647 + 10)"
   ]
  },
  {
   "cell_type": "code",
   "execution_count": 101,
   "metadata": {},
   "outputs": [
    {
     "name": "stdout",
     "output_type": "stream",
     "text": [
      "faton\n",
      "tolyn\n",
      "jaylee\n",
      "jose\n",
      "harb\n",
      "kai\n",
      "ruenay\n",
      "gurias\n",
      "sjrah\n",
      "elicie\n",
      "ger\n",
      "anwenleill\n",
      "rael\n",
      "sharson\n",
      "zamaileah\n",
      "dajykanynslee\n",
      "loulle\n",
      "tyjahman\n",
      "malazaelayden\n",
      "coberta\n"
     ]
    }
   ],
   "source": [
    "for _ in range(20):\n",
    "    names = []\n",
    "\n",
    "    context = [0] * window_size\n",
    "    while True:\n",
    "        # Again, forward pass to the model\n",
    "        emb = lookup[torch.tensor([context], device=device)]\n",
    "        x_preds = emb.view(emb.shape[0], -1)\n",
    "        for layer in model:\n",
    "            x_preds = layer(x_preds)\n",
    "        \n",
    "        # Get the char with the maximum possibility (maximum likelihood)\n",
    "        logits = x_preds\n",
    "        probs = F.softmax(logits, dim=1)\n",
    "        ix = torch.multinomial(probs, num_samples=1, generator=g).item()\n",
    "        \n",
    "        # Get the new and next combinations for prediction\n",
    "        # Break when meets the '.', or say 0 in the index list\n",
    "        if ix != 0:\n",
    "            context = context[1:] + [ix]\n",
    "            names.append(ix)\n",
    "        else:\n",
    "            break\n",
    "\n",
    "    print(''.join(itos[i] for i in names))"
   ]
  },
  {
   "cell_type": "code",
   "execution_count": null,
   "metadata": {},
   "outputs": [],
   "source": []
  }
 ],
 "metadata": {
  "kernelspec": {
   "display_name": "Python 3.8.13 ('ml')",
   "language": "python",
   "name": "python3"
  },
  "language_info": {
   "codemirror_mode": {
    "name": "ipython",
    "version": 3
   },
   "file_extension": ".py",
   "mimetype": "text/x-python",
   "name": "python",
   "nbconvert_exporter": "python",
   "pygments_lexer": "ipython3",
   "version": "3.8.13"
  },
  "orig_nbformat": 4,
  "vscode": {
   "interpreter": {
    "hash": "e76b06f811d914f25ddf1d876c9e6424e54248baadb52cf54ff8d72e027625bb"
   }
  }
 },
 "nbformat": 4,
 "nbformat_minor": 2
}
