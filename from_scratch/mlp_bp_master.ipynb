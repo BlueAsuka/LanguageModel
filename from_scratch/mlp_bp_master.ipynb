{
 "cells": [
  {
   "cell_type": "code",
   "execution_count": 1,
   "metadata": {},
   "outputs": [],
   "source": [
    "import torch\n",
    "import torch.nn.functional as F\n",
    "import matplotlib.pyplot as plt\n",
    "%matplotlib inline"
   ]
  },
  {
   "cell_type": "code",
   "execution_count": 2,
   "metadata": {},
   "outputs": [
    {
     "name": "stdout",
     "output_type": "stream",
     "text": [
      "0\n"
     ]
    }
   ],
   "source": [
    "# Get the device\n",
    "USE_CUDA = torch.cuda.is_available()\n",
    "if USE_CUDA:\n",
    "    device = torch.cuda.current_device() \n",
    "else:\n",
    "    device = 'cpu'\n",
    "print(device)"
   ]
  },
  {
   "cell_type": "code",
   "execution_count": 3,
   "metadata": {},
   "outputs": [
    {
     "name": "stdout",
     "output_type": "stream",
     "text": [
      "Total names: 32033\n",
      "Maximum length: 15\n",
      "['emma', 'olivia', 'ava', 'isabella', 'sophia', 'charlotte', 'mia', 'amelia']\n"
     ]
    }
   ],
   "source": [
    "# read in all the words\n",
    "words = open('data/names.txt', 'r').read().splitlines()\n",
    "print(f'Total names: {len(words)}')\n",
    "print(f'Maximum length: {max(len(w) for w in words)}')\n",
    "print(f'{words[:8]}')"
   ]
  },
  {
   "cell_type": "code",
   "execution_count": 4,
   "metadata": {},
   "outputs": [
    {
     "name": "stdout",
     "output_type": "stream",
     "text": [
      "{1: 'a', 2: 'b', 3: 'c', 4: 'd', 5: 'e', 6: 'f', 7: 'g', 8: 'h', 9: 'i', 10: 'j', 11: 'k', 12: 'l', 13: 'm', 14: 'n', 15: 'o', 16: 'p', 17: 'q', 18: 'r', 19: 's', 20: 't', 21: 'u', 22: 'v', 23: 'w', 24: 'x', 25: 'y', 26: 'z', 0: '.'}\n"
     ]
    }
   ],
   "source": [
    "# build the vocabulary of characters and mappings to/from integers\n",
    "chars = sorted(list(set(''.join(words))))\n",
    "stoi = {s:i+1 for i,s in enumerate(chars)}\n",
    "stoi['.'] = 0\n",
    "itos = {i:s for s,i in stoi.items()}\n",
    "vocab_size = len(itos)\n",
    "print(itos)\n",
    "# print(vocab_size)"
   ]
  },
  {
   "cell_type": "code",
   "execution_count": 5,
   "metadata": {},
   "outputs": [],
   "source": [
    "def split_dataset(words, bz):  \n",
    "  \"\"\" split the dataset into training, validating and testing. \"\"\"\n",
    "  \n",
    "  X, Y = [], []\n",
    "  \n",
    "  for w in words:\n",
    "    context = [0] * bz\n",
    "    for ch in w + '.':\n",
    "      ix = stoi[ch]\n",
    "      X.append(context)\n",
    "      Y.append(ix)\n",
    "      context = context[1:] + [ix] # crop and append\n",
    "\n",
    "  X = torch.tensor(X, device=device)\n",
    "  Y = torch.tensor(Y, device=device)\n",
    "  print(X.shape, Y.shape)\n",
    "  return X, Y"
   ]
  },
  {
   "cell_type": "code",
   "execution_count": 8,
   "metadata": {},
   "outputs": [],
   "source": [
    "block_size = 3 # context length: how many characters do we take to predict the next one?"
   ]
  },
  {
   "cell_type": "code",
   "execution_count": 9,
   "metadata": {},
   "outputs": [
    {
     "name": "stdout",
     "output_type": "stream",
     "text": [
      "torch.Size([182437, 3]) torch.Size([182437])\n",
      "torch.Size([22781, 3]) torch.Size([22781])\n",
      "torch.Size([22928, 3]) torch.Size([22928])\n"
     ]
    }
   ],
   "source": [
    "import random\n",
    "\n",
    "random.seed(42)\n",
    "random.shuffle(words)\n",
    "\n",
    "n1 = int(0.8*len(words))\n",
    "n2 = int(0.9*len(words))\n",
    "\n",
    "Xtr,  Ytr  = split_dataset(words[:n1], block_size)     # 80% training\n",
    "Xdev, Ydev = split_dataset(words[n1:n2], block_size)   # 10% validating\n",
    "Xte,  Yte  = split_dataset(words[n2:], block_size)     # 10% testing"
   ]
  },
  {
   "cell_type": "code",
   "execution_count": 12,
   "metadata": {},
   "outputs": [
    {
     "name": "stdout",
     "output_type": "stream",
     "text": [
      "training samples inputs: tensor([[19, 21, 12],\n",
      "        [21, 12,  5],\n",
      "        [12,  5, 13],\n",
      "        [ 5, 13,  1],\n",
      "        [13,  1, 14]], device='cuda:0')\n",
      "training samples outputs: tensor([ 5, 13,  1, 14,  0], device='cuda:0')\n"
     ]
    }
   ],
   "source": [
    "print(f'training samples inputs: {Xtr[10:15]}')\n",
    "print(f'training samples outputs: {Ytr[10:15]}')"
   ]
  },
  {
   "cell_type": "code",
   "execution_count": 37,
   "metadata": {},
   "outputs": [],
   "source": [
    "def cmp_grad(s, dt, t):\n",
    "    \"\"\" Compare manual gradients to Pytorch gradient\n",
    "    \n",
    "    params:\n",
    "        s: name of item for comparison\n",
    "        dt: the manual computational gradient\n",
    "        t: the gradient obtained by pytorch gradient \n",
    "    \"\"\"\n",
    "    ex = torch.all(dt == t.grad).item() # Compare the gradient computed by torch\n",
    "    app = torch.allclose(dt, t.grad)    # Compare the approximation gradient (floating point number issu)\n",
    "    maxdiff = (dt - t.grad).abs().max().item()\n",
    "    print(f'{s:15s} | exact: {str(ex):5s} | approximate: {str(app):5s} | maxdiff : {maxdiff}')"
   ]
  },
  {
   "cell_type": "code",
   "execution_count": 14,
   "metadata": {},
   "outputs": [],
   "source": [
    "# The model with two layers and an embedding layer\n",
    "# Embedding layer will encode [1, block_size] to [n_embd, block_size]\n",
    "\n",
    "n_embd = 10     # the dimensionality of the character embedding vectors\n",
    "n_hidden = 64   # the number of neurons in the hidden layer of the MLP\n",
    "\n",
    "g = torch.Generator().manual_seed(2147483647) # for reproducibility\n",
    "C  = torch.randn((vocab_size, n_embd),            generator=g)\n",
    "# Layer 1\n",
    "W1 = torch.randn((n_embd * block_size, n_hidden), generator=g) * (5/3)/((n_embd * block_size)**0.5)\n",
    "b1 = torch.randn(n_hidden,                        generator=g) * 0.1 # using b1 just for fun, it's useless because of BN\n",
    "# Layer 2\n",
    "W2 = torch.randn((n_hidden, vocab_size),          generator=g) * 0.1\n",
    "b2 = torch.randn(vocab_size,                      generator=g) * 0.1\n",
    "# BatchNorm parameters\n",
    "bngain = torch.randn((1, n_hidden))*0.1 + 1.0\n",
    "bnbias = torch.randn((1, n_hidden))*0.1"
   ]
  },
  {
   "cell_type": "code",
   "execution_count": 21,
   "metadata": {},
   "outputs": [
    {
     "name": "stdout",
     "output_type": "stream",
     "text": [
      "Total parameters: 4137\n"
     ]
    }
   ],
   "source": [
    "parameters = [C, W1, b1, W2, b2, bngain, bnbias]\n",
    "print(f'Total parameters: {sum(p.nelement() for p in parameters)}')\n",
    "for p in parameters:\n",
    "    p.requires_grad = True"
   ]
  },
  {
   "cell_type": "code",
   "execution_count": 22,
   "metadata": {},
   "outputs": [],
   "source": [
    "batch_size = 32\n",
    "n = batch_size # a shorter variable also, for convenience\n",
    "# construct a minibatch\n",
    "ix = torch.randint(0, Xtr.shape[0], (batch_size,), generator=g)\n",
    "Xb, Yb = Xtr[ix], Ytr[ix] # batch X,Y"
   ]
  },
  {
   "cell_type": "code",
   "execution_count": 24,
   "metadata": {},
   "outputs": [],
   "source": [
    "# forward pass, \"chunkated\" into smaller steps that are possible to backward one at a time\n",
    "\n",
    "emb = C[Xb] # embed the characters into vectors\n",
    "embcat = emb.view(emb.shape[0], -1) # concatenate the vectors\n",
    "# Linear layer 1\n",
    "hprebn = embcat @ W1 + b1 # hidden layer pre-activation\n",
    "# BatchNorm layer\n",
    "bnmeani = 1 / n * hprebn.sum(0, keepdim=True)\n",
    "bndiff = hprebn - bnmeani\n",
    "bndiff2 = bndiff ** 2\n",
    "bnvar = 1 / (n - 1) * (bndiff2).sum(0, keepdim=True) # note: Bessel's correction (dividing by n-1, not n)\n",
    "bnvar_inv = (bnvar + 1e-5) ** -0.5\n",
    "bnraw = bndiff * bnvar_inv\n",
    "hpreact = bngain * bnraw + bnbias\n",
    "# Non-linearity\n",
    "h = torch.tanh(hpreact) # hidden layer\n",
    "# Linear layer 2\n",
    "logits = h @ W2 + b2 # output layer\n",
    "# cross entropy loss (same as F.cross_entropy(logits, Yb))\n",
    "logit_maxes = logits.max(1, keepdim=True).values\n",
    "norm_logits = logits - logit_maxes # subtract max for numerical stability\n",
    "counts = norm_logits.exp()\n",
    "counts_sum = counts.sum(1, keepdims=True)\n",
    "counts_sum_inv = counts_sum ** -1 # if I use (1.0 / counts_sum) instead then I can't get backprop to be bit exact...\n",
    "probs = counts * counts_sum_inv\n",
    "logprobs = probs.log()\n",
    "loss = -logprobs[range(n), Yb].mean()"
   ]
  },
  {
   "cell_type": "code",
   "execution_count": 25,
   "metadata": {},
   "outputs": [
    {
     "data": {
      "text/plain": [
       "tensor(3.5122, grad_fn=<NegBackward0>)"
      ]
     },
     "execution_count": 25,
     "metadata": {},
     "output_type": "execute_result"
    }
   ],
   "source": [
    "# Gradient obtained by Pytorch backward()\n",
    "for p in parameters:\n",
    "  p.grad = None\n",
    "for t in [logprobs, probs, counts, counts_sum, counts_sum_inv, # afaik there is no cleaner way\n",
    "          norm_logits, logit_maxes, logits, h, hpreact, bnraw,\n",
    "          bnvar_inv, bnvar, bndiff2, bndiff, hprebn, bnmeani,\n",
    "          embcat, emb]:\n",
    "  t.retain_grad()\n",
    "loss.backward()\n",
    "loss"
   ]
  },
  {
   "cell_type": "code",
   "execution_count": 36,
   "metadata": {},
   "outputs": [
    {
     "name": "stdout",
     "output_type": "stream",
     "text": [
      "logprobs        | exact: True  | approximate: True  | maxdiff : 0.0\n"
     ]
    }
   ],
   "source": [
    "# The first step is to compute derivate of logprobs w.r.t the loss function \n",
    "# loss = -logprobs[range(n), Yb].mean()\n",
    "\n",
    "logprobs[range(batch_size), Yb] # Pick column values based on items in Yb from logprobs\n",
    "\n",
    "# An math example\n",
    "# loss = (a + b + c) / 3 = 1/3a + 1/3b + 1/3c\n",
    "# dloss/da = 1 / 3 => dloss/da = 1/n, where n is the number of all elements \n",
    "\n",
    "# Since logprobs is an 2d array, but only selected elements participate in gradient computation\n",
    "# those unselected elements are set to be 0, since they don't participate in gradient computation\n",
    "# and those selected position are set by 1/n, since the derivated of mean := 1/n \n",
    "dlogprobs = torch.zeros_like(logprobs)\n",
    "dlogprobs[range(n), Yb] = -1.0 / n \n",
    "cmp_grad(\"logprobs\", dlogprobs, logprobs)"
   ]
  },
  {
   "cell_type": "code",
   "execution_count": 38,
   "metadata": {},
   "outputs": [
    {
     "name": "stdout",
     "output_type": "stream",
     "text": [
      "probs           | exact: True  | approximate: True  | maxdiff : 0.0\n"
     ]
    }
   ],
   "source": [
    "# The second step is to compute derivate of probs w.r.t logprobs \n",
    "# logprobs = probs.log()\n",
    "# which is 1.0 / x\n",
    "dprobs = (1.0 / probs) * dlogprobs # By chain rule\n",
    "cmp_grad(\"probs\", dprobs, probs)"
   ]
  },
  {
   "cell_type": "code",
   "execution_count": 43,
   "metadata": {},
   "outputs": [
    {
     "name": "stdout",
     "output_type": "stream",
     "text": [
      "counts shape: torch.Size([32, 27]), counts_sum_inv shape: torch.Size([32, 1])\n",
      "counts_sum_inv  | exact: True  | approximate: True  | maxdiff : 0.0\n"
     ]
    }
   ],
   "source": [
    "# The third step is to compute derivate of counts_sum_inv w.r.t probs \n",
    "# there is an boardcase during the counts * counts_sum_inv\n",
    "# column in counts_sum_inv should be replicated 27 times to finish the element wise multiplication\n",
    "# c = a * b but with tensor\n",
    "print(f'counts shape: {counts.shape}, counts_sum_inv shape: {counts_sum_inv.shape}')\n",
    "\n",
    "# a[3x3] * b[3x1] =>\n",
    "# a11*b1 a12*b1 a13*b1\n",
    "# a21*b2 a22*b2 a23*b2\n",
    "# a31*b3 a32*b3 a33*b3\n",
    "# Thus b1, b2, and b3 have been used for multiple time, the gradient has to be sum up along all three elements\n",
    "\n",
    "# Then dcounts_sum_inv has to be sum up along the row \n",
    "# just like sum up the gradient in a node that mulitple branches cross in the computational graph \n",
    "dcounts_sum_inv = (counts * dprobs).sum(1, keepdim=True)\n",
    "\n",
    "cmp_grad(\"counts_sum_inv\", dcounts_sum_inv, counts_sum_inv)"
   ]
  },
  {
   "cell_type": "code",
   "execution_count": 44,
   "metadata": {},
   "outputs": [
    {
     "name": "stdout",
     "output_type": "stream",
     "text": [
      "counts_sum      | exact: True  | approximate: True  | maxdiff : 0.0\n"
     ]
    }
   ],
   "source": [
    "# The forth step is to compute derivate of counts_sum w.r.t counts_sum_inv \n",
    "dcounts_sum = -counts_sum ** -2 * dcounts_sum_inv\n",
    "cmp_grad(\"counts_sum\", dcounts_sum, counts_sum)"
   ]
  },
  {
   "cell_type": "code",
   "execution_count": 48,
   "metadata": {},
   "outputs": [
    {
     "name": "stdout",
     "output_type": "stream",
     "text": [
      "counts          | exact: True  | approximate: True  | maxdiff : 0.0\n"
     ]
    }
   ],
   "source": [
    "# The fifth step is to compute derivate of counts w.r.t counts_sum\n",
    "# there are two branches that contribute to the gradient of counts\n",
    "# the first is the counts_sum_inv, the second is counts_sum\n",
    "dcounts = counts_sum_inv * dprobs\n",
    "dcounts += torch.ones_like(counts) * dcounts_sum\n",
    "cmp_grad(\"counts\", dcounts, counts)"
   ]
  },
  {
   "cell_type": "code",
   "execution_count": 50,
   "metadata": {},
   "outputs": [
    {
     "name": "stdout",
     "output_type": "stream",
     "text": [
      "norm_logits     | exact: True  | approximate: True  | maxdiff : 0.0\n"
     ]
    }
   ],
   "source": [
    "# The sixth step is to compute the derivate of norm_logits w.r.t counts\n",
    "dnorm_logits = norm_logits.exp() * dcounts\n",
    "cmp_grad(\"norm_logits\", dnorm_logits, norm_logits)"
   ]
  },
  {
   "cell_type": "code",
   "execution_count": 53,
   "metadata": {},
   "outputs": [
    {
     "name": "stdout",
     "output_type": "stream",
     "text": [
      "torch.Size([32, 27]) torch.Size([32, 27]) torch.Size([32, 1])\n",
      "logit_maxes     | exact: True  | approximate: True  | maxdiff : 0.0\n"
     ]
    }
   ],
   "source": [
    "# The seventh step is to compute the derivate of logits_maxex w.r.t norm_logits\n",
    "print(norm_logits.shape, logits.shape, logit_maxes.shape)\n",
    "# Notice that the boardcasting is also needed in this process\n",
    "# thus sum up all replicated columns in the gradient computation\n",
    "dlogits_maxes = (-1 * dnorm_logits).sum(1, keepdim=True)\n",
    "cmp_grad(\"logit_maxes\", dlogits_maxes, logit_maxes)"
   ]
  },
  {
   "cell_type": "code",
   "execution_count": 55,
   "metadata": {},
   "outputs": [
    {
     "name": "stdout",
     "output_type": "stream",
     "text": [
      "logits          | exact: True  | approximate: True  | maxdiff : 0.0\n"
     ]
    },
    {
     "data": {
      "image/png": "[encoded data removed]",
      "text/plain": [
       "<Figure size 432x288 with 1 Axes>"
      ]
     },
     "metadata": {
      "needs_background": "light"
     },
     "output_type": "display_data"
    }
   ],
   "source": [
    "# The eighth step is to compute the derivate of logits w.r.t norm_logits\n",
    "dlogits = dnorm_logits.clone()\n",
    "plt.imshow(F.one_hot(logits.max(dim=1).indices, num_classes=logits.shape[1]))\n",
    "dlogits += F.one_hot(logits.max(dim=1).indices, num_classes=logits.shape[1]) * dlogits_maxes\n",
    "cmp_grad(\"logits\" ,dlogits, logits)"
   ]
  },
  {
   "cell_type": "code",
   "execution_count": null,
   "metadata": {},
   "outputs": [],
   "source": [
    "# "
   ]
  }
 ],
 "metadata": {
  "kernelspec": {
   "display_name": "Python 3.6.13 ('chatbot')",
   "language": "python",
   "name": "python3"
  },
  "language_info": {
   "codemirror_mode": {
    "name": "ipython",
    "version": 3
   },
   "file_extension": ".py",
   "mimetype": "text/x-python",
   "name": "python",
   "nbconvert_exporter": "python",
   "pygments_lexer": "ipython3",
   "version": "3.7.12"
  },
  "orig_nbformat": 4,
  "vscode": {
   "interpreter": {
    "hash": "ed9c9c3e68546c2fbc8feac55ae2478342f73dbf6ecebe03bad18f6ff3440e18"
   }
  }
 },
 "nbformat": 4,
 "nbformat_minor": 2
}
