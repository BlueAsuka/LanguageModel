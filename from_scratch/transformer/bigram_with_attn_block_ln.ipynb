{
 "cells": [
  {
   "cell_type": "code",
   "execution_count": 32,
   "metadata": {},
   "outputs": [
    {
     "data": {
      "text/plain": [
       "<torch._C.Generator at 0x23f84978890>"
      ]
     },
     "execution_count": 32,
     "metadata": {},
     "output_type": "execute_result"
    }
   ],
   "source": [
    "import torch\n",
    "import torch.nn as nn\n",
    "import torch.nn.functional as F\n",
    "torch.manual_seed(1337)"
   ]
  },
  {
   "cell_type": "code",
   "execution_count": 33,
   "metadata": {},
   "outputs": [],
   "source": [
    "DEVICE = 'cuda' if torch.cuda.is_available() else 'cpu'"
   ]
  },
  {
   "cell_type": "code",
   "execution_count": 34,
   "metadata": {},
   "outputs": [],
   "source": [
    "with open('../data/input.txt', 'r', encoding='utf-8') as f:\n",
    "    shakespeare = f.read()\n",
    "    \n",
    "# List all unique characters that occurs in the input text\n",
    "chars = sorted(list(set(shakespeare)))\n",
    "vocab_size = len(chars)"
   ]
  },
  {
   "cell_type": "code",
   "execution_count": 35,
   "metadata": {},
   "outputs": [],
   "source": [
    "# mapping from characters to integers for encoding\n",
    "stoi = { ch:i for i, ch in enumerate(chars) }\n",
    "itos = { i:ch for i, ch in enumerate(chars) }\n",
    "encode = lambda s : [stoi[c] for c in s] # Take a string and output a list of integers\n",
    "decode = lambda i : ''.join([itos[c] for c in i]) # Take a list of integers and output a list of string"
   ]
  },
  {
   "cell_type": "code",
   "execution_count": 36,
   "metadata": {},
   "outputs": [],
   "source": [
    "# encode the entire text dataset and store it into a torch.Tensor\n",
    "data = torch.tensor(encode(shakespeare), dtype=torch.long)"
   ]
  },
  {
   "cell_type": "code",
   "execution_count": 37,
   "metadata": {},
   "outputs": [],
   "source": [
    "# Let's now split up the data into train and validation sets\n",
    "n = int(0.9*len(data)) # first 90% will be train, rest val\n",
    "train_data = data[:n]\n",
    "val_data = data[n:]"
   ]
  },
  {
   "cell_type": "code",
   "execution_count": 38,
   "metadata": {},
   "outputs": [],
   "source": [
    "torch.manual_seed(1337)\n",
    "batch_size = 4 # How many independent sequences will be process in parallel?\n",
    "block_size = 8 # What is the maximum context length for predictions?"
   ]
  },
  {
   "cell_type": "code",
   "execution_count": 39,
   "metadata": {},
   "outputs": [],
   "source": [
    "def get_batch(split):\n",
    "    data = train_data if split == 'train' else val_data\n",
    "    ix = torch.randint(len(data) - block_size, (batch_size,))\n",
    "    x = torch.stack([data[i:i+block_size] for i in ix])\n",
    "    y = torch.stack([data[i+1:i+block_size+1] for i in ix])\n",
    "    return x.to(device=DEVICE), y.to(device=DEVICE)"
   ]
  },
  {
   "cell_type": "code",
   "execution_count": 40,
   "metadata": {},
   "outputs": [],
   "source": [
    "class Head(nn.Module):\n",
    "    \"\"\" One head of self-attention \"\"\"\n",
    "    \n",
    "    def __init__(self, n_embd, block_size, head_size) -> None:\n",
    "        super().__init__()\n",
    "        self.key = nn.Linear(n_embd, head_size, bias=False)\n",
    "        self.query = nn.Linear(n_embd, head_size, bias=False)\n",
    "        self.value = nn.Linear(n_embd, head_size, bias=False)\n",
    "        self.register_buffer('tril', torch.tril((torch.ones(block_size, block_size))))\n",
    "    \n",
    "    def forward(self, x):\n",
    "        B, T, C = x.shape\n",
    "        \n",
    "        # Compute the attention score using k and q \n",
    "        k = self.key(x)\n",
    "        q = self.query(x)\n",
    "        w = q @ k.transpose(-2, -1) * C ** -0.5\n",
    "        w = w.masked_fill(self.tril[:T, :T] == 0, float('-inf'))\n",
    "        w = F.softmax(w, dim=-1)\n",
    "        \n",
    "        # weight aggregation of the values using the attention score\n",
    "        v = self.value(x)\n",
    "        out = w @ v\n",
    "        \n",
    "        return out"
   ]
  },
  {
   "cell_type": "code",
   "execution_count": 41,
   "metadata": {},
   "outputs": [],
   "source": [
    "class MultiHeadAttention(nn.Module):\n",
    "    \"\"\" multiple heads of self-attention in parallel \"\"\"\n",
    "    \n",
    "    def __init__(self, n_embd, block_size, head_size, n_head):\n",
    "        super().__init__()\n",
    "        self.head = nn.ModuleList([Head(n_embd, block_size, head_size) for _ in range(n_head)])\n",
    "        self.proj = nn.Linear(n_embd, n_embd)\n",
    "\n",
    "    def forward(self, x):\n",
    "        # Use multiple heads of self-attention \n",
    "        # Concatanate each output alone the embedding dimension (B, T ,C), that is merged alone C\n",
    "        out = torch.cat([h(x) for h in self.head], dim=-1)\n",
    "        out = self.proj(out)\n",
    "        return out"
   ]
  },
  {
   "cell_type": "code",
   "execution_count": 42,
   "metadata": {},
   "outputs": [],
   "source": [
    "class FeedForward(nn.Module):\n",
    "    \"\"\" A simple linear layer followed by a non-linearity \"\"\"\n",
    "    \n",
    "    def __init__(self, n_embd) -> None:\n",
    "        super().__init__()\n",
    "        self.net = nn.Sequential(\n",
    "                    nn.Linear(n_embd, 4 * n_embd),\n",
    "                    nn.ReLU(),\n",
    "                    nn.Linear(4 * n_embd, n_embd),\n",
    "        )\n",
    "        \n",
    "    def forward(self, x):\n",
    "        return self.net(x)"
   ]
  },
  {
   "cell_type": "code",
   "execution_count": 43,
   "metadata": {},
   "outputs": [],
   "source": [
    "class AttnBlock(nn.Module):\n",
    "    def __init__(self, n_embd, block_size, n_head) -> None:\n",
    "        super().__init__()\n",
    "        head_size = n_embd // n_head\n",
    "        self.attn = MultiHeadAttention(n_embd, block_size, head_size, n_head)\n",
    "        self.ffn = FeedForward(n_embd)\n",
    "        \n",
    "        # ------------------modified--------------------------------------\n",
    "        self.ln = nn.LayerNorm(n_embd)\n",
    "        # ------------------modified--------------------------------------\n",
    "    \n",
    "    def forward(self, x):\n",
    "        # ------------------modified--------------------------------------\n",
    "        # Use the residual connection with layernorm\n",
    "        x = x + self.attn(self.ln(x))\n",
    "        x = x + self.ffn(self.ln(x))\n",
    "        # ------------------modified--------------------------------------\n",
    "\n",
    "        return x"
   ]
  },
  {
   "cell_type": "code",
   "execution_count": 44,
   "metadata": {},
   "outputs": [],
   "source": [
    "# A modified neural network for bigram model\n",
    "class BigramLanguageModel(nn.Module):\n",
    "    def __init__(self, vocab_size, n_embd, block_size, n_head) -> None:\n",
    "        super().__init__()\n",
    "        self.block_size = block_size\n",
    "        self.token_embedding_table = nn.Embedding(vocab_size, n_embd)\n",
    "        self.position_embedding_table = nn.Embedding(block_size, n_embd)\n",
    "\n",
    "        # Use attention block consisting of the multi-head attention and feedforward layer\n",
    "        self.attn_blocks = nn.Sequential(\n",
    "                AttnBlock(n_embd, block_size, n_head),\n",
    "                AttnBlock(n_embd, block_size, n_head),\n",
    "                AttnBlock(n_embd, block_size, n_head),\n",
    "                nn.LayerNorm(n_embd),\n",
    "        )\n",
    "\n",
    "        self.ln_head = nn.Linear(n_embd, vocab_size)\n",
    "    \n",
    "    def forward(self, idx, targets=None):\n",
    "        B, T = idx.shape\n",
    "        tok_emb = self.token_embedding_table(idx) # (B, T, n_embd)\n",
    "        pos_emb = self.position_embedding_table(torch.arange(T, device=DEVICE))\n",
    "        x = tok_emb + pos_emb\n",
    "\n",
    "        # ------------------modified--------------------------------------\n",
    "        # use the attention blocks\n",
    "        x = self.attn_blocks(x)\n",
    "        # ------------------modified--------------------------------------\n",
    "\n",
    "        logits = self.ln_head(x)            \n",
    "        \n",
    "        if targets is None: # for generation without providing target\n",
    "            loss = None\n",
    "        else:\n",
    "            # Reshape the logits tensor to meet definition of the cross_entropy function in Pytorch\n",
    "            B, T, C = logits.shape\n",
    "            logits = logits.view(B*T, C) # Concatenate B, T\n",
    "            targets = targets.view(B*T)    # Same reshaping to the target tensor\n",
    "            loss = F.cross_entropy(logits, targets) # calculate the loss\n",
    "        \n",
    "        return logits, loss\n",
    "    \n",
    "    def generation(self, idx, max_new_tokens):\n",
    "        # idx is (B, T) array of indices in the current context\n",
    "        for _ in range(max_new_tokens):\n",
    "            # crop idx to the last block_size tokens to meet position embedding range\n",
    "            idx_crop = idx[:, -self.block_size:]\n",
    "            \n",
    "            # get the predictions\n",
    "            logits, _ = self(idx_crop)\n",
    "            \n",
    "            # focus only on the last time step\n",
    "            logits = logits[:, -1, :] # becomes (B, C)\n",
    "            \n",
    "            # apply softmax to get probabilities\n",
    "            probs = F.softmax(logits, dim=-1) # (B, C)\n",
    "            \n",
    "            # sample from the distribution\n",
    "            idx_next = torch.multinomial(probs, num_samples=1) # (B, 1)\n",
    "            \n",
    "            # append sampled index to the running sequence\n",
    "            idx = torch.cat((idx, idx_next), dim=1) # (B, T+1)\n",
    "            \n",
    "        return idx"
   ]
  },
  {
   "cell_type": "code",
   "execution_count": 45,
   "metadata": {},
   "outputs": [
    {
     "data": {
      "text/plain": [
       "BigramLanguageModel(\n",
       "  (token_embedding_table): Embedding(65, 32)\n",
       "  (position_embedding_table): Embedding(8, 32)\n",
       "  (attn_blocks): Sequential(\n",
       "    (0): AttnBlock(\n",
       "      (attn): MultiHeadAttention(\n",
       "        (head): ModuleList(\n",
       "          (0-3): 4 x Head(\n",
       "            (key): Linear(in_features=32, out_features=8, bias=False)\n",
       "            (query): Linear(in_features=32, out_features=8, bias=False)\n",
       "            (value): Linear(in_features=32, out_features=8, bias=False)\n",
       "          )\n",
       "        )\n",
       "        (proj): Linear(in_features=32, out_features=32, bias=True)\n",
       "      )\n",
       "      (ffn): FeedForward(\n",
       "        (net): Sequential(\n",
       "          (0): Linear(in_features=32, out_features=128, bias=True)\n",
       "          (1): ReLU()\n",
       "          (2): Linear(in_features=128, out_features=32, bias=True)\n",
       "        )\n",
       "      )\n",
       "      (ln): LayerNorm((32,), eps=1e-05, elementwise_affine=True)\n",
       "    )\n",
       "    (1): AttnBlock(\n",
       "      (attn): MultiHeadAttention(\n",
       "        (head): ModuleList(\n",
       "          (0-3): 4 x Head(\n",
       "            (key): Linear(in_features=32, out_features=8, bias=False)\n",
       "            (query): Linear(in_features=32, out_features=8, bias=False)\n",
       "            (value): Linear(in_features=32, out_features=8, bias=False)\n",
       "          )\n",
       "        )\n",
       "        (proj): Linear(in_features=32, out_features=32, bias=True)\n",
       "      )\n",
       "      (ffn): FeedForward(\n",
       "        (net): Sequential(\n",
       "          (0): Linear(in_features=32, out_features=128, bias=True)\n",
       "          (1): ReLU()\n",
       "          (2): Linear(in_features=128, out_features=32, bias=True)\n",
       "        )\n",
       "      )\n",
       "      (ln): LayerNorm((32,), eps=1e-05, elementwise_affine=True)\n",
       "    )\n",
       "    (2): AttnBlock(\n",
       "      (attn): MultiHeadAttention(\n",
       "        (head): ModuleList(\n",
       "          (0-3): 4 x Head(\n",
       "            (key): Linear(in_features=32, out_features=8, bias=False)\n",
       "            (query): Linear(in_features=32, out_features=8, bias=False)\n",
       "            (value): Linear(in_features=32, out_features=8, bias=False)\n",
       "          )\n",
       "        )\n",
       "        (proj): Linear(in_features=32, out_features=32, bias=True)\n",
       "      )\n",
       "      (ffn): FeedForward(\n",
       "        (net): Sequential(\n",
       "          (0): Linear(in_features=32, out_features=128, bias=True)\n",
       "          (1): ReLU()\n",
       "          (2): Linear(in_features=128, out_features=32, bias=True)\n",
       "        )\n",
       "      )\n",
       "      (ln): LayerNorm((32,), eps=1e-05, elementwise_affine=True)\n",
       "    )\n",
       "    (3): LayerNorm((32,), eps=1e-05, elementwise_affine=True)\n",
       "  )\n",
       "  (ln_head): Linear(in_features=32, out_features=65, bias=True)\n",
       ")"
      ]
     },
     "execution_count": 45,
     "metadata": {},
     "output_type": "execute_result"
    }
   ],
   "source": [
    "model = BigramLanguageModel(vocab_size, n_embd=32, block_size=block_size, n_head=4)\n",
    "model.to(device=DEVICE)"
   ]
  },
  {
   "cell_type": "code",
   "execution_count": 46,
   "metadata": {},
   "outputs": [],
   "source": [
    "optimizer = torch.optim.AdamW(model.parameters(), lr=1e-3)"
   ]
  },
  {
   "cell_type": "code",
   "execution_count": 47,
   "metadata": {},
   "outputs": [
    {
     "name": "stderr",
     "output_type": "stream",
     "text": [
      "100%|██████████| 10000/10000 [01:54<00:00, 87.19it/s]\n"
     ]
    }
   ],
   "source": [
    "from tqdm import tqdm\n",
    "\n",
    "batch_size = 32\n",
    "epochs = 10000\n",
    "losses = []\n",
    "for e in tqdm(range(epochs)):\n",
    "    xb, yb = get_batch('train')\n",
    "    \n",
    "    logits, loss = model(xb, yb)\n",
    "    optimizer.zero_grad(set_to_none=True)\n",
    "    loss.backward()\n",
    "    optimizer.step()\n",
    "    losses.append(loss.item())"
   ]
  },
  {
   "cell_type": "code",
   "execution_count": 48,
   "metadata": {},
   "outputs": [
    {
     "name": "stdout",
     "output_type": "stream",
     "text": [
      "1.991146445274353\n"
     ]
    }
   ],
   "source": [
    "print(loss.item())"
   ]
  },
  {
   "cell_type": "code",
   "execution_count": 50,
   "metadata": {},
   "outputs": [
    {
     "name": "stdout",
     "output_type": "stream",
     "text": [
      "\n",
      "Men panss and grition I what you so a cemost.\n",
      "\n",
      "DUKE VINCENTIO:\n",
      "Was mayst abjess fincle to one.\n",
      "\n",
      "Thuch fripy:\n",
      "Which might. \n",
      "CEOMPARK:\n",
      "Make therseled and he moveto imdians\n",
      "Less's colmeed; bose so not his re'er lates:\n",
      "Whit Clonvers! I know, look tone.\n",
      "\n",
      "xo leard: he and that hichbur's am know it bump nemided so lacknow a speak their subs?\n",
      "Their hath bronain, dree?\n",
      "Fyraiter,\n",
      "How time done no stee summondip you ou what thang the silst, Bloost mans as hear the biddraw thine.\n",
      "\n",
      "EWIZABETER:\n",
      "S;\n",
      "To know our\n"
     ]
    }
   ],
   "source": [
    "print(decode(model.generation(idx=torch.zeros((1, 1), dtype=torch.long, device=DEVICE), max_new_tokens=500)[0].tolist()))"
   ]
  },
  {
   "cell_type": "code",
   "execution_count": null,
   "metadata": {},
   "outputs": [],
   "source": []
  }
 ],
 "metadata": {
  "kernelspec": {
   "display_name": "torch",
   "language": "python",
   "name": "python3"
  },
  "language_info": {
   "codemirror_mode": {
    "name": "ipython",
    "version": 3
   },
   "file_extension": ".py",
   "mimetype": "text/x-python",
   "name": "python",
   "nbconvert_exporter": "python",
   "pygments_lexer": "ipython3",
   "version": "3.10.11"
  },
  "orig_nbformat": 4
 },
 "nbformat": 4,
 "nbformat_minor": 2
}
