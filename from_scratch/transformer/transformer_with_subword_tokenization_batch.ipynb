{
 "cells": [
  {
   "cell_type": "code",
   "execution_count": 2,
   "metadata": {},
   "outputs": [],
   "source": [
    "from nltk.tokenize import word_tokenize\n",
    "import torch\n",
    "import torch.nn as nn\n",
    "import torch.nn.functional as F\n",
    "import math\n",
    "from transformers import XLNetTokenizer"
   ]
  },
  {
   "cell_type": "code",
   "execution_count": 3,
   "metadata": {},
   "outputs": [],
   "source": [
    "DEVICE = 'cuda' if torch.cuda.is_available() else 'cpu'"
   ]
  },
  {
   "cell_type": "code",
   "execution_count": 4,
   "metadata": {},
   "outputs": [],
   "source": [
    "with open('../data/input.txt', 'r', encoding='utf-8') as f:\n",
    "    text = f.read()"
   ]
  },
  {
   "cell_type": "code",
   "execution_count": 5,
   "metadata": {},
   "outputs": [],
   "source": [
    "flatten = lambda l: [item for sublist in l for item in sublist]"
   ]
  },
  {
   "cell_type": "code",
   "execution_count": 6,
   "metadata": {},
   "outputs": [],
   "source": [
    "tokenizer = XLNetTokenizer.from_pretrained('xlnet-base-cased')"
   ]
  },
  {
   "cell_type": "code",
   "execution_count": 7,
   "metadata": {},
   "outputs": [],
   "source": [
    "def split_newline(text):\n",
    "    text = text.split(' ')\n",
    "    \n",
    "    for i, substring in enumerate(text):\n",
    "        # detect substring containing the newline symbol '\\n'\n",
    "        if '\\n' in substring:\n",
    "            # split the substring by characters\n",
    "            chars = [c for c in substring]\n",
    "            \n",
    "            sindex = 0\n",
    "            split_substring_list = []\n",
    "            for j, char in enumerate(chars):\n",
    "                # When meets a newline, append all previous chars as a substring ([sindex:j])\n",
    "                if char == '\\n':\n",
    "                    c_chars = ''.join(chars[sindex:j])\n",
    "                    if  c_chars != '':\n",
    "                        split_substring_list.append(c_chars)\n",
    "                    # Then added the '\\n'\n",
    "                    split_substring_list.append('\\n')\n",
    "                    # Update the sindex\n",
    "                    sindex = j + 1\n",
    "            # Added the rest of all chars as a substring\n",
    "            split_substring_list.append(''.join(chars[sindex:]))\n",
    "            # Replace the original string by a list of string\n",
    "            text[i] = split_substring_list\n",
    "        else:\n",
    "            # warp other items as a list\n",
    "            text[i] = [substring]\n",
    "    \n",
    "    # Flatten the \n",
    "    return flatten(text)\n",
    "\n",
    "def tokenization(text):\n",
    "    for i, token in enumerate(text):\n",
    "        # print(token)\n",
    "        if token == '\\n':\n",
    "            continue\n",
    "        text[i] = tokenizer.tokenize(token)\n",
    "    \n",
    "    return flatten(text)"
   ]
  },
  {
   "cell_type": "code",
   "execution_count": 8,
   "metadata": {},
   "outputs": [],
   "source": [
    "processed_text = (tokenization(split_newline(text)))"
   ]
  },
  {
   "cell_type": "code",
   "execution_count": 33,
   "metadata": {},
   "outputs": [
    {
     "name": "stdout",
     "output_type": "stream",
     "text": [
      "TOTAL words num: 9669\n"
     ]
    }
   ],
   "source": [
    "words = sorted(list(set(processed_text)))\n",
    "vocab_size = len(words)\n",
    "print(f'TOTAL words num: {len(words)}')\n",
    "\n",
    "# create a mapping from characters to integers\n",
    "stoi = { w:i for i,w in enumerate(words) }\n",
    "itos = { i:w for i,w in enumerate(words) }\n",
    "encode = lambda s: [stoi[c] for c in s] # encoder: take a string, output a list of integers\n",
    "decode = lambda l: ''.join([itos[i] for i in l]).replace('▁', ' ') # decoder: take a list of integers, output a string\n",
    "\n",
    "# encode the entire text dataset and store it into a torch.Tensor\n",
    "data = torch.tensor(encode(processed_text), dtype=torch.long)"
   ]
  },
  {
   "cell_type": "code",
   "execution_count": 31,
   "metadata": {},
   "outputs": [
    {
     "name": "stdout",
     "output_type": "stream",
     "text": [
      "The size of train data is : 319013\n",
      "The size of val data is : 35446\n"
     ]
    }
   ],
   "source": [
    "# Let's now split up the data into train and validation sets\n",
    "n = int(0.9*len(data)) # first 90% will be train, rest val\n",
    "train_data = data[:n]\n",
    "val_data = data[n:]\n",
    "print(f'The size of train data is : {len(train_data)}')\n",
    "print(f'The size of val data is : {len(val_data)}')"
   ]
  },
  {
   "cell_type": "code",
   "execution_count": 11,
   "metadata": {},
   "outputs": [],
   "source": [
    "torch.manual_seed(1337)\n",
    "batch_size = 4 # How many independent sequences will be process in parallel?\n",
    "block_size = 8 # What is the maximum context length for predictions?"
   ]
  },
  {
   "cell_type": "code",
   "execution_count": 12,
   "metadata": {},
   "outputs": [],
   "source": [
    "def get_batch(batch_size, block_size, split):\n",
    "    data = train_data if split == 'train' else val_data\n",
    "    \n",
    "    sindex = 0\n",
    "    eindex = batch_size * block_size\n",
    "    while eindex < (len(data) - block_size):\n",
    "        # Extract batch_size * block_size tokens in the data\n",
    "        xb = data[sindex: eindex]\n",
    "        yb = data[sindex+1: eindex+1]\n",
    "        # Reshape the batch by the shape (batch_size, block_size)\n",
    "        xb = xb.reshape(batch_size, block_size)\n",
    "        yb = yb.reshape(batch_size, block_size)\n",
    "        # Update the indexes for extracting tokens sections\n",
    "        temp = eindex\n",
    "        eindex = eindex + block_size * batch_size\n",
    "        sindex = temp\n",
    "        yield xb.to(DEVICE), yb.to(DEVICE)\n",
    "    \n",
    "    # For the last batch that cannot be batched as in the size (batch_size, block_size)\n",
    "    # Maintain the 'block_size' dimension\n",
    "    if eindex >= (len(data) - block_size):\n",
    "        # The number of useable completed sample including 'block_size' elements\n",
    "        num_sample = (len(data) - sindex) // block_size \n",
    "        if num_sample >= 1:\n",
    "            xb = data[sindex: sindex + (num_sample * block_size)]\n",
    "            yb = data[sindex+1: sindex + (num_sample * block_size)+1]\n",
    "            xb = xb.reshape(num_sample, block_size)\n",
    "            yb = yb.reshape(num_sample, block_size)\n",
    "            yield xb.to(DEVICE), yb.to(DEVICE)"
   ]
  },
  {
   "cell_type": "code",
   "execution_count": 13,
   "metadata": {},
   "outputs": [
    {
     "name": "stdout",
     "output_type": "stream",
     "text": [
      "inputs:\n",
      "torch.Size([4, 8])\n",
      "tensor([[3009, 2545,   80,    7,    0, 2682, 9475, 7773],\n",
      "        [4257, 6117,    4, 6363, 7025, 8635,    6,    0],\n",
      "        [   0, 2594,    7,    0, 2545,  314, 1818,    4],\n",
      "        [8635,    6,    0,    0, 3009, 2545,   80,    7]], device='cuda:0')\n",
      "targets:\n",
      "torch.Size([4, 8])\n",
      "tensor([[2545,   80,    7,    0, 2682, 9475, 7773, 4257],\n",
      "        [6117,    4, 6363, 7025, 8635,    6,    0,    0],\n",
      "        [2594,    7,    0, 2545,  314, 1818,    4, 8635],\n",
      "        [   6,    0,    0, 3009, 2545,   80,    7,    0]], device='cuda:0')\n"
     ]
    }
   ],
   "source": [
    "for i, batch in enumerate(get_batch(batch_size, block_size, 'train')):\n",
    "    xb, yb = batch\n",
    "    if i < 1:\n",
    "        print('inputs:')\n",
    "        print(xb.shape)\n",
    "        print(xb)\n",
    "        print('targets:')\n",
    "        print(yb.shape)\n",
    "        print(yb)"
   ]
  },
  {
   "cell_type": "code",
   "execution_count": 14,
   "metadata": {},
   "outputs": [],
   "source": [
    "# for b in range(batch_size): # batch dimension\n",
    "#     print(f'batch {b+1}/{batch_size}')\n",
    "#     for t in range(block_size): # time dimension\n",
    "#         context = xb[b, :t+1]\n",
    "#         target = yb[b,t]\n",
    "#         print(f\"when input is {context.tolist()} the target: {target}\")\n",
    "#     print()"
   ]
  },
  {
   "cell_type": "code",
   "execution_count": 15,
   "metadata": {},
   "outputs": [],
   "source": [
    "# hyperparameters\n",
    "batch_size = 32 # how many independent sequences will we process in parallel?\n",
    "block_size = 128 # what is the maximum context length for predictions?\n",
    "max_iters = 2000\n",
    "eval_interval = 500\n",
    "learning_rate = 3e-4\n",
    "eval_iters = 150\n",
    "n_embd = 256\n",
    "n_head = 16\n",
    "n_layer = 8\n",
    "dropout = 0.3\n",
    "# ------------"
   ]
  },
  {
   "cell_type": "code",
   "execution_count": 16,
   "metadata": {},
   "outputs": [],
   "source": [
    "class Head(nn.Module):\n",
    "    \"\"\" one head of self-attention \"\"\"\n",
    "\n",
    "    def __init__(self, head_size):\n",
    "        super().__init__()\n",
    "        self.key = nn.Linear(n_embd, head_size, bias=False)\n",
    "        self.query = nn.Linear(n_embd, head_size, bias=False)\n",
    "        self.value = nn.Linear(n_embd, head_size, bias=False)\n",
    "        self.register_buffer('tril', torch.tril(torch.ones(block_size, block_size)))\n",
    "\n",
    "        self.dropout = nn.Dropout(dropout)\n",
    "\n",
    "    def forward(self, x):\n",
    "        # input of size (batch, time-step, channels)\n",
    "        # output of size (batch, time-step, head size)\n",
    "        B,T,C = x.shape\n",
    "        k = self.key(x)   # (B,T,hs)\n",
    "        q = self.query(x) # (B,T,hs)\n",
    "        # compute attention scores (\"affinities\")\n",
    "        wei = q @ k.transpose(-2,-1) * k.shape[-1]**-0.5 # (B, T, hs) @ (B, hs, T) -> (B, T, T)\n",
    "        wei = wei.masked_fill(self.tril[:T, :T] == 0, float('-inf')) # (B, T, T)\n",
    "        wei = F.softmax(wei, dim=-1) # (B, T, T)\n",
    "        wei = self.dropout(wei)\n",
    "        # perform the weighted aggregation of the values\n",
    "        v = self.value(x) # (B,T,hs)\n",
    "        out = wei @ v # (B, T, T) @ (B, T, hs) -> (B, T, hs)\n",
    "        return out\n",
    "\n",
    "class MultiHeadAttention(nn.Module):\n",
    "    \"\"\" multiple heads of self-attention in parallel \"\"\"\n",
    "\n",
    "    def __init__(self, num_heads, head_size):\n",
    "        super().__init__()\n",
    "        self.heads = nn.ModuleList([Head(head_size) for _ in range(num_heads)])\n",
    "        self.proj = nn.Linear(head_size * num_heads, n_embd)\n",
    "        self.dropout = nn.Dropout(dropout)\n",
    "\n",
    "    def forward(self, x):\n",
    "        out = torch.cat([h(x) for h in self.heads], dim=-1)\n",
    "        out = self.dropout(self.proj(out))\n",
    "        return out\n",
    "\n",
    "class FeedFoward(nn.Module):\n",
    "    \"\"\" a simple linear layer followed by a non-linearity \"\"\"\n",
    "\n",
    "    def __init__(self, n_embd):\n",
    "        super().__init__()\n",
    "        self.net = nn.Sequential(\n",
    "            nn.Linear(n_embd, 4 * n_embd),\n",
    "            nn.ReLU(),\n",
    "            nn.Linear(4 * n_embd, n_embd),\n",
    "            nn.Dropout(dropout),\n",
    "        )\n",
    "\n",
    "    def forward(self, x):\n",
    "        return self.net(x)\n",
    "\n",
    "class Block(nn.Module):\n",
    "    \"\"\" Transformer block: communication followed by computation \"\"\"\n",
    "\n",
    "    def __init__(self, n_embd, n_head):\n",
    "        # n_embd: embedding dimension, n_head: the number of heads we'd like\n",
    "        super().__init__()\n",
    "        head_size = n_embd // n_head\n",
    "        self.sa = MultiHeadAttention(n_head, head_size)\n",
    "        self.ffwd = FeedFoward(n_embd)\n",
    "        self.ln1 = nn.LayerNorm(n_embd)\n",
    "        self.ln2 = nn.LayerNorm(n_embd)\n",
    "\n",
    "    def forward(self, x):\n",
    "        x = x + self.sa(self.ln1(x))\n",
    "        x = x + self.ffwd(self.ln2(x))\n",
    "        return x\n",
    "\n",
    "class GPTLanguageModel(nn.Module):\n",
    "\n",
    "    def __init__(self):\n",
    "        super().__init__()\n",
    "        # each token directly reads off the logits for the next token from a lookup table\n",
    "        self.token_embedding_table = nn.Embedding(vocab_size, n_embd)\n",
    "        self.position_embedding_table = nn.Embedding(block_size, n_embd)\n",
    "        self.blocks = nn.Sequential(*[Block(n_embd, n_head=n_head) for _ in range(n_layer)])\n",
    "        self.ln_f = nn.LayerNorm(n_embd) # final layer norm\n",
    "        self.lm_head = nn.Linear(n_embd, vocab_size)\n",
    "\n",
    "        # better init, not covered in the original GPT video, but important, will cover in followup video\n",
    "        self.apply(self._init_weights)\n",
    "\n",
    "    def _init_weights(self, module):\n",
    "        if isinstance(module, nn.Linear):\n",
    "            torch.nn.init.normal_(module.weight, mean=0.0, std=0.02)\n",
    "            if module.bias is not None:\n",
    "                torch.nn.init.zeros_(module.bias)\n",
    "        elif isinstance(module, nn.Embedding):\n",
    "            torch.nn.init.normal_(module.weight, mean=0.0, std=0.02)\n",
    "\n",
    "    def forward(self, idx, targets=None):\n",
    "        B, T = idx.shape\n",
    "\n",
    "        # idx and targets are both (B,T) tensor of integers\n",
    "        tok_emb = self.token_embedding_table(idx) # (B,T,C)\n",
    "        pos_emb = self.position_embedding_table(torch.arange(T, device=DEVICE)) # (T,C)\n",
    "        x = tok_emb + pos_emb # (B,T,C)\n",
    "        x = self.blocks(x) # (B,T,C)\n",
    "        x = self.ln_f(x) # (B,T,C)\n",
    "        logits = self.lm_head(x) # (B,T,vocab_size)\n",
    "\n",
    "        if targets is None:\n",
    "            loss = None\n",
    "        else:\n",
    "            B, T, C = logits.shape\n",
    "            logits = logits.view(B*T, C)\n",
    "            targets = targets.view(B*T)\n",
    "            loss = F.cross_entropy(logits, targets)\n",
    "\n",
    "        return logits, loss\n",
    "\n",
    "    def generate(self, idx, max_new_tokens):\n",
    "        # idx is (B, T) array of indices in the current context\n",
    "        for _ in range(max_new_tokens):\n",
    "            # crop idx to the last block_size tokens\n",
    "            idx_cond = idx[:, -block_size:]\n",
    "            # get the predictions\n",
    "            logits, loss = self(idx_cond)\n",
    "            # focus only on the last time step\n",
    "            logits = logits[:, -1, :] # becomes (B, C)\n",
    "            # apply softmax to get probabilities\n",
    "            probs = F.softmax(logits, dim=-1) # (B, C)\n",
    "            # sample from the distribution\n",
    "            idx_next = torch.multinomial(probs, num_samples=1) # (B, 1)\n",
    "            # append sampled index to the running sequence\n",
    "            idx = torch.cat((idx, idx_next), dim=1) # (B, T+1)\n",
    "        return idx"
   ]
  },
  {
   "cell_type": "code",
   "execution_count": 17,
   "metadata": {},
   "outputs": [
    {
     "data": {
      "text/plain": [
       "GPTLanguageModel(\n",
       "  (token_embedding_table): Embedding(9669, 256)\n",
       "  (position_embedding_table): Embedding(128, 256)\n",
       "  (blocks): Sequential(\n",
       "    (0): Block(\n",
       "      (sa): MultiHeadAttention(\n",
       "        (heads): ModuleList(\n",
       "          (0-15): 16 x Head(\n",
       "            (key): Linear(in_features=256, out_features=16, bias=False)\n",
       "            (query): Linear(in_features=256, out_features=16, bias=False)\n",
       "            (value): Linear(in_features=256, out_features=16, bias=False)\n",
       "            (dropout): Dropout(p=0.3, inplace=False)\n",
       "          )\n",
       "        )\n",
       "        (proj): Linear(in_features=256, out_features=256, bias=True)\n",
       "        (dropout): Dropout(p=0.3, inplace=False)\n",
       "      )\n",
       "      (ffwd): FeedFoward(\n",
       "        (net): Sequential(\n",
       "          (0): Linear(in_features=256, out_features=1024, bias=True)\n",
       "          (1): ReLU()\n",
       "          (2): Linear(in_features=1024, out_features=256, bias=True)\n",
       "          (3): Dropout(p=0.3, inplace=False)\n",
       "        )\n",
       "      )\n",
       "      (ln1): LayerNorm((256,), eps=1e-05, elementwise_affine=True)\n",
       "      (ln2): LayerNorm((256,), eps=1e-05, elementwise_affine=True)\n",
       "    )\n",
       "    (1): Block(\n",
       "      (sa): MultiHeadAttention(\n",
       "        (heads): ModuleList(\n",
       "          (0-15): 16 x Head(\n",
       "            (key): Linear(in_features=256, out_features=16, bias=False)\n",
       "            (query): Linear(in_features=256, out_features=16, bias=False)\n",
       "            (value): Linear(in_features=256, out_features=16, bias=False)\n",
       "            (dropout): Dropout(p=0.3, inplace=False)\n",
       "          )\n",
       "        )\n",
       "        (proj): Linear(in_features=256, out_features=256, bias=True)\n",
       "        (dropout): Dropout(p=0.3, inplace=False)\n",
       "      )\n",
       "      (ffwd): FeedFoward(\n",
       "        (net): Sequential(\n",
       "          (0): Linear(in_features=256, out_features=1024, bias=True)\n",
       "          (1): ReLU()\n",
       "          (2): Linear(in_features=1024, out_features=256, bias=True)\n",
       "          (3): Dropout(p=0.3, inplace=False)\n",
       "        )\n",
       "      )\n",
       "      (ln1): LayerNorm((256,), eps=1e-05, elementwise_affine=True)\n",
       "      (ln2): LayerNorm((256,), eps=1e-05, elementwise_affine=True)\n",
       "    )\n",
       "    (2): Block(\n",
       "      (sa): MultiHeadAttention(\n",
       "        (heads): ModuleList(\n",
       "          (0-15): 16 x Head(\n",
       "            (key): Linear(in_features=256, out_features=16, bias=False)\n",
       "            (query): Linear(in_features=256, out_features=16, bias=False)\n",
       "            (value): Linear(in_features=256, out_features=16, bias=False)\n",
       "            (dropout): Dropout(p=0.3, inplace=False)\n",
       "          )\n",
       "        )\n",
       "        (proj): Linear(in_features=256, out_features=256, bias=True)\n",
       "        (dropout): Dropout(p=0.3, inplace=False)\n",
       "      )\n",
       "      (ffwd): FeedFoward(\n",
       "        (net): Sequential(\n",
       "          (0): Linear(in_features=256, out_features=1024, bias=True)\n",
       "          (1): ReLU()\n",
       "          (2): Linear(in_features=1024, out_features=256, bias=True)\n",
       "          (3): Dropout(p=0.3, inplace=False)\n",
       "        )\n",
       "      )\n",
       "      (ln1): LayerNorm((256,), eps=1e-05, elementwise_affine=True)\n",
       "      (ln2): LayerNorm((256,), eps=1e-05, elementwise_affine=True)\n",
       "    )\n",
       "    (3): Block(\n",
       "      (sa): MultiHeadAttention(\n",
       "        (heads): ModuleList(\n",
       "          (0-15): 16 x Head(\n",
       "            (key): Linear(in_features=256, out_features=16, bias=False)\n",
       "            (query): Linear(in_features=256, out_features=16, bias=False)\n",
       "            (value): Linear(in_features=256, out_features=16, bias=False)\n",
       "            (dropout): Dropout(p=0.3, inplace=False)\n",
       "          )\n",
       "        )\n",
       "        (proj): Linear(in_features=256, out_features=256, bias=True)\n",
       "        (dropout): Dropout(p=0.3, inplace=False)\n",
       "      )\n",
       "      (ffwd): FeedFoward(\n",
       "        (net): Sequential(\n",
       "          (0): Linear(in_features=256, out_features=1024, bias=True)\n",
       "          (1): ReLU()\n",
       "          (2): Linear(in_features=1024, out_features=256, bias=True)\n",
       "          (3): Dropout(p=0.3, inplace=False)\n",
       "        )\n",
       "      )\n",
       "      (ln1): LayerNorm((256,), eps=1e-05, elementwise_affine=True)\n",
       "      (ln2): LayerNorm((256,), eps=1e-05, elementwise_affine=True)\n",
       "    )\n",
       "    (4): Block(\n",
       "      (sa): MultiHeadAttention(\n",
       "        (heads): ModuleList(\n",
       "          (0-15): 16 x Head(\n",
       "            (key): Linear(in_features=256, out_features=16, bias=False)\n",
       "            (query): Linear(in_features=256, out_features=16, bias=False)\n",
       "            (value): Linear(in_features=256, out_features=16, bias=False)\n",
       "            (dropout): Dropout(p=0.3, inplace=False)\n",
       "          )\n",
       "        )\n",
       "        (proj): Linear(in_features=256, out_features=256, bias=True)\n",
       "        (dropout): Dropout(p=0.3, inplace=False)\n",
       "      )\n",
       "      (ffwd): FeedFoward(\n",
       "        (net): Sequential(\n",
       "          (0): Linear(in_features=256, out_features=1024, bias=True)\n",
       "          (1): ReLU()\n",
       "          (2): Linear(in_features=1024, out_features=256, bias=True)\n",
       "          (3): Dropout(p=0.3, inplace=False)\n",
       "        )\n",
       "      )\n",
       "      (ln1): LayerNorm((256,), eps=1e-05, elementwise_affine=True)\n",
       "      (ln2): LayerNorm((256,), eps=1e-05, elementwise_affine=True)\n",
       "    )\n",
       "    (5): Block(\n",
       "      (sa): MultiHeadAttention(\n",
       "        (heads): ModuleList(\n",
       "          (0-15): 16 x Head(\n",
       "            (key): Linear(in_features=256, out_features=16, bias=False)\n",
       "            (query): Linear(in_features=256, out_features=16, bias=False)\n",
       "            (value): Linear(in_features=256, out_features=16, bias=False)\n",
       "            (dropout): Dropout(p=0.3, inplace=False)\n",
       "          )\n",
       "        )\n",
       "        (proj): Linear(in_features=256, out_features=256, bias=True)\n",
       "        (dropout): Dropout(p=0.3, inplace=False)\n",
       "      )\n",
       "      (ffwd): FeedFoward(\n",
       "        (net): Sequential(\n",
       "          (0): Linear(in_features=256, out_features=1024, bias=True)\n",
       "          (1): ReLU()\n",
       "          (2): Linear(in_features=1024, out_features=256, bias=True)\n",
       "          (3): Dropout(p=0.3, inplace=False)\n",
       "        )\n",
       "      )\n",
       "      (ln1): LayerNorm((256,), eps=1e-05, elementwise_affine=True)\n",
       "      (ln2): LayerNorm((256,), eps=1e-05, elementwise_affine=True)\n",
       "    )\n",
       "    (6): Block(\n",
       "      (sa): MultiHeadAttention(\n",
       "        (heads): ModuleList(\n",
       "          (0-15): 16 x Head(\n",
       "            (key): Linear(in_features=256, out_features=16, bias=False)\n",
       "            (query): Linear(in_features=256, out_features=16, bias=False)\n",
       "            (value): Linear(in_features=256, out_features=16, bias=False)\n",
       "            (dropout): Dropout(p=0.3, inplace=False)\n",
       "          )\n",
       "        )\n",
       "        (proj): Linear(in_features=256, out_features=256, bias=True)\n",
       "        (dropout): Dropout(p=0.3, inplace=False)\n",
       "      )\n",
       "      (ffwd): FeedFoward(\n",
       "        (net): Sequential(\n",
       "          (0): Linear(in_features=256, out_features=1024, bias=True)\n",
       "          (1): ReLU()\n",
       "          (2): Linear(in_features=1024, out_features=256, bias=True)\n",
       "          (3): Dropout(p=0.3, inplace=False)\n",
       "        )\n",
       "      )\n",
       "      (ln1): LayerNorm((256,), eps=1e-05, elementwise_affine=True)\n",
       "      (ln2): LayerNorm((256,), eps=1e-05, elementwise_affine=True)\n",
       "    )\n",
       "    (7): Block(\n",
       "      (sa): MultiHeadAttention(\n",
       "        (heads): ModuleList(\n",
       "          (0-15): 16 x Head(\n",
       "            (key): Linear(in_features=256, out_features=16, bias=False)\n",
       "            (query): Linear(in_features=256, out_features=16, bias=False)\n",
       "            (value): Linear(in_features=256, out_features=16, bias=False)\n",
       "            (dropout): Dropout(p=0.3, inplace=False)\n",
       "          )\n",
       "        )\n",
       "        (proj): Linear(in_features=256, out_features=256, bias=True)\n",
       "        (dropout): Dropout(p=0.3, inplace=False)\n",
       "      )\n",
       "      (ffwd): FeedFoward(\n",
       "        (net): Sequential(\n",
       "          (0): Linear(in_features=256, out_features=1024, bias=True)\n",
       "          (1): ReLU()\n",
       "          (2): Linear(in_features=1024, out_features=256, bias=True)\n",
       "          (3): Dropout(p=0.3, inplace=False)\n",
       "        )\n",
       "      )\n",
       "      (ln1): LayerNorm((256,), eps=1e-05, elementwise_affine=True)\n",
       "      (ln2): LayerNorm((256,), eps=1e-05, elementwise_affine=True)\n",
       "    )\n",
       "  )\n",
       "  (ln_f): LayerNorm((256,), eps=1e-05, elementwise_affine=True)\n",
       "  (lm_head): Linear(in_features=256, out_features=9669, bias=True)\n",
       ")"
      ]
     },
     "execution_count": 17,
     "metadata": {},
     "output_type": "execute_result"
    }
   ],
   "source": [
    "model = GPTLanguageModel()\n",
    "model.to(DEVICE)"
   ]
  },
  {
   "cell_type": "code",
   "execution_count": 29,
   "metadata": {},
   "outputs": [
    {
     "name": "stdout",
     "output_type": "stream",
     "text": [
      "11.305413 M parameters\n"
     ]
    }
   ],
   "source": [
    "params = sum(p.numel() for p in model.parameters())\n",
    "print(params/1e6, 'M parameters')"
   ]
  },
  {
   "cell_type": "code",
   "execution_count": 18,
   "metadata": {},
   "outputs": [],
   "source": [
    "# create a PyTorch optimizer\n",
    "optimizer = torch.optim.AdamW(model.parameters(), lr=1e-3)"
   ]
  },
  {
   "cell_type": "code",
   "execution_count": 19,
   "metadata": {},
   "outputs": [
    {
     "name": "stdout",
     "output_type": "stream",
     "text": [
      "624 70\n",
      "[0, 156, 312, 468]\n"
     ]
    }
   ],
   "source": [
    "batch_size = 16\n",
    "block_size = 32\n",
    "epochs = 10\n",
    "num_checkpoints = 4\n",
    "train_eval_iters = math.ceil(len(train_data) / (batch_size * block_size))\n",
    "val_eval_iters = math.ceil(len(val_data) / (batch_size * block_size))\n",
    "print(train_eval_iters, val_eval_iters)\n",
    "\n",
    "checkpoints = [i for i in range(0, train_eval_iters, train_eval_iters // num_checkpoints)]\n",
    "print(checkpoints)"
   ]
  },
  {
   "cell_type": "code",
   "execution_count": 20,
   "metadata": {},
   "outputs": [],
   "source": [
    "@torch.no_grad()\n",
    "def estimate_loss():\n",
    "    out = {}\n",
    "    model.eval()\n",
    "    for split in ['train', 'val']:\n",
    "        eval_iters = train_eval_iters if split == 'train' else val_eval_iters\n",
    "        losses = torch.zeros(eval_iters)\n",
    "        for i, batch in enumerate(get_batch(batch_size, block_size, split)):\n",
    "            X, Y = batch\n",
    "            _, loss = model(X, Y)\n",
    "            losses[i] = loss.item()\n",
    "        out[split] = losses.mean()\n",
    "    model.train()\n",
    "    return out"
   ]
  },
  {
   "cell_type": "code",
   "execution_count": 21,
   "metadata": {},
   "outputs": [
    {
     "name": "stdout",
     "output_type": "stream",
     "text": [
      "Epoch: 1/10:=====================\n"
     ]
    },
    {
     "name": "stderr",
     "output_type": "stream",
     "text": [
      "  0%|          | 1/624 [00:28<4:55:29, 28.46s/it]"
     ]
    },
    {
     "name": "stdout",
     "output_type": "stream",
     "text": [
      "\u001b[32mstep 1/624: train loss 9.2126, val loss 9.2082\n"
     ]
    },
    {
     "name": "stderr",
     "output_type": "stream",
     "text": [
      " 25%|██▌       | 157/624 [01:08<55:42,  7.16s/it]"
     ]
    },
    {
     "name": "stdout",
     "output_type": "stream",
     "text": [
      "\u001b[32mstep 157/624: train loss 5.9172, val loss 6.1399\n"
     ]
    },
    {
     "name": "stderr",
     "output_type": "stream",
     "text": [
      " 50%|█████     | 313/624 [01:48<37:47,  7.29s/it]"
     ]
    },
    {
     "name": "stdout",
     "output_type": "stream",
     "text": [
      "\u001b[32mstep 313/624: train loss 5.6711, val loss 5.9398\n"
     ]
    },
    {
     "name": "stderr",
     "output_type": "stream",
     "text": [
      " 75%|███████▌  | 470/624 [02:27<12:14,  4.77s/it]"
     ]
    },
    {
     "name": "stdout",
     "output_type": "stream",
     "text": [
      "\u001b[32mstep 469/624: train loss 5.3329, val loss 5.7730\n"
     ]
    },
    {
     "name": "stderr",
     "output_type": "stream",
     "text": [
      "100%|██████████| 624/624 [03:05<00:00,  3.36it/s]\n"
     ]
    },
    {
     "name": "stdout",
     "output_type": "stream",
     "text": [
      "\u001b[32mstep 624/624: train loss 5.1803, val loss 5.0757\n",
      "\u001b[0m\n",
      "Epoch: 2/10:=====================\n"
     ]
    },
    {
     "name": "stderr",
     "output_type": "stream",
     "text": [
      "  0%|          | 2/624 [00:25<1:48:08, 10.43s/it]"
     ]
    },
    {
     "name": "stdout",
     "output_type": "stream",
     "text": [
      "\u001b[32mstep 1/624: train loss 5.1901, val loss 5.0619\n"
     ]
    },
    {
     "name": "stderr",
     "output_type": "stream",
     "text": [
      " 25%|██▌       | 157/624 [01:06<1:00:22,  7.76s/it]"
     ]
    },
    {
     "name": "stdout",
     "output_type": "stream",
     "text": [
      "\u001b[32mstep 157/624: train loss 5.0454, val loss 5.3815\n"
     ]
    },
    {
     "name": "stderr",
     "output_type": "stream",
     "text": [
      " 50%|█████     | 313/624 [01:46<36:42,  7.08s/it]  "
     ]
    },
    {
     "name": "stdout",
     "output_type": "stream",
     "text": [
      "\u001b[32mstep 313/624: train loss 5.0003, val loss 5.2849\n"
     ]
    },
    {
     "name": "stderr",
     "output_type": "stream",
     "text": [
      " 75%|███████▌  | 469/624 [02:27<19:24,  7.51s/it]"
     ]
    },
    {
     "name": "stdout",
     "output_type": "stream",
     "text": [
      "\u001b[32mstep 469/624: train loss 4.8634, val loss 5.3022\n"
     ]
    },
    {
     "name": "stderr",
     "output_type": "stream",
     "text": [
      "100%|██████████| 624/624 [03:05<00:00,  3.37it/s]\n"
     ]
    },
    {
     "name": "stdout",
     "output_type": "stream",
     "text": [
      "\u001b[32mstep 624/624: train loss 4.8488, val loss 4.8530\n",
      "\u001b[0m\n",
      "Epoch: 3/10:=====================\n"
     ]
    },
    {
     "name": "stderr",
     "output_type": "stream",
     "text": [
      "  0%|          | 2/624 [00:22<1:34:53,  9.15s/it]"
     ]
    },
    {
     "name": "stdout",
     "output_type": "stream",
     "text": [
      "\u001b[32mstep 1/624: train loss 4.8534, val loss 4.8491\n"
     ]
    },
    {
     "name": "stderr",
     "output_type": "stream",
     "text": [
      " 25%|██▌       | 158/624 [01:01<37:59,  4.89s/it]"
     ]
    },
    {
     "name": "stdout",
     "output_type": "stream",
     "text": [
      "\u001b[32mstep 157/624: train loss 4.7344, val loss 5.2332\n"
     ]
    },
    {
     "name": "stderr",
     "output_type": "stream",
     "text": [
      " 50%|█████     | 313/624 [01:39<35:44,  6.89s/it]"
     ]
    },
    {
     "name": "stdout",
     "output_type": "stream",
     "text": [
      "\u001b[32mstep 313/624: train loss 4.7567, val loss 5.1486\n"
     ]
    },
    {
     "name": "stderr",
     "output_type": "stream",
     "text": [
      " 75%|███████▌  | 470/624 [02:19<12:46,  4.97s/it]"
     ]
    },
    {
     "name": "stdout",
     "output_type": "stream",
     "text": [
      "\u001b[32mstep 469/624: train loss 4.6156, val loss 5.1414\n"
     ]
    },
    {
     "name": "stderr",
     "output_type": "stream",
     "text": [
      "100%|██████████| 624/624 [02:57<00:00,  3.51it/s]\n"
     ]
    },
    {
     "name": "stdout",
     "output_type": "stream",
     "text": [
      "\u001b[32mstep 624/624: train loss 4.6858, val loss 4.7899\n",
      "\u001b[0m\n",
      "Epoch: 4/10:=====================\n"
     ]
    },
    {
     "name": "stderr",
     "output_type": "stream",
     "text": [
      "  0%|          | 1/624 [00:23<3:59:01, 23.02s/it]"
     ]
    },
    {
     "name": "stdout",
     "output_type": "stream",
     "text": [
      "\u001b[32mstep 1/624: train loss 4.6952, val loss 4.7907\n"
     ]
    },
    {
     "name": "stderr",
     "output_type": "stream",
     "text": [
      " 25%|██▌       | 158/624 [01:00<35:37,  4.59s/it]"
     ]
    },
    {
     "name": "stdout",
     "output_type": "stream",
     "text": [
      "\u001b[32mstep 157/624: train loss 4.5088, val loss 5.1416\n"
     ]
    },
    {
     "name": "stderr",
     "output_type": "stream",
     "text": [
      " 50%|█████     | 314/624 [01:38<21:42,  4.20s/it]"
     ]
    },
    {
     "name": "stdout",
     "output_type": "stream",
     "text": [
      "\u001b[32mstep 313/624: train loss 4.5609, val loss 5.0821\n"
     ]
    },
    {
     "name": "stderr",
     "output_type": "stream",
     "text": [
      " 75%|███████▌  | 470/624 [02:19<13:38,  5.31s/it]"
     ]
    },
    {
     "name": "stdout",
     "output_type": "stream",
     "text": [
      "\u001b[32mstep 469/624: train loss 4.4482, val loss 5.0778\n"
     ]
    },
    {
     "name": "stderr",
     "output_type": "stream",
     "text": [
      "100%|██████████| 624/624 [02:59<00:00,  3.48it/s]\n"
     ]
    },
    {
     "name": "stdout",
     "output_type": "stream",
     "text": [
      "\u001b[32mstep 624/624: train loss 4.5237, val loss 4.7796\n",
      "\u001b[0m\n",
      "Epoch: 5/10:=====================\n"
     ]
    },
    {
     "name": "stderr",
     "output_type": "stream",
     "text": [
      "  0%|          | 1/624 [00:25<4:27:13, 25.74s/it]"
     ]
    },
    {
     "name": "stdout",
     "output_type": "stream",
     "text": [
      "\u001b[32mstep 1/624: train loss 4.5290, val loss 4.7780\n"
     ]
    },
    {
     "name": "stderr",
     "output_type": "stream",
     "text": [
      " 25%|██▌       | 158/624 [01:03<35:46,  4.61s/it]"
     ]
    },
    {
     "name": "stdout",
     "output_type": "stream",
     "text": [
      "\u001b[32mstep 157/624: train loss 4.3544, val loss 5.0609\n"
     ]
    },
    {
     "name": "stderr",
     "output_type": "stream",
     "text": [
      " 50%|█████     | 313/624 [01:44<39:35,  7.64s/it]"
     ]
    },
    {
     "name": "stdout",
     "output_type": "stream",
     "text": [
      "\u001b[32mstep 313/624: train loss 4.4169, val loss 5.0121\n"
     ]
    },
    {
     "name": "stderr",
     "output_type": "stream",
     "text": [
      " 75%|███████▌  | 470/624 [02:22<11:56,  4.65s/it]"
     ]
    },
    {
     "name": "stdout",
     "output_type": "stream",
     "text": [
      "\u001b[32mstep 469/624: train loss 4.3181, val loss 5.0504\n"
     ]
    },
    {
     "name": "stderr",
     "output_type": "stream",
     "text": [
      "100%|██████████| 624/624 [03:01<00:00,  3.43it/s]\n"
     ]
    },
    {
     "name": "stdout",
     "output_type": "stream",
     "text": [
      "\u001b[32mstep 624/624: train loss 4.3677, val loss 4.7573\n",
      "\u001b[0m\n",
      "Epoch: 6/10:=====================\n"
     ]
    },
    {
     "name": "stderr",
     "output_type": "stream",
     "text": [
      "  0%|          | 1/624 [00:24<4:16:34, 24.71s/it]"
     ]
    },
    {
     "name": "stdout",
     "output_type": "stream",
     "text": [
      "\u001b[32mstep 1/624: train loss 4.3774, val loss 4.7604\n"
     ]
    },
    {
     "name": "stderr",
     "output_type": "stream",
     "text": [
      " 25%|██▌       | 157/624 [01:04<54:25,  6.99s/it]"
     ]
    },
    {
     "name": "stdout",
     "output_type": "stream",
     "text": [
      "\u001b[32mstep 157/624: train loss 4.2229, val loss 5.0354\n"
     ]
    },
    {
     "name": "stderr",
     "output_type": "stream",
     "text": [
      " 50%|█████     | 313/624 [01:44<31:18,  6.04s/it]"
     ]
    },
    {
     "name": "stdout",
     "output_type": "stream",
     "text": [
      "\u001b[32mstep 313/624: train loss 4.2728, val loss 4.9836\n"
     ]
    },
    {
     "name": "stderr",
     "output_type": "stream",
     "text": [
      " 75%|███████▌  | 470/624 [02:22<11:59,  4.67s/it]"
     ]
    },
    {
     "name": "stdout",
     "output_type": "stream",
     "text": [
      "\u001b[32mstep 469/624: train loss 4.1878, val loss 5.0374\n"
     ]
    },
    {
     "name": "stderr",
     "output_type": "stream",
     "text": [
      "100%|██████████| 624/624 [03:02<00:00,  3.42it/s]\n"
     ]
    },
    {
     "name": "stdout",
     "output_type": "stream",
     "text": [
      "\u001b[32mstep 624/624: train loss 4.2605, val loss 4.7652\n",
      "\u001b[0m\n",
      "Epoch: 7/10:=====================\n"
     ]
    },
    {
     "name": "stderr",
     "output_type": "stream",
     "text": [
      "  0%|          | 1/624 [00:23<4:08:49, 23.96s/it]"
     ]
    },
    {
     "name": "stdout",
     "output_type": "stream",
     "text": [
      "\u001b[32mstep 1/624: train loss 4.2669, val loss 4.7677\n"
     ]
    },
    {
     "name": "stderr",
     "output_type": "stream",
     "text": [
      " 25%|██▌       | 158/624 [01:04<40:26,  5.21s/it]"
     ]
    },
    {
     "name": "stdout",
     "output_type": "stream",
     "text": [
      "\u001b[32mstep 157/624: train loss 4.1079, val loss 5.0273\n"
     ]
    },
    {
     "name": "stderr",
     "output_type": "stream",
     "text": [
      " 50%|█████     | 313/624 [01:42<34:29,  6.66s/it]"
     ]
    },
    {
     "name": "stdout",
     "output_type": "stream",
     "text": [
      "\u001b[32mstep 313/624: train loss 4.1606, val loss 4.9814\n"
     ]
    },
    {
     "name": "stderr",
     "output_type": "stream",
     "text": [
      " 75%|███████▌  | 469/624 [02:22<18:48,  7.28s/it]"
     ]
    },
    {
     "name": "stdout",
     "output_type": "stream",
     "text": [
      "\u001b[32mstep 469/624: train loss 4.0838, val loss 5.0330\n"
     ]
    },
    {
     "name": "stderr",
     "output_type": "stream",
     "text": [
      "100%|██████████| 624/624 [03:00<00:00,  3.46it/s]\n"
     ]
    },
    {
     "name": "stdout",
     "output_type": "stream",
     "text": [
      "\u001b[32mstep 624/624: train loss 4.1677, val loss 4.7755\n",
      "\u001b[0m\n",
      "Epoch: 8/10:=====================\n"
     ]
    },
    {
     "name": "stderr",
     "output_type": "stream",
     "text": [
      "  0%|          | 1/624 [00:23<3:59:39, 23.08s/it]"
     ]
    },
    {
     "name": "stdout",
     "output_type": "stream",
     "text": [
      "\u001b[32mstep 1/624: train loss 4.1751, val loss 4.7808\n"
     ]
    },
    {
     "name": "stderr",
     "output_type": "stream",
     "text": [
      " 25%|██▌       | 157/624 [01:01<52:16,  6.72s/it]"
     ]
    },
    {
     "name": "stdout",
     "output_type": "stream",
     "text": [
      "\u001b[32mstep 157/624: train loss 4.0087, val loss 5.0250\n"
     ]
    },
    {
     "name": "stderr",
     "output_type": "stream",
     "text": [
      " 50%|█████     | 314/624 [01:40<25:48,  5.00s/it]"
     ]
    },
    {
     "name": "stdout",
     "output_type": "stream",
     "text": [
      "\u001b[32mstep 313/624: train loss 4.0731, val loss 5.0000\n"
     ]
    },
    {
     "name": "stderr",
     "output_type": "stream",
     "text": [
      " 75%|███████▌  | 469/624 [02:22<19:57,  7.73s/it]"
     ]
    },
    {
     "name": "stdout",
     "output_type": "stream",
     "text": [
      "\u001b[32mstep 469/624: train loss 3.9903, val loss 4.9933\n"
     ]
    },
    {
     "name": "stderr",
     "output_type": "stream",
     "text": [
      "100%|██████████| 624/624 [03:01<00:00,  3.44it/s]\n"
     ]
    },
    {
     "name": "stdout",
     "output_type": "stream",
     "text": [
      "\u001b[32mstep 624/624: train loss 4.0623, val loss 4.7761\n",
      "\u001b[0m\n",
      "Epoch: 9/10:=====================\n"
     ]
    },
    {
     "name": "stderr",
     "output_type": "stream",
     "text": [
      "  0%|          | 1/624 [00:24<4:16:07, 24.67s/it]"
     ]
    },
    {
     "name": "stdout",
     "output_type": "stream",
     "text": [
      "\u001b[32mstep 1/624: train loss 4.0763, val loss 4.7847\n"
     ]
    },
    {
     "name": "stderr",
     "output_type": "stream",
     "text": [
      " 25%|██▌       | 157/624 [01:05<58:41,  7.54s/it]"
     ]
    },
    {
     "name": "stdout",
     "output_type": "stream",
     "text": [
      "\u001b[32mstep 157/624: train loss 3.8980, val loss 5.0044\n"
     ]
    },
    {
     "name": "stderr",
     "output_type": "stream",
     "text": [
      " 50%|█████     | 313/624 [01:43<34:28,  6.65s/it]"
     ]
    },
    {
     "name": "stdout",
     "output_type": "stream",
     "text": [
      "\u001b[32mstep 313/624: train loss 3.9655, val loss 5.0015\n"
     ]
    },
    {
     "name": "stderr",
     "output_type": "stream",
     "text": [
      " 75%|███████▌  | 469/624 [02:22<18:11,  7.04s/it]"
     ]
    },
    {
     "name": "stdout",
     "output_type": "stream",
     "text": [
      "\u001b[32mstep 469/624: train loss 3.9001, val loss 5.0087\n"
     ]
    },
    {
     "name": "stderr",
     "output_type": "stream",
     "text": [
      "100%|██████████| 624/624 [03:01<00:00,  3.44it/s]\n"
     ]
    },
    {
     "name": "stdout",
     "output_type": "stream",
     "text": [
      "\u001b[32mstep 624/624: train loss 3.9653, val loss 4.8001\n",
      "\u001b[0m\n",
      "Epoch: 10/10:=====================\n"
     ]
    },
    {
     "name": "stderr",
     "output_type": "stream",
     "text": [
      "  0%|          | 1/624 [00:23<4:08:46, 23.96s/it]"
     ]
    },
    {
     "name": "stdout",
     "output_type": "stream",
     "text": [
      "\u001b[32mstep 1/624: train loss 3.9770, val loss 4.8107\n"
     ]
    },
    {
     "name": "stderr",
     "output_type": "stream",
     "text": [
      " 25%|██▌       | 157/624 [01:02<51:50,  6.66s/it]"
     ]
    },
    {
     "name": "stdout",
     "output_type": "stream",
     "text": [
      "\u001b[32mstep 157/624: train loss 3.7922, val loss 5.0047\n"
     ]
    },
    {
     "name": "stderr",
     "output_type": "stream",
     "text": [
      " 50%|█████     | 313/624 [01:41<36:43,  7.08s/it]"
     ]
    },
    {
     "name": "stdout",
     "output_type": "stream",
     "text": [
      "\u001b[32mstep 313/624: train loss 3.8747, val loss 5.0339\n"
     ]
    },
    {
     "name": "stderr",
     "output_type": "stream",
     "text": [
      " 75%|███████▌  | 469/624 [02:19<17:26,  6.75s/it]"
     ]
    },
    {
     "name": "stdout",
     "output_type": "stream",
     "text": [
      "\u001b[32mstep 469/624: train loss 3.8239, val loss 4.9923\n"
     ]
    },
    {
     "name": "stderr",
     "output_type": "stream",
     "text": [
      "100%|██████████| 624/624 [02:59<00:00,  3.47it/s]"
     ]
    },
    {
     "name": "stdout",
     "output_type": "stream",
     "text": [
      "\u001b[32mstep 624/624: train loss 3.8979, val loss 4.8332\n",
      "\u001b[0m\n"
     ]
    },
    {
     "name": "stderr",
     "output_type": "stream",
     "text": [
      "\n"
     ]
    }
   ],
   "source": [
    "from tqdm import tqdm\n",
    "from colorama import Fore, Style\n",
    "\n",
    "for e in range(epochs):\n",
    "    print(f'Epoch: {e+1}/{epochs}:=====================')\n",
    "    \n",
    "    for i, batch in enumerate(tqdm(get_batch(batch_size, block_size, 'train'), total=train_eval_iters)):\n",
    "        \n",
    "        if i in checkpoints or i == train_eval_iters - 1:\n",
    "            losses = estimate_loss()\n",
    "            print(Fore.GREEN + \n",
    "                  f\"step {i+1}/{train_eval_iters}: train loss {losses['train']:.4f}, val loss {losses['val']:.4f}\")\n",
    "            \n",
    "        xb, yb = batch\n",
    "        logits, loss = model(xb, yb)\n",
    "            \n",
    "        optimizer.zero_grad(set_to_none=True)\n",
    "        loss.backward()\n",
    "        optimizer.step()\n",
    "    \n",
    "    print(Style.RESET_ALL)"
   ]
  },
  {
   "cell_type": "code",
   "execution_count": 38,
   "metadata": {},
   "outputs": [
    {
     "name": "stdout",
     "output_type": "stream",
     "text": [
      "Alla England, do you, factions\n",
      " I see our tricks's as her gentlemans.\n",
      "\n",
      " BAPTke: there that thought enough to misgale\n",
      " manifestary my daughters thee,\n",
      " Perhapsnicfully curting to the father together, ha?' MARISTA:\n",
      " This is all George at afterward?\n",
      "\n",
      " PETRUCHIioship you are glad,\n",
      " And witness her to me on up her.\n",
      "\n",
      " First Citizen:\n",
      " Sirrah, Master Grumio!\n",
      " I knock me, sir enough, doubt you, in us.\n",
      "\n",
      " PETRUCHIO:\n",
      " Signiorior Hortensio! her well word;\n",
      " And say Katharina, I go to none here,\n",
      " And to get all her Latin, and it is very Hortensio.\n",
      "\n",
      " POMPEY:\n",
      " Gentlemen, then you now, stand at all, suitor, gentlemen;\n",
      " I have caused the world so Hackcurties to her;' Sit, for if\n",
      " A father: this is it, fellow nor Baptista, remain with him;\n",
      " And, any; but will desuchioought while until\n",
      " Thy sons Katharuchirite, light it shall not be aimper?\n",
      "\n",
      " MENESIA:\n",
      " Will it good do you, girl?\n",
      "\n",
      " Second Servant:\n",
      " Nothing and almost tears, impnous death and your bags's Hacking!\n",
      "\n",
      " GRUMIO:\n",
      " They will you I become your staveen; nor lamb in Padua; and a man.\n",
      "\n",
      " Servant:\n",
      " Will tell the matter, father? marry, my liege, hold it hither?\n",
      " Master gentleman.\n",
      "\n",
      " HORTENSIO:\n",
      " From my elder obedience.\n",
      " Bloody and the queen,\n",
      " Should happily be Gremio; it comes you.\n",
      " Town it; these dull man you knew in the wood,\n",
      " As books of that Sibmuriness like friends in all\n",
      " cares by the other of a barber\n",
      " Seo for treats of all lend daughter to be most feat:\n",
      " Tell me leave her:\n",
      " home to treatss as Sibentments.\n",
      " Thy city is soundly Kate order else hap,\n",
      " Loud and he firmlys the earth to death;\n",
      " And do her woo this when they did eldest, as to be doubtful popular,\n",
      " Affeious effect or ten sooner or obedient;\n",
      " Let me mourn with leave her her and finest's.\n",
      "\n",
      " KATHARINA:\n",
      " Against this do I saw my father's son.\n",
      "\n",
      " LUCENTIO:\n",
      " O Clarence, how you has thee, indeed, do Ist your eldest part.\n",
      " Her grace to my wits, sir; for you callily off\n",
      " him; yea will be you chose: your injuries\n",
      " Loutward; Friaral and our letters\n",
      " And half speed it loud to-day with me,\n",
      " And turn me with himselfly make the have assist him rascal,\n",
      " And thrifty it meender then, look I tell me tonight,\n",
      " For being over to my free master.\n",
      "\n",
      " PRINUS:\n",
      " O, give any lady and strong friends.\n",
      "\n",
      " ProvoiorINE:\n",
      "\n",
      " First true:\n",
      " Signior Hortensio;\n",
      " Perhaps an Neius through my modesty man! be Ith\n",
      " leisure: take my body for it too.\n",
      "\n",
      " HORTENPETCHIO:\n",
      " Yea! when I tell me been so; for that\n",
      " While you have loathed this niLY her kind than it should\n",
      " Upon him, though to call them with me else weio.\n",
      " Sir Richard, whom if you be welld to morning.\n",
      "\n",
      " Second Servant:\n",
      " Lucentio?\n",
      "\n",
      " Servant:\n",
      " Hortensio. Come, sir? be more!\n",
      " theirst, monstrous o'll tell my masters!\n",
      "\n",
      " KatoshENTIO:\n",
      " Sweet her.\n",
      "\n",
      " GREMIO:\n",
      " Why, Tranio, sir. I saw this to her no well in company?\n",
      " Help me hither as you, for that't never won gold.\n",
      " But 'True shall I to commune before many fam command?\n",
      "\n",
      " PETRUCHIO:\n",
      " Auftensio, if I'llffection be younger:\n",
      " Is not as better more; look in fieryise upon this much.\n",
      " Look, sir, that it you was a lossor'd,\n",
      " When the other that she now instantly,\n",
      " Promotion's eldest lady and behind's daughter's,\n",
      " Crowns her villain is afreshce from Hall As way.\n",
      "\n",
      " Lord:\n",
      " Come, sir, madam, sir, in all your violation\n",
      " Supspecting in home: I\n"
     ]
    }
   ],
   "source": [
    "start_token_string = 'All'\n",
    "start_token = torch.tensor(stoi[start_token_string], dtype=torch.long, device=DEVICE).view(-1, 1)\n",
    "\n",
    "print(decode(model.generate(start_token, max_new_tokens=1000)[0].tolist()))"
   ]
  },
  {
   "cell_type": "code",
   "execution_count": 28,
   "metadata": {},
   "outputs": [
    {
     "name": "stdout",
     "output_type": "stream",
     "text": [
      "The model saved successfully.\n"
     ]
    }
   ],
   "source": [
    "from datetime import date\n",
    "\n",
    "model_size_str = str(int(params/1e6))\n",
    "model_file_name = 'word_transformer' + model_size_str + 'M-'+ str(date.today()) +'.pth'\n",
    "model_save_path = '../params/transformer/' + model_file_name\n",
    "torch.save(model.state_dict(), model_save_path)\n",
    "print(\"The model saved successfully.\")"
   ]
  },
  {
   "cell_type": "code",
   "execution_count": null,
   "metadata": {},
   "outputs": [],
   "source": []
  }
 ],
 "metadata": {
  "kernelspec": {
   "display_name": "torch",
   "language": "python",
   "name": "python3"
  },
  "language_info": {
   "codemirror_mode": {
    "name": "ipython",
    "version": 3
   },
   "file_extension": ".py",
   "mimetype": "text/x-python",
   "name": "python",
   "nbconvert_exporter": "python",
   "pygments_lexer": "ipython3",
   "version": "3.10.11"
  },
  "orig_nbformat": 4
 },
 "nbformat": 4,
 "nbformat_minor": 2
}
