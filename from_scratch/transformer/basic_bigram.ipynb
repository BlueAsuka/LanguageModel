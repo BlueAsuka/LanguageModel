{
 "cells": [
  {
   "cell_type": "code",
   "execution_count": 1,
   "metadata": {},
   "outputs": [
    {
     "data": {
      "text/plain": [
       "<torch._C.Generator at 0x1f4c2398870>"
      ]
     },
     "execution_count": 1,
     "metadata": {},
     "output_type": "execute_result"
    }
   ],
   "source": [
    "import torch\n",
    "import torch.nn as nn\n",
    "import torch.nn.functional as F\n",
    "torch.manual_seed(1337)"
   ]
  },
  {
   "cell_type": "code",
   "execution_count": 2,
   "metadata": {},
   "outputs": [],
   "source": [
    "DEVICE = 'cuda' if torch.cuda.is_available() else 'cpu'"
   ]
  },
  {
   "cell_type": "code",
   "execution_count": 4,
   "metadata": {},
   "outputs": [],
   "source": [
    "with open('../data/input.txt', 'r', encoding='utf-8') as f:\n",
    "    shakespeare = f.read()"
   ]
  },
  {
   "cell_type": "code",
   "execution_count": 5,
   "metadata": {},
   "outputs": [
    {
     "name": "stdout",
     "output_type": "stream",
     "text": [
      "length of the input text for pretraining: 1115394.\n",
      "First Citizen:\n",
      "Before we proceed any further, hear me speak.\n",
      "\n",
      "All:\n",
      "Speak, speak.\n",
      "\n",
      "First Citizen:\n",
      "You are all resolved rather to die than to famish?\n",
      "\n",
      "All:\n",
      "Resolved. resolved.\n",
      "\n",
      "First Citizen:\n",
      "First, you know Caius Marcius is chief enemy to the people.\n",
      "\n",
      "All:\n",
      "We know't, we know't.\n",
      "\n",
      "First Citizen:\n",
      "Let us kill him, and we'll have corn at our own price.\n",
      "Is't a verdict?\n",
      "\n",
      "All:\n",
      "No more talking on't; let it be done: away, away!\n",
      "\n",
      "Second Citizen:\n",
      "One word, good citizens.\n",
      "\n",
      "First Citizen:\n",
      "We are accounted poor citizens, the patricians good.\n",
      "What authority surfeits on would relieve us: if they\n",
      "would yield us but the superfluity, while it were\n",
      "wholesome, we might guess they relieved us humanely;\n",
      "but they think we are too dear: the leanness that\n",
      "afflicts us, the object of our misery, is as an\n",
      "inventory to particularise their abundance; our\n",
      "sufferance is a gain to them Let us revenge this with\n",
      "our pikes, ere we become rakes: for the gods know I\n",
      "speak this in hunger for bread, not in thirst for revenge.\n",
      "\n",
      "\n"
     ]
    }
   ],
   "source": [
    "print(f'length of the input text for pretraining: {len(shakespeare)}.')\n",
    "print(shakespeare[:1000])"
   ]
  },
  {
   "cell_type": "code",
   "execution_count": 6,
   "metadata": {},
   "outputs": [
    {
     "name": "stdout",
     "output_type": "stream",
     "text": [
      "ALL chars:\n",
      " !$&',-.3:;?ABCDEFGHIJKLMNOPQRSTUVWXYZabcdefghijklmnopqrstuvwxyz\n",
      "\n",
      "TOTAL CHARS NUM: 65\n"
     ]
    }
   ],
   "source": [
    "# List all unique characters that occurs in the input text\n",
    "chars = sorted(list(set(shakespeare)))\n",
    "vocab_size = len(chars)\n",
    "print('ALL chars:' + ''.join(chars))\n",
    "print()\n",
    "print(f'TOTAL CHARS NUM: {vocab_size}')"
   ]
  },
  {
   "cell_type": "code",
   "execution_count": 7,
   "metadata": {},
   "outputs": [
    {
     "name": "stdout",
     "output_type": "stream",
     "text": [
      "[46, 47, 47, 6, 1, 58, 46, 43, 56, 43]\n",
      "hii, there\n"
     ]
    }
   ],
   "source": [
    "# mapping from characters to integers for encoding\n",
    "stoi = { ch:i for i, ch in enumerate(chars) }\n",
    "itos = { i:ch for i, ch in enumerate(chars) }\n",
    "encode = lambda s : [stoi[c] for c in s] # Take a string and output a list of integers\n",
    "decode = lambda i : ''.join([itos[c] for c in i]) # Take a list of integers and output a list of string\n",
    "\n",
    "test_string = \"hii, there\"\n",
    "print(encode(test_string))\n",
    "print(decode(encode(test_string)))"
   ]
  },
  {
   "cell_type": "code",
   "execution_count": 8,
   "metadata": {},
   "outputs": [
    {
     "name": "stdout",
     "output_type": "stream",
     "text": [
      "torch.Size([1115394]) <built-in method type of Tensor object at 0x000001F4CD694400>\n",
      "tensor([18, 47, 56, 57, 58,  1, 15, 47, 58, 47, 64, 43, 52, 10,  0, 14, 43, 44,\n",
      "        53, 56, 43,  1, 61, 43,  1, 54, 56, 53, 41, 43, 43, 42,  1, 39, 52, 63,\n",
      "         1, 44, 59, 56, 58, 46, 43, 56,  6,  1, 46, 43, 39, 56,  1, 51, 43,  1,\n",
      "        57, 54, 43, 39, 49,  8,  0,  0, 13, 50, 50, 10,  0, 31, 54, 43, 39, 49,\n",
      "         6,  1, 57, 54, 43, 39, 49,  8,  0,  0, 18, 47, 56, 57, 58,  1, 15, 47,\n",
      "        58, 47, 64, 43, 52, 10,  0, 37, 53, 59,  1, 39, 56, 43,  1, 39, 50, 50,\n",
      "         1, 56, 43, 57, 53, 50, 60, 43, 42,  1, 56, 39, 58, 46, 43, 56,  1, 58,\n",
      "        53,  1, 42, 47, 43,  1, 58, 46, 39, 52,  1, 58, 53,  1, 44, 39, 51, 47,\n",
      "        57, 46, 12,  0,  0, 13, 50, 50, 10,  0, 30, 43, 57, 53, 50, 60, 43, 42,\n",
      "         8,  1, 56, 43, 57, 53, 50, 60, 43, 42,  8,  0,  0, 18, 47, 56, 57, 58,\n",
      "         1, 15, 47, 58, 47, 64, 43, 52, 10,  0, 18, 47, 56, 57, 58,  6,  1, 63,\n",
      "        53, 59,  1, 49, 52, 53, 61,  1, 15, 39, 47, 59, 57,  1, 25, 39, 56, 41,\n",
      "        47, 59, 57,  1, 47, 57,  1, 41, 46, 47, 43, 44,  1, 43, 52, 43, 51, 63,\n",
      "         1, 58, 53,  1, 58, 46, 43,  1, 54, 43, 53, 54, 50, 43,  8,  0,  0, 13,\n",
      "        50, 50, 10,  0, 35, 43,  1, 49, 52, 53, 61,  5, 58,  6,  1, 61, 43,  1,\n",
      "        49, 52, 53, 61,  5, 58,  8,  0,  0, 18, 47, 56, 57, 58,  1, 15, 47, 58,\n",
      "        47, 64, 43, 52, 10,  0, 24, 43, 58,  1, 59, 57,  1, 49, 47, 50, 50,  1,\n",
      "        46, 47, 51,  6,  1, 39, 52, 42,  1, 61, 43,  5, 50, 50,  1, 46, 39, 60,\n",
      "        43,  1, 41, 53, 56, 52,  1, 39, 58,  1, 53, 59, 56,  1, 53, 61, 52,  1,\n",
      "        54, 56, 47, 41, 43,  8,  0, 21, 57,  5, 58,  1, 39,  1, 60, 43, 56, 42,\n",
      "        47, 41, 58, 12,  0,  0, 13, 50, 50, 10,  0, 26, 53,  1, 51, 53, 56, 43,\n",
      "         1, 58, 39, 50, 49, 47, 52, 45,  1, 53, 52,  5, 58, 11,  1, 50, 43, 58,\n",
      "         1, 47, 58,  1, 40, 43,  1, 42, 53, 52, 43, 10,  1, 39, 61, 39, 63,  6,\n",
      "         1, 39, 61, 39, 63,  2,  0,  0, 31, 43, 41, 53, 52, 42,  1, 15, 47, 58,\n",
      "        47, 64, 43, 52, 10,  0, 27, 52, 43,  1, 61, 53, 56, 42,  6,  1, 45, 53,\n",
      "        53, 42,  1, 41, 47, 58, 47, 64, 43, 52, 57,  8,  0,  0, 18, 47, 56, 57,\n",
      "        58,  1, 15, 47, 58, 47, 64, 43, 52, 10,  0, 35, 43,  1, 39, 56, 43,  1,\n",
      "        39, 41, 41, 53, 59, 52, 58, 43, 42,  1, 54, 53, 53, 56,  1, 41, 47, 58,\n",
      "        47, 64, 43, 52, 57,  6,  1, 58, 46, 43,  1, 54, 39, 58, 56, 47, 41, 47,\n",
      "        39, 52, 57,  1, 45, 53, 53, 42,  8,  0, 35, 46, 39, 58,  1, 39, 59, 58,\n",
      "        46, 53, 56, 47, 58, 63,  1, 57, 59, 56, 44, 43, 47, 58, 57,  1, 53, 52,\n",
      "         1, 61, 53, 59, 50, 42,  1, 56, 43, 50, 47, 43, 60, 43,  1, 59, 57, 10,\n",
      "         1, 47, 44,  1, 58, 46, 43, 63,  0, 61, 53, 59, 50, 42,  1, 63, 47, 43,\n",
      "        50, 42,  1, 59, 57,  1, 40, 59, 58,  1, 58, 46, 43,  1, 57, 59, 54, 43,\n",
      "        56, 44, 50, 59, 47, 58, 63,  6,  1, 61, 46, 47, 50, 43,  1, 47, 58,  1,\n",
      "        61, 43, 56, 43,  0, 61, 46, 53, 50, 43, 57, 53, 51, 43,  6,  1, 61, 43,\n",
      "         1, 51, 47, 45, 46, 58,  1, 45, 59, 43, 57, 57,  1, 58, 46, 43, 63,  1,\n",
      "        56, 43, 50, 47, 43, 60, 43, 42,  1, 59, 57,  1, 46, 59, 51, 39, 52, 43,\n",
      "        50, 63, 11,  0, 40, 59, 58,  1, 58, 46, 43, 63,  1, 58, 46, 47, 52, 49,\n",
      "         1, 61, 43,  1, 39, 56, 43,  1, 58, 53, 53,  1, 42, 43, 39, 56, 10,  1,\n",
      "        58, 46, 43,  1, 50, 43, 39, 52, 52, 43, 57, 57,  1, 58, 46, 39, 58,  0,\n",
      "        39, 44, 44, 50, 47, 41, 58, 57,  1, 59, 57,  6,  1, 58, 46, 43,  1, 53,\n",
      "        40, 48, 43, 41, 58,  1, 53, 44,  1, 53, 59, 56,  1, 51, 47, 57, 43, 56,\n",
      "        63,  6,  1, 47, 57,  1, 39, 57,  1, 39, 52,  0, 47, 52, 60, 43, 52, 58,\n",
      "        53, 56, 63,  1, 58, 53,  1, 54, 39, 56, 58, 47, 41, 59, 50, 39, 56, 47,\n",
      "        57, 43,  1, 58, 46, 43, 47, 56,  1, 39, 40, 59, 52, 42, 39, 52, 41, 43,\n",
      "        11,  1, 53, 59, 56,  0, 57, 59, 44, 44, 43, 56, 39, 52, 41, 43,  1, 47,\n",
      "        57,  1, 39,  1, 45, 39, 47, 52,  1, 58, 53,  1, 58, 46, 43, 51,  1, 24,\n",
      "        43, 58,  1, 59, 57,  1, 56, 43, 60, 43, 52, 45, 43,  1, 58, 46, 47, 57,\n",
      "         1, 61, 47, 58, 46,  0, 53, 59, 56,  1, 54, 47, 49, 43, 57,  6,  1, 43,\n",
      "        56, 43,  1, 61, 43,  1, 40, 43, 41, 53, 51, 43,  1, 56, 39, 49, 43, 57,\n",
      "        10,  1, 44, 53, 56,  1, 58, 46, 43,  1, 45, 53, 42, 57,  1, 49, 52, 53,\n",
      "        61,  1, 21,  0, 57, 54, 43, 39, 49,  1, 58, 46, 47, 57,  1, 47, 52,  1,\n",
      "        46, 59, 52, 45, 43, 56,  1, 44, 53, 56,  1, 40, 56, 43, 39, 42,  6,  1,\n",
      "        52, 53, 58,  1, 47, 52,  1, 58, 46, 47, 56, 57, 58,  1, 44, 53, 56,  1,\n",
      "        56, 43, 60, 43, 52, 45, 43,  8,  0,  0])\n"
     ]
    }
   ],
   "source": [
    "# encode the entire text dataset and store it into a torch.Tensor\n",
    "data = torch.tensor(encode(shakespeare), dtype=torch.long)\n",
    "print(data.shape, data.type)\n",
    "print(data[:1000])"
   ]
  },
  {
   "cell_type": "code",
   "execution_count": 9,
   "metadata": {},
   "outputs": [],
   "source": [
    "# Let's now split up the data into train and validation sets\n",
    "n = int(0.9*len(data)) # first 90% will be train, rest val\n",
    "train_data = data[:n]\n",
    "val_data = data[n:]"
   ]
  },
  {
   "cell_type": "code",
   "execution_count": 10,
   "metadata": {},
   "outputs": [
    {
     "data": {
      "text/plain": [
       "tensor([18, 47, 56, 57, 58,  1, 15, 47, 58])"
      ]
     },
     "execution_count": 10,
     "metadata": {},
     "output_type": "execute_result"
    }
   ],
   "source": [
    "block_size = 8\n",
    "train_data[:block_size+1]"
   ]
  },
  {
   "cell_type": "code",
   "execution_count": 11,
   "metadata": {},
   "outputs": [
    {
     "name": "stdout",
     "output_type": "stream",
     "text": [
      "input: tensor([18]), target: 47\n",
      "input: tensor([18, 47]), target: 56\n",
      "input: tensor([18, 47, 56]), target: 57\n",
      "input: tensor([18, 47, 56, 57]), target: 58\n",
      "input: tensor([18, 47, 56, 57, 58]), target: 1\n",
      "input: tensor([18, 47, 56, 57, 58,  1]), target: 15\n",
      "input: tensor([18, 47, 56, 57, 58,  1, 15]), target: 47\n",
      "input: tensor([18, 47, 56, 57, 58,  1, 15, 47]), target: 58\n"
     ]
    }
   ],
   "source": [
    "x = train_data[:block_size]\n",
    "y = train_data[1:block_size+1]\n",
    "for t in range(block_size):\n",
    "    context = x[:t+1]\n",
    "    target = y[t]\n",
    "    print(f'input: {context}, target: {target}')"
   ]
  },
  {
   "cell_type": "code",
   "execution_count": 12,
   "metadata": {},
   "outputs": [],
   "source": [
    "torch.manual_seed(1337)\n",
    "batch_size = 4 # How many independent sequences will be process in parallel?\n",
    "block_size = 8 # What is the maximum context length for predictions?"
   ]
  },
  {
   "cell_type": "code",
   "execution_count": 13,
   "metadata": {},
   "outputs": [
    {
     "data": {
      "text/plain": [
       "tensor([1078327,  453969,   41646,  671252])"
      ]
     },
     "execution_count": 13,
     "metadata": {},
     "output_type": "execute_result"
    }
   ],
   "source": [
    "ix = torch.randint(len(data) - block_size, (batch_size,))\n",
    "ix"
   ]
  },
  {
   "cell_type": "code",
   "execution_count": 14,
   "metadata": {},
   "outputs": [
    {
     "data": {
      "text/plain": [
       "tensor([[59, 52, 49, 47, 52, 42,  1, 40],\n",
       "        [53, 54, 43, 44, 59, 50,  1, 50],\n",
       "        [27, 24, 33, 25, 26, 21, 13, 10],\n",
       "        [47, 41, 43,  1, 53, 60, 43, 56]])"
      ]
     },
     "execution_count": 14,
     "metadata": {},
     "output_type": "execute_result"
    }
   ],
   "source": [
    "torch.stack([data[i:i+block_size] for i in ix])"
   ]
  },
  {
   "cell_type": "code",
   "execution_count": 15,
   "metadata": {},
   "outputs": [
    {
     "data": {
      "text/plain": [
       "tensor([[52, 49, 47, 52, 42,  1, 40, 56],\n",
       "        [54, 43, 44, 59, 50,  1, 50, 39],\n",
       "        [24, 33, 25, 26, 21, 13, 10,  0],\n",
       "        [41, 43,  1, 53, 60, 43, 56, 58]])"
      ]
     },
     "execution_count": 15,
     "metadata": {},
     "output_type": "execute_result"
    }
   ],
   "source": [
    "torch.stack([data[i+1:i+block_size+1] for i in ix])"
   ]
  },
  {
   "cell_type": "code",
   "execution_count": 16,
   "metadata": {},
   "outputs": [
    {
     "name": "stdout",
     "output_type": "stream",
     "text": [
      "inputs:\n",
      "torch.Size([4, 8])\n",
      "tensor([[57, 43, 60, 43, 52,  1, 63, 43],\n",
      "        [60, 43, 42,  8,  0, 25, 63,  1],\n",
      "        [56, 42,  5, 57,  1, 57, 39, 49],\n",
      "        [43, 57, 58, 63,  6,  1, 58, 46]])\n",
      "targets:\n",
      "torch.Size([4, 8])\n",
      "tensor([[43, 60, 43, 52,  1, 63, 43, 39],\n",
      "        [43, 42,  8,  0, 25, 63,  1, 45],\n",
      "        [42,  5, 57,  1, 57, 39, 49, 43],\n",
      "        [57, 58, 63,  6,  1, 58, 46, 47]])\n"
     ]
    }
   ],
   "source": [
    "def get_batch(split):\n",
    "    data = train_data if split == 'train' else val_data\n",
    "    ix = torch.randint(len(data) - block_size, (batch_size,))\n",
    "    x = torch.stack([data[i:i+block_size] for i in ix])\n",
    "    y = torch.stack([data[i+1:i+block_size+1] for i in ix])\n",
    "    return x, y\n",
    "\n",
    "xb, yb = get_batch('train')\n",
    "print('inputs:')\n",
    "print(xb.shape)\n",
    "print(xb)\n",
    "print('targets:')\n",
    "print(yb.shape)\n",
    "print(yb)"
   ]
  },
  {
   "cell_type": "code",
   "execution_count": 94,
   "metadata": {},
   "outputs": [
    {
     "name": "stdout",
     "output_type": "stream",
     "text": [
      "batch 1/4\n",
      "when input is [57] the target: 43\n",
      "when input is [57, 43] the target: 60\n",
      "when input is [57, 43, 60] the target: 43\n",
      "when input is [57, 43, 60, 43] the target: 52\n",
      "when input is [57, 43, 60, 43, 52] the target: 1\n",
      "when input is [57, 43, 60, 43, 52, 1] the target: 63\n",
      "when input is [57, 43, 60, 43, 52, 1, 63] the target: 43\n",
      "when input is [57, 43, 60, 43, 52, 1, 63, 43] the target: 39\n",
      "\n",
      "batch 2/4\n",
      "when input is [60] the target: 43\n",
      "when input is [60, 43] the target: 42\n",
      "when input is [60, 43, 42] the target: 8\n",
      "when input is [60, 43, 42, 8] the target: 0\n",
      "when input is [60, 43, 42, 8, 0] the target: 25\n",
      "when input is [60, 43, 42, 8, 0, 25] the target: 63\n",
      "when input is [60, 43, 42, 8, 0, 25, 63] the target: 1\n",
      "when input is [60, 43, 42, 8, 0, 25, 63, 1] the target: 45\n",
      "\n",
      "batch 3/4\n",
      "when input is [56] the target: 42\n",
      "when input is [56, 42] the target: 5\n",
      "when input is [56, 42, 5] the target: 57\n",
      "when input is [56, 42, 5, 57] the target: 1\n",
      "when input is [56, 42, 5, 57, 1] the target: 57\n",
      "when input is [56, 42, 5, 57, 1, 57] the target: 39\n",
      "when input is [56, 42, 5, 57, 1, 57, 39] the target: 49\n",
      "when input is [56, 42, 5, 57, 1, 57, 39, 49] the target: 43\n",
      "\n",
      "batch 4/4\n",
      "when input is [43] the target: 57\n",
      "when input is [43, 57] the target: 58\n",
      "when input is [43, 57, 58] the target: 63\n",
      "when input is [43, 57, 58, 63] the target: 6\n",
      "when input is [43, 57, 58, 63, 6] the target: 1\n",
      "when input is [43, 57, 58, 63, 6, 1] the target: 58\n",
      "when input is [43, 57, 58, 63, 6, 1, 58] the target: 46\n",
      "when input is [43, 57, 58, 63, 6, 1, 58, 46] the target: 47\n",
      "\n"
     ]
    }
   ],
   "source": [
    "for b in range(batch_size): # batch dimension\n",
    "    print(f'batch {b+1}/{batch_size}')\n",
    "    for t in range(block_size): # time dimension\n",
    "        context = xb[b, :t+1]\n",
    "        target = yb[b,t]\n",
    "        print(f\"when input is {context.tolist()} the target: {target}\")\n",
    "    print()"
   ]
  },
  {
   "cell_type": "code",
   "execution_count": 17,
   "metadata": {},
   "outputs": [
    {
     "name": "stdout",
     "output_type": "stream",
     "text": [
      "torch.Size([32, 65])\n",
      "tensor(4.8549, grad_fn=<NllLossBackward0>)\n",
      "\n",
      "tensor([[[-0.5024, -0.2026, -1.5671, -1.0980,  0.2599, -1.0698,  1.6305,\n",
      "           0.7277, -0.3676, -0.7483, -0.1006,  0.7307, -0.2251,  1.3296,\n",
      "          -1.2435, -0.1680, -0.0476, -1.0996, -1.7524, -1.0971, -1.1081,\n",
      "          -1.8002, -0.4713,  0.0084,  0.1662,  1.2055,  0.1883, -2.1600,\n",
      "          -0.1585, -0.6300, -0.2221,  0.6924,  1.1490,  0.1812, -0.0920,\n",
      "           1.5828,  0.1526,  0.3843,  1.3091,  0.4645, -0.7296, -1.5580,\n",
      "          -0.3950,  0.6112, -1.7097, -0.0826, -0.0495, -1.4480,  0.4109,\n",
      "          -0.2422,  0.4208,  0.2776, -0.4440, -0.3797,  0.4039, -1.1757,\n",
      "          -0.2749,  1.4738,  0.0688,  1.3327, -0.9523,  0.2588,  0.1108,\n",
      "           0.3925,  0.8353]]], grad_fn=<EmbeddingBackward0>)\n",
      "tensor([[-0.5024, -0.2026, -1.5671, -1.0980,  0.2599, -1.0698,  1.6305,  0.7277,\n",
      "         -0.3676, -0.7483, -0.1006,  0.7307, -0.2251,  1.3296, -1.2435, -0.1680,\n",
      "         -0.0476, -1.0996, -1.7524, -1.0971, -1.1081, -1.8002, -0.4713,  0.0084,\n",
      "          0.1662,  1.2055,  0.1883, -2.1600, -0.1585, -0.6300, -0.2221,  0.6924,\n",
      "          1.1490,  0.1812, -0.0920,  1.5828,  0.1526,  0.3843,  1.3091,  0.4645,\n",
      "         -0.7296, -1.5580, -0.3950,  0.6112, -1.7097, -0.0826, -0.0495, -1.4480,\n",
      "          0.4109, -0.2422,  0.4208,  0.2776, -0.4440, -0.3797,  0.4039, -1.1757,\n",
      "         -0.2749,  1.4738,  0.0688,  1.3327, -0.9523,  0.2588,  0.1108,  0.3925,\n",
      "          0.8353]], grad_fn=<SliceBackward0>)\n",
      "tensor([[[0.0073, 0.0098, 0.0025, 0.0040, 0.0156, 0.0041, 0.0615, 0.0249,\n",
      "          0.0083, 0.0057, 0.0109, 0.0250, 0.0096, 0.0455, 0.0035, 0.0102,\n",
      "          0.0115, 0.0040, 0.0021, 0.0040, 0.0040, 0.0020, 0.0075, 0.0122,\n",
      "          0.0142, 0.0402, 0.0145, 0.0014, 0.0103, 0.0064, 0.0097, 0.0241,\n",
      "          0.0380, 0.0144, 0.0110, 0.0587, 0.0140, 0.0177, 0.0446, 0.0192,\n",
      "          0.0058, 0.0025, 0.0081, 0.0222, 0.0022, 0.0111, 0.0115, 0.0028,\n",
      "          0.0182, 0.0095, 0.0184, 0.0159, 0.0077, 0.0082, 0.0180, 0.0037,\n",
      "          0.0092, 0.0526, 0.0129, 0.0457, 0.0046, 0.0156, 0.0135, 0.0178,\n",
      "          0.0278]]], grad_fn=<SoftmaxBackward0>)\n",
      "[4]\n",
      "&\n"
     ]
    }
   ],
   "source": [
    "# A basic neural network for bigram model\n",
    "class BigramLanguageModel(nn.Module):\n",
    "    def __init__(self, vocab_size) -> None:\n",
    "        super().__init__()\n",
    "        # the embedding table is in the shape of (vocab_size, vocab_size)\n",
    "        #   a b c ... z\n",
    "        # a \n",
    "        # b\n",
    "        # .\n",
    "        # z\n",
    "        # each token directly reads off the logits for the next token from the lookup table\n",
    "        self.token_embedding_table = nn.Embedding(vocab_size, vocab_size)\n",
    "    \n",
    "    def forward(self, idx, targets=None):\n",
    "        # idx and target are in the size of (B, T)\n",
    "        logits = self.token_embedding_table(idx) # (B, T, vocab_size)\n",
    "        \n",
    "        if targets is None: # for generation without providing target\n",
    "            loss = None\n",
    "        else:\n",
    "            # Reshape the logits tensor to meet definition of the cross_entropy function in Pytorch\n",
    "            B, T, C = logits.shape\n",
    "            logits = logits.view(B*T, C) # Concatenate B, T\n",
    "            targets = targets.view(B*T)    # Same reshaping to the target tensor\n",
    "            loss = F.cross_entropy(logits, targets) # calculate the loss\n",
    "        \n",
    "        return logits, loss\n",
    "    \n",
    "    def generation(self, idx, max_new_tokens):\n",
    "        # idx is (B, T) array of indices in the current context\n",
    "        for _ in range(max_new_tokens):\n",
    "            # get the predictions\n",
    "            logits, _ = self(idx)\n",
    "            \n",
    "            # focus only on the last time step\n",
    "            logits = logits[:, -1, :] # becomes (B, C)\n",
    "            \n",
    "            # apply softmax to get probabilities\n",
    "            probs = F.softmax(logits, dim=-1) # (B, C)\n",
    "            \n",
    "            # sample from the distribution\n",
    "            idx_next = torch.multinomial(probs, num_samples=1) # (B, 1)\n",
    "            \n",
    "            # append sampled index to the running sequence\n",
    "            idx = torch.cat((idx, idx_next), dim=1) # (B, T+1)\n",
    "            \n",
    "        return idx\n",
    "    \n",
    "n = BigramLanguageModel(vocab_size)\n",
    "out, loss = n(xb, yb)\n",
    "print(out.shape)\n",
    "print(loss)\n",
    "print()\n",
    "\n",
    "logits = n(torch.zeros((1, 1), dtype=torch.long))[0] # (B, T) = (1, 1)\n",
    "print(logits)  # logits size (1, 65, 1)\n",
    "print(logits[:, -1, :]) # focus only on the final step (1, 65)\n",
    "probs = F.softmax(logits, dim=-1)\n",
    "print(probs)\n",
    "next_idx = torch.multinomial(probs[0], num_samples=1)[0].tolist()\n",
    "print(next_idx) # (1, 1)\n",
    "print(decode(next_idx))"
   ]
  },
  {
   "cell_type": "code",
   "execution_count": 18,
   "metadata": {},
   "outputs": [
    {
     "name": "stdout",
     "output_type": "stream",
     "text": [
      "\n",
      "MXoN?jLDJIcLVR'JIHDTHdhsV\n",
      "v\n",
      "wxh,nhUYZzAEOZHpgo3q3ZYZes$zuGw,;eMk QqACRfCLgxiW3.O!zDLgA YsTb!dHb!;pKeeJyYQQOrFA&$zw!:EwWSaxWEbjPQWeLc.vyN$zKr$P-Jc:'Sa3q'BK-gSM?rKroeZfrkP&:ql-l-BvtD$LNFr!DsUKaKWspvBp:ZQsWZRlkVjxt qgoKX-PjSeL $.liRaVjPspVR!mpJO!O!u'kNfEWFMPy'hjCWhB.w.VBYlDNE.tIDeDlx\n",
      "?$Ox?rT.fHJxGoF&t usA?IvJFzsVDRgaNwSmEQaftEaveBDeTdvv&JpHk dq';yhPVjwy.R!ZMys-Ngmb,tBOEaGLoPeF;?xtr!LJoCMwX'FUYOxxhvHAYuSKEn.XMhn:Dh3MGFrSnIr!SXJ?BeMM!JciMPHMP!HbyfNqAbqS&LtsxhkDl3\n",
      "W'yfdJoCuOqACeFpLkyJBQOVb:do3h$zAeV\n",
      ":\n"
     ]
    }
   ],
   "source": [
    "print(decode(n.generation(idx=torch.zeros((1, 1), dtype=torch.long), max_new_tokens=500)[0].tolist()))"
   ]
  },
  {
   "cell_type": "code",
   "execution_count": 19,
   "metadata": {},
   "outputs": [],
   "source": [
    "# create a PyTorch optimizer\n",
    "optimizer = torch.optim.AdamW(n.parameters(), lr=1e-3)"
   ]
  },
  {
   "cell_type": "code",
   "execution_count": 20,
   "metadata": {},
   "outputs": [
    {
     "name": "stderr",
     "output_type": "stream",
     "text": [
      "100%|██████████| 10000/10000 [00:11<00:00, 859.44it/s]\n"
     ]
    }
   ],
   "source": [
    "from tqdm import tqdm\n",
    "\n",
    "batch_size = 32\n",
    "epochs = 10000\n",
    "losses = []\n",
    "for e in tqdm(range(epochs)):\n",
    "    xb, yb = get_batch('train')\n",
    "    \n",
    "    logits, loss = n(xb, yb)\n",
    "    optimizer.zero_grad(set_to_none=True)\n",
    "    loss.backward()\n",
    "    optimizer.step()\n",
    "    losses.append(loss.item())"
   ]
  },
  {
   "cell_type": "code",
   "execution_count": 21,
   "metadata": {},
   "outputs": [
    {
     "name": "stdout",
     "output_type": "stream",
     "text": [
      "2.4409990310668945\n"
     ]
    }
   ],
   "source": [
    "print(loss.item())"
   ]
  },
  {
   "cell_type": "code",
   "execution_count": 23,
   "metadata": {},
   "outputs": [
    {
     "name": "stdout",
     "output_type": "stream",
     "text": [
      "\n",
      "'shons ppplirn!\n",
      "meftou ow uring, avewist th;\n",
      "TENTEMETCingmenco, An he waro whiougou he s imaror?\n",
      "Bu ne-ingof acat nd l,\n",
      "Fothind at wrt:\n",
      "HMovint gros!\n",
      "AMQUThes med thestw cos wand herf s hafold madlous jouney biPoeronngabsestouMOLAgm IUNONDohery ththe tonty th, fourf thatys ng dHepp qur ace Einowhemy azer:\n",
      "I,\n",
      "Ishit tingthat ha tteredef seariomams.\n",
      "Makine,\n",
      "\n",
      "Than ts hientr?\n",
      "3iveance re y l, urest codauseabertierr,\n",
      "her tr fed\n",
      "th h'es?\n",
      "S:\n",
      "Awo!\n",
      "I'l,\n",
      "Aty kise ug, ben telo,\n",
      "ANG cousk, thoa hroro s lly n\n"
     ]
    }
   ],
   "source": [
    "print(decode(n.generation(idx=torch.zeros((1, 1), dtype=torch.long), max_new_tokens=500)[0].tolist()))"
   ]
  },
  {
   "cell_type": "code",
   "execution_count": null,
   "metadata": {},
   "outputs": [],
   "source": []
  }
 ],
 "metadata": {
  "kernelspec": {
   "display_name": "torch",
   "language": "python",
   "name": "python3"
  },
  "language_info": {
   "codemirror_mode": {
    "name": "ipython",
    "version": 3
   },
   "file_extension": ".py",
   "mimetype": "text/x-python",
   "name": "python",
   "nbconvert_exporter": "python",
   "pygments_lexer": "ipython3",
   "version": "3.10.11"
  },
  "orig_nbformat": 4
 },
 "nbformat": 4,
 "nbformat_minor": 2
}
