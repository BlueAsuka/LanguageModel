{
 "cells": [
  {
   "cell_type": "code",
   "execution_count": 18,
   "metadata": {},
   "outputs": [
    {
     "data": {
      "text/plain": [
       "<torch._C.Generator at 0x22b3fde8870>"
      ]
     },
     "execution_count": 18,
     "metadata": {},
     "output_type": "execute_result"
    }
   ],
   "source": [
    "import torch\n",
    "import torch.nn as nn\n",
    "import torch.nn.functional as F\n",
    "torch.manual_seed(1337)"
   ]
  },
  {
   "cell_type": "code",
   "execution_count": 35,
   "metadata": {},
   "outputs": [],
   "source": [
    "with open('../data/input.txt', 'r', encoding='utf-8') as f:\n",
    "    shakespeare = f.read()\n",
    "    \n",
    "# List all unique characters that occurs in the input text\n",
    "chars = sorted(list(set(shakespeare)))\n",
    "vocab_size = len(chars)"
   ]
  },
  {
   "cell_type": "code",
   "execution_count": 22,
   "metadata": {},
   "outputs": [
    {
     "name": "stdout",
     "output_type": "stream",
     "text": [
      "[46, 47, 47, 6, 1, 58, 46, 43, 56, 43]\n",
      "hii, there\n"
     ]
    }
   ],
   "source": [
    "# mapping from characters to integers for encoding\n",
    "stoi = { ch:i for i, ch in enumerate(chars) }\n",
    "itos = { i:ch for i, ch in enumerate(chars) }\n",
    "encode = lambda s : [stoi[c] for c in s] # Take a string and output a list of integers\n",
    "decode = lambda i : ''.join([itos[c] for c in i]) # Take a list of integers and output a list of string\n",
    "\n",
    "test_string = \"hii, there\"\n",
    "print(encode(test_string))\n",
    "print(decode(encode(test_string)))"
   ]
  },
  {
   "cell_type": "code",
   "execution_count": 36,
   "metadata": {},
   "outputs": [],
   "source": [
    "# encode the entire text dataset and store it into a torch.Tensor\n",
    "data = torch.tensor(encode(shakespeare), dtype=torch.long)"
   ]
  },
  {
   "cell_type": "code",
   "execution_count": 24,
   "metadata": {},
   "outputs": [],
   "source": [
    "# Let's now split up the data into train and validation sets\n",
    "n = int(0.9*len(data)) # first 90% will be train, rest val\n",
    "train_data = data[:n]\n",
    "val_data = data[n:]"
   ]
  },
  {
   "cell_type": "code",
   "execution_count": 37,
   "metadata": {},
   "outputs": [],
   "source": [
    "torch.manual_seed(1337)\n",
    "batch_size = 4 # How many independent sequences will be process in parallel?\n",
    "block_size = 8 # What is the maximum context length for predictions?"
   ]
  },
  {
   "cell_type": "code",
   "execution_count": 39,
   "metadata": {},
   "outputs": [],
   "source": [
    "def get_batch(split):\n",
    "    data = train_data if split == 'train' else val_data\n",
    "    ix = torch.randint(len(data) - block_size, (batch_size,))\n",
    "    x = torch.stack([data[i:i+block_size] for i in ix])\n",
    "    y = torch.stack([data[i+1:i+block_size+1] for i in ix])\n",
    "    return x, y"
   ]
  },
  {
   "cell_type": "code",
   "execution_count": 29,
   "metadata": {},
   "outputs": [],
   "source": [
    "# A modified neural network for bigram model\n",
    "class EnhancedBigramLanguageModel(nn.Module):\n",
    "    def __init__(self, vocab_size, n_embd) -> None:\n",
    "        super().__init__()\n",
    "        # the embedding table is in the shape of (vocab_size, vocab_size)\n",
    "        self.token_embedding_table = nn.Embedding(vocab_size, n_embd)\n",
    "        \n",
    "        # ------------------modified--------------------------------------\n",
    "        # the linear layer to map the embedding to the output\n",
    "        self.ln_head = nn.Linear(n_embd, vocab_size)\n",
    "    \n",
    "    def forward(self, idx, targets=None):\n",
    "        # idx and target are in the size of (B, T)\n",
    "        tok_emb = self.token_embedding_table(idx) # (B, T, n_embd)\n",
    "        \n",
    "        # ------------------modified--------------------------------------\n",
    "        logits = self.ln_head(tok_emb)            # (B, T, vocab_size)\n",
    "        \n",
    "        if targets is None: # for generation without providing target\n",
    "            loss = None\n",
    "        else:\n",
    "            # Reshape the logits tensor to meet definition of the cross_entropy function in Pytorch\n",
    "            B, T, C = logits.shape\n",
    "            logits = logits.view(B*T, C) # Concatenate B, T\n",
    "            targets = targets.view(B*T)    # Same reshaping to the target tensor\n",
    "            loss = F.cross_entropy(logits, targets) # calculate the loss\n",
    "        \n",
    "        return logits, loss\n",
    "    \n",
    "    def generation(self, idx, max_new_tokens):\n",
    "        # idx is (B, T) array of indices in the current context\n",
    "        for _ in range(max_new_tokens):\n",
    "            # get the predictions\n",
    "            logits, _ = self(idx)\n",
    "            \n",
    "            # focus only on the last time step\n",
    "            logits = logits[:, -1, :] # becomes (B, C)\n",
    "            \n",
    "            # apply softmax to get probabilities\n",
    "            probs = F.softmax(logits, dim=-1) # (B, C)\n",
    "            \n",
    "            # sample from the distribution\n",
    "            idx_next = torch.multinomial(probs, num_samples=1) # (B, 1)\n",
    "            \n",
    "            # append sampled index to the running sequence\n",
    "            idx = torch.cat((idx, idx_next), dim=1) # (B, T+1)\n",
    "            \n",
    "        return idx"
   ]
  },
  {
   "cell_type": "code",
   "execution_count": 30,
   "metadata": {},
   "outputs": [],
   "source": [
    "mn = EnhancedBigramLanguageModel(vocab_size, n_embd=32)"
   ]
  },
  {
   "cell_type": "code",
   "execution_count": 31,
   "metadata": {},
   "outputs": [],
   "source": [
    "optimizer = torch.optim.AdamW(mn.parameters(), lr=1e-3)"
   ]
  },
  {
   "cell_type": "code",
   "execution_count": 32,
   "metadata": {},
   "outputs": [
    {
     "name": "stderr",
     "output_type": "stream",
     "text": [
      "100%|██████████| 10000/10000 [00:13<00:00, 721.15it/s]\n"
     ]
    }
   ],
   "source": [
    "from tqdm import tqdm\n",
    "\n",
    "batch_size = 32\n",
    "epochs = 10000\n",
    "losses = []\n",
    "for e in tqdm(range(epochs)):\n",
    "    xb, yb = get_batch('train')\n",
    "    \n",
    "    logits, loss = mn(xb, yb)\n",
    "    optimizer.zero_grad(set_to_none=True)\n",
    "    loss.backward()\n",
    "    optimizer.step()\n",
    "    losses.append(loss.item())"
   ]
  },
  {
   "cell_type": "code",
   "execution_count": 33,
   "metadata": {},
   "outputs": [
    {
     "name": "stdout",
     "output_type": "stream",
     "text": [
      "2.3846118450164795\n"
     ]
    }
   ],
   "source": [
    "print(loss.item())"
   ]
  },
  {
   "cell_type": "code",
   "execution_count": 34,
   "metadata": {},
   "outputs": [
    {
     "name": "stdout",
     "output_type": "stream",
     "text": [
      "\n",
      "Grk b n mertee sonidin y y arermet hn y, denjod be w illd CHALe mer thoun s's:\n",
      "Thicuntilalllepane sthalldy hangilyoteng h hasbe pan hatrance\n",
      "RDe hicomyonthar's\n",
      "PES:\n",
      "AKEd ith henoungincenonthiousir thondy, y heltieiengerofo'dsssit ey\n",
      "KINld pe wither vouplloutherccnoha t,\n",
      "K:\n",
      "\n",
      "My hind tt hinig t ouchos tes; st younind wotte grotonear 'so it t jod weancothanan hay. t--s n prids, r loncave w holldse se O:\n",
      "HIs; ht anje caike ineent.\n",
      "\n",
      "Lavinde.\n",
      "athave l.\n",
      "KEONH:\n",
      "ARThanco be y,-\n",
      "\n",
      "NEEYowedy scace, aridesar\n"
     ]
    }
   ],
   "source": [
    "print(decode(mn.generation(idx=torch.zeros((1, 1), dtype=torch.long), max_new_tokens=500)[0].tolist()))"
   ]
  }
 ],
 "metadata": {
  "kernelspec": {
   "display_name": "torch",
   "language": "python",
   "name": "python3"
  },
  "language_info": {
   "codemirror_mode": {
    "name": "ipython",
    "version": 3
   },
   "file_extension": ".py",
   "mimetype": "text/x-python",
   "name": "python",
   "nbconvert_exporter": "python",
   "pygments_lexer": "ipython3",
   "version": "3.10.11"
  },
  "orig_nbformat": 4
 },
 "nbformat": 4,
 "nbformat_minor": 2
}
