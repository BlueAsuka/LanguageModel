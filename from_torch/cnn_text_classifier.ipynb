{
 "cells": [
  {
   "cell_type": "code",
   "execution_count": 2,
   "metadata": {},
   "outputs": [],
   "source": [
    "import re\n",
    "import random\n",
    "import numpy as np\n",
    "import urllib\n",
    "import torch\n",
    "import torch.nn as nn\n",
    "from torch.autograd import Variable\n",
    "import torch.nn.functional as F"
   ]
  },
  {
   "cell_type": "markdown",
   "metadata": {},
   "source": [
    "# Load data"
   ]
  },
  {
   "cell_type": "code",
   "execution_count": 41,
   "metadata": {},
   "outputs": [],
   "source": [
    "# Use the URL to obtain the corpus from the web \n",
    "url = 'https://cogcomp.seas.upenn.edu/Data/QA/QC/train_5500.label'\n",
    "\n",
    "try:\n",
    "    url_response = urllib.request.urlopen(url) \n",
    "except urllib.error.HTTPError as e:\n",
    "    e.msg += ' ' + url\n",
    "    raise"
   ]
  },
  {
   "cell_type": "code",
   "execution_count": 43,
   "metadata": {},
   "outputs": [],
   "source": [
    "# Obtain raw text from the given URL\n",
    "# Decode the bytes using UTF-8 format\n",
    "# Use the keyword 'ignore' for decoding\n",
    "raw_text = url_response.read().decode('utf8', 'ignore')"
   ]
  },
  {
   "cell_type": "code",
   "execution_count": 48,
   "metadata": {},
   "outputs": [
    {
     "name": "stdout",
     "output_type": "stream",
     "text": [
      "<class 'str'>\n"
     ]
    },
    {
     "data": {
      "text/plain": [
       "'DESC:manner How did serfdom develop in and then leave Russia ?\\nENTY:cremat What films featured the c'"
      ]
     },
     "execution_count": 48,
     "metadata": {},
     "output_type": "execute_result"
    }
   ],
   "source": [
    "print(type(raw_text))\n",
    "raw_text[:100]"
   ]
  },
  {
   "cell_type": "markdown",
   "metadata": {},
   "source": [
    "# Data Preprocessing"
   ]
  },
  {
   "cell_type": "markdown",
   "metadata": {},
   "source": [
    "Split the tag from the dataset"
   ]
  },
  {
   "cell_type": "code",
   "execution_count": 97,
   "metadata": {},
   "outputs": [
    {
     "name": "stdout",
     "output_type": "stream",
     "text": [
      "ENTY:other What 's the shape of a camel 's spine ?\n",
      "ENTY:currency What type of currency is used in China ?\n",
      "NUM:temp What is the temperature today ?\n",
      "NUM:temp What is the temperature for cooking ?\n",
      "ENTY:currency What currency is used in Australia ?\n",
      "Total tagged questions: 5452\n"
     ]
    }
   ],
   "source": [
    "# Remove the whitespace in the beginning and the end\n",
    "# Split the string and convert it into a list of questions\n",
    "ques_list = raw_text.strip().split('\\n')\n",
    "\n",
    "# Show the last five samples\n",
    "for q in ques_list[-5:]: \n",
    "    print(q) \n",
    "\n",
    "print(f'Total tagged questions: {len(ques_list)}')"
   ]
  },
  {
   "cell_type": "code",
   "execution_count": 92,
   "metadata": {},
   "outputs": [
    {
     "name": "stdout",
     "output_type": "stream",
     "text": [
      "NUM:date In what year did Thatcher gain power ?\n",
      "['NUM', 'date In what year did Thatcher gain power ?']\n",
      "['date In what year did Thatcher gain power ', 'NUM']\n"
     ]
    }
   ],
   "source": [
    "# Use one sample in the question list to show the data processing\n",
    "rand_idx = random.randint(0, len(ques_list))\n",
    "sample = ques_list[rand_idx]\n",
    "print(sample)\n",
    "\n",
    "split_sample = sample.split(':')\n",
    "print(split_sample)\n",
    "\n",
    "mark, ques = split_sample[0], split_sample[1][:-1] # Remove the question mark\n",
    "print([ques, mark])"
   ]
  },
  {
   "cell_type": "code",
   "execution_count": 96,
   "metadata": {},
   "outputs": [],
   "source": [
    "# Data processing on the whole dataset\n",
    "tagged_ques_list = [[q.split(':')[1][:-1], q.split(':')[0]] for q in ques_list]"
   ]
  },
  {
   "cell_type": "code",
   "execution_count": 95,
   "metadata": {},
   "outputs": [],
   "source": [
    "assert len(tagged_ques_list) == len(ques_list), \"Different length after data processing\""
   ]
  },
  {
   "cell_type": "code",
   "execution_count": 107,
   "metadata": {},
   "outputs": [
    {
     "name": "stdout",
     "output_type": "stream",
     "text": [
      "['date When was Ozzy Osbourne born ', 'reason Why do heavier objects travel downhill faster ', 'ind Who was The Pride of the Yankees ', 'ind Who killed Gandhi ', 'event What is considered the costliest disaster the insurance industry has ever faced ']\n",
      "['NUM', 'DESC', 'HUM', 'HUM', 'ENTY']\n"
     ]
    }
   ],
   "source": [
    "ques, tags = list(zip(*tagged_ques_list)) # Split the questions and the tags\n",
    "ques, tags = list(ques), list(tags) # Convert from tuple to list\n",
    "\n",
    "print(ques[10:15])\n",
    "print(tags[10:15])"
   ]
  },
  {
   "cell_type": "markdown",
   "metadata": {},
   "source": [
    "Number masking for search space reduction"
   ]
  },
  {
   "cell_type": "code",
   "execution_count": 109,
   "metadata": {},
   "outputs": [],
   "source": [
    "for i, q in enumerate(ques):\n",
    "    ques[i] = re.sub('\\d', '#', q).split()"
   ]
  },
  {
   "cell_type": "markdown",
   "metadata": {},
   "source": [
    "Build word2index and tag2index"
   ]
  },
  {
   "cell_type": "code",
   "execution_count": 110,
   "metadata": {},
   "outputs": [],
   "source": [
    "# Extract all words from the all questions\n",
    "flatten = lambda l: [item for sublist in l for item in sublist]\n",
    "vocab = list(set(flatten(ques)))"
   ]
  },
  {
   "cell_type": "code",
   "execution_count": 113,
   "metadata": {},
   "outputs": [
    {
     "name": "stdout",
     "output_type": "stream",
     "text": [
      "Total words: 9125\n",
      "['limit', 'accompanied', 'freeway', 'martyrs', 'match', 'Fiedler', 'money', 'pushy', 'grades', 'dissented']\n",
      "Total tags: 6\n",
      "{'HUM', 'NUM', 'ABBR', 'ENTY', 'DESC', 'LOC'}\n"
     ]
    }
   ],
   "source": [
    "print(f'Total words: {len(vocab)}')\n",
    "print(vocab[:10])\n",
    "print(f'Total tags: {len(set(tags))}')\n",
    "print(set(tags))"
   ]
  },
  {
   "cell_type": "code",
   "execution_count": null,
   "metadata": {},
   "outputs": [],
   "source": []
  }
 ],
 "metadata": {
  "kernelspec": {
   "display_name": "Python 3.8.13 ('ml')",
   "language": "python",
   "name": "python3"
  },
  "language_info": {
   "codemirror_mode": {
    "name": "ipython",
    "version": 3
   },
   "file_extension": ".py",
   "mimetype": "text/x-python",
   "name": "python",
   "nbconvert_exporter": "python",
   "pygments_lexer": "ipython3",
   "version": "3.8.13"
  },
  "orig_nbformat": 4,
  "vscode": {
   "interpreter": {
    "hash": "e76b06f811d914f25ddf1d876c9e6424e54248baadb52cf54ff8d72e027625bb"
   }
  }
 },
 "nbformat": 4,
 "nbformat_minor": 2
}
