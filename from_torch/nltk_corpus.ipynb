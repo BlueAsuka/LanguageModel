{
 "cells": [
  {
   "cell_type": "code",
   "execution_count": 59,
   "metadata": {},
   "outputs": [],
   "source": [
    "import nltk"
   ]
  },
  {
   "cell_type": "code",
   "execution_count": 60,
   "metadata": {},
   "outputs": [
    {
     "data": {
      "text/plain": [
       "['austen-emma.txt',\n",
       " 'austen-persuasion.txt',\n",
       " 'austen-sense.txt',\n",
       " 'bible-kjv.txt',\n",
       " 'blake-poems.txt',\n",
       " 'bryant-stories.txt',\n",
       " 'burgess-busterbrown.txt',\n",
       " 'carroll-alice.txt',\n",
       " 'chesterton-ball.txt',\n",
       " 'chesterton-brown.txt',\n",
       " 'chesterton-thursday.txt',\n",
       " 'edgeworth-parents.txt',\n",
       " 'melville-moby_dick.txt',\n",
       " 'milton-paradise.txt',\n",
       " 'shakespeare-caesar.txt',\n",
       " 'shakespeare-hamlet.txt',\n",
       " 'shakespeare-macbeth.txt',\n",
       " 'whitman-leaves.txt']"
      ]
     },
     "execution_count": 60,
     "metadata": {},
     "output_type": "execute_result"
    }
   ],
   "source": [
    "# Load the a small selection of texts from the Project Gutenberg electronic text archive\n",
    "# The whole project contains 25,000 electronic books\n",
    "gutenberg= nltk.corpus.gutenberg\n",
    "gutenberg.fileids()"
   ]
  },
  {
   "cell_type": "code",
   "execution_count": 61,
   "metadata": {},
   "outputs": [
    {
     "name": "stdout",
     "output_type": "stream",
     "text": [
      "Total number of letters in the shakespeare-macbeth.txt: 887071\n",
      "[Emma by J\n"
     ]
    }
   ],
   "source": [
    "# Take the unprocessed \"raw\" text of the book without spliting up into tokens\n",
    "emma_corpus_raw = gutenberg.raw('austen-emma.txt')\n",
    "print(f'Total number of letters in the shakespeare-macbeth.txt: {len(emma_corpus_raw)}')\n",
    "print(emma_corpus_raw[:10])"
   ]
  },
  {
   "cell_type": "code",
   "execution_count": 62,
   "metadata": {},
   "outputs": [
    {
     "name": "stdout",
     "output_type": "stream",
     "text": [
      "Total number of words in the austen-emma.txt: 192427\n",
      "['[', 'Emma', 'by', 'Jane', 'Austen', '1816', ']', 'VOLUME', 'I', 'CHAPTER']\n"
     ]
    }
   ],
   "source": [
    "# Take all words (after tokenization) from a text using the words() function\n",
    "emma_corpus_words = gutenberg.words('austen-emma.txt')\n",
    "print(f'Total number of words in the austen-emma.txt: {len(emma_corpus_words)}')\n",
    "print(emma_corpus_words[:10])"
   ]
  },
  {
   "cell_type": "code",
   "execution_count": 89,
   "metadata": {},
   "outputs": [
    {
     "name": "stdout",
     "output_type": "stream",
     "text": [
      "['[', 'Emma', 'by', 'Jane', 'Austen', '1816', ']'] \n",
      "\n",
      "['VOLUME', 'I'] \n",
      "\n",
      "['CHAPTER', 'I'] \n",
      "\n",
      "['Emma', 'Woodhouse', ',', 'handsome', ',', 'clever', ',', 'and', 'rich', ',', 'with', 'a', 'comfortable', 'home', 'and', 'happy', 'disposition', ',', 'seemed', 'to', 'unite', 'some', 'of', 'the', 'best', 'blessings', 'of', 'existence', ';', 'and', 'had', 'lived', 'nearly', 'twenty', '-', 'one', 'years', 'in', 'the', 'world', 'with', 'very', 'little', 'to', 'distress', 'or', 'vex', 'her', '.'] \n",
      "\n",
      "['She', 'was', 'the', 'youngest', 'of', 'the', 'two', 'daughters', 'of', 'a', 'most', 'affectionate', ',', 'indulgent', 'father', ';', 'and', 'had', ',', 'in', 'consequence', 'of', 'her', 'sister', \"'\", 's', 'marriage', ',', 'been', 'mistress', 'of', 'his', 'house', 'from', 'a', 'very', 'early', 'period', '.'] \n",
      "\n",
      "['Her', 'mother', 'had', 'died', 'too', 'long', 'ago', 'for', 'her', 'to', 'have', 'more', 'than', 'an', 'indistinct', 'remembrance', 'of', 'her', 'caresses', ';', 'and', 'her', 'place', 'had', 'been', 'supplied', 'by', 'an', 'excellent', 'woman', 'as', 'governess', ',', 'who', 'had', 'fallen', 'little', 'short', 'of', 'a', 'mother', 'in', 'affection', '.'] \n",
      "\n",
      "['Sixteen', 'years', 'had', 'Miss', 'Taylor', 'been', 'in', 'Mr', '.', 'Woodhouse', \"'\", 's', 'family', ',', 'less', 'as', 'a', 'governess', 'than', 'a', 'friend', ',', 'very', 'fond', 'of', 'both', 'daughters', ',', 'but', 'particularly', 'of', 'Emma', '.'] \n",
      "\n",
      "['Between', '_them_', 'it', 'was', 'more', 'the', 'intimacy', 'of', 'sisters', '.'] \n",
      "\n",
      "['Even', 'before', 'Miss', 'Taylor', 'had', 'ceased', 'to', 'hold', 'the', 'nominal', 'office', 'of', 'governess', ',', 'the', 'mildness', 'of', 'her', 'temper', 'had', 'hardly', 'allowed', 'her', 'to', 'impose', 'any', 'restraint', ';', 'and', 'the', 'shadow', 'of', 'authority', 'being', 'now', 'long', 'passed', 'away', ',', 'they', 'had', 'been', 'living', 'together', 'as', 'friend', 'and', 'friend', 'very', 'mutually', 'attached', ',', 'and', 'Emma', 'doing', 'just', 'what', 'she', 'liked', ';', 'highly', 'esteeming', 'Miss', 'Taylor', \"'\", 's', 'judgment', ',', 'but', 'directed', 'chiefly', 'by', 'her', 'own', '.'] \n",
      "\n",
      "['The', 'real', 'evils', ',', 'indeed', ',', 'of', 'Emma', \"'\", 's', 'situation', 'were', 'the', 'power', 'of', 'having', 'rather', 'too', 'much', 'her', 'own', 'way', ',', 'and', 'a', 'disposition', 'to', 'think', 'a', 'little', 'too', 'well', 'of', 'herself', ';', 'these', 'were', 'the', 'disadvantages', 'which', 'threatened', 'alloy', 'to', 'her', 'many', 'enjoyments', '.'] \n",
      "\n"
     ]
    }
   ],
   "source": [
    "# Also, read the text is using the function called sents()\n",
    "# In this way, it reads a whole sentence in the text\n",
    "emma_corpus_sentences = gutenberg.sents('austen-emma.txt')\n",
    "for s in emma_corpus_sentences[:10]:\n",
    "    print(s, '\\n')"
   ]
  },
  {
   "cell_type": "code",
   "execution_count": 88,
   "metadata": {},
   "outputs": [
    {
     "name": "stdout",
     "output_type": "stream",
     "text": [
      "[['[', 'Emma', 'by', 'Jane', 'Austen', '1816', ']']] \n",
      "\n",
      "[['VOLUME', 'I']] \n",
      "\n",
      "[['CHAPTER', 'I']] \n",
      "\n",
      "[['Emma', 'Woodhouse', ',', 'handsome', ',', 'clever', ',', 'and', 'rich', ',', 'with', 'a', 'comfortable', 'home', 'and', 'happy', 'disposition', ',', 'seemed', 'to', 'unite', 'some', 'of', 'the', 'best', 'blessings', 'of', 'existence', ';', 'and', 'had', 'lived', 'nearly', 'twenty', '-', 'one', 'years', 'in', 'the', 'world', 'with', 'very', 'little', 'to', 'distress', 'or', 'vex', 'her', '.']] \n",
      "\n",
      "[['She', 'was', 'the', 'youngest', 'of', 'the', 'two', 'daughters', 'of', 'a', 'most', 'affectionate', ',', 'indulgent', 'father', ';', 'and', 'had', ',', 'in', 'consequence', 'of', 'her', 'sister', \"'\", 's', 'marriage', ',', 'been', 'mistress', 'of', 'his', 'house', 'from', 'a', 'very', 'early', 'period', '.'], ['Her', 'mother', 'had', 'died', 'too', 'long', 'ago', 'for', 'her', 'to', 'have', 'more', 'than', 'an', 'indistinct', 'remembrance', 'of', 'her', 'caresses', ';', 'and', 'her', 'place', 'had', 'been', 'supplied', 'by', 'an', 'excellent', 'woman', 'as', 'governess', ',', 'who', 'had', 'fallen', 'little', 'short', 'of', 'a', 'mother', 'in', 'affection', '.']] \n",
      "\n",
      "[['Sixteen', 'years', 'had', 'Miss', 'Taylor', 'been', 'in', 'Mr', '.', 'Woodhouse', \"'\", 's', 'family', ',', 'less', 'as', 'a', 'governess', 'than', 'a', 'friend', ',', 'very', 'fond', 'of', 'both', 'daughters', ',', 'but', 'particularly', 'of', 'Emma', '.'], ['Between', '_them_', 'it', 'was', 'more', 'the', 'intimacy', 'of', 'sisters', '.'], ['Even', 'before', 'Miss', 'Taylor', 'had', 'ceased', 'to', 'hold', 'the', 'nominal', 'office', 'of', 'governess', ',', 'the', 'mildness', 'of', 'her', 'temper', 'had', 'hardly', 'allowed', 'her', 'to', 'impose', 'any', 'restraint', ';', 'and', 'the', 'shadow', 'of', 'authority', 'being', 'now', 'long', 'passed', 'away', ',', 'they', 'had', 'been', 'living', 'together', 'as', 'friend', 'and', 'friend', 'very', 'mutually', 'attached', ',', 'and', 'Emma', 'doing', 'just', 'what', 'she', 'liked', ';', 'highly', 'esteeming', 'Miss', 'Taylor', \"'\", 's', 'judgment', ',', 'but', 'directed', 'chiefly', 'by', 'her', 'own', '.']] \n",
      "\n",
      "[['The', 'real', 'evils', ',', 'indeed', ',', 'of', 'Emma', \"'\", 's', 'situation', 'were', 'the', 'power', 'of', 'having', 'rather', 'too', 'much', 'her', 'own', 'way', ',', 'and', 'a', 'disposition', 'to', 'think', 'a', 'little', 'too', 'well', 'of', 'herself', ';', 'these', 'were', 'the', 'disadvantages', 'which', 'threatened', 'alloy', 'to', 'her', 'many', 'enjoyments', '.'], ['The', 'danger', ',', 'however', ',', 'was', 'at', 'present', 'so', 'unperceived', ',', 'that', 'they', 'did', 'not', 'by', 'any', 'means', 'rank', 'as', 'misfortunes', 'with', 'her', '.']] \n",
      "\n",
      "[['Sorrow', 'came', '--', 'a', 'gentle', 'sorrow', '--', 'but', 'not', 'at', 'all', 'in', 'the', 'shape', 'of', 'any', 'disagreeable', 'consciousness', '.--', 'Miss', 'Taylor', 'married', '.'], ['It', 'was', 'Miss', 'Taylor', \"'\", 's', 'loss', 'which', 'first', 'brought', 'grief', '.'], ['It', 'was', 'on', 'the', 'wedding', '-', 'day', 'of', 'this', 'beloved', 'friend', 'that', 'Emma', 'first', 'sat', 'in', 'mournful', 'thought', 'of', 'any', 'continuance', '.'], ['The', 'wedding', 'over', ',', 'and', 'the', 'bride', '-', 'people', 'gone', ',', 'her', 'father', 'and', 'herself', 'were', 'left', 'to', 'dine', 'together', ',', 'with', 'no', 'prospect', 'of', 'a', 'third', 'to', 'cheer', 'a', 'long', 'evening', '.'], ['Her', 'father', 'composed', 'himself', 'to', 'sleep', 'after', 'dinner', ',', 'as', 'usual', ',', 'and', 'she', 'had', 'then', 'only', 'to', 'sit', 'and', 'think', 'of', 'what', 'she', 'had', 'lost', '.']] \n",
      "\n",
      "[['The', 'event', 'had', 'every', 'promise', 'of', 'happiness', 'for', 'her', 'friend', '.'], ['Mr', '.', 'Weston', 'was', 'a', 'man', 'of', 'unexceptionable', 'character', ',', 'easy', 'fortune', ',', 'suitable', 'age', ',', 'and', 'pleasant', 'manners', ';', 'and', 'there', 'was', 'some', 'satisfaction', 'in', 'considering', 'with', 'what', 'self', '-', 'denying', ',', 'generous', 'friendship', 'she', 'had', 'always', 'wished', 'and', 'promoted', 'the', 'match', ';', 'but', 'it', 'was', 'a', 'black', 'morning', \"'\", 's', 'work', 'for', 'her', '.'], ['The', 'want', 'of', 'Miss', 'Taylor', 'would', 'be', 'felt', 'every', 'hour', 'of', 'every', 'day', '.'], ['She', 'recalled', 'her', 'past', 'kindness', '--', 'the', 'kindness', ',', 'the', 'affection', 'of', 'sixteen', 'years', '--', 'how', 'she', 'had', 'taught', 'and', 'how', 'she', 'had', 'played', 'with', 'her', 'from', 'five', 'years', 'old', '--', 'how', 'she', 'had', 'devoted', 'all', 'her', 'powers', 'to', 'attach', 'and', 'amuse', 'her', 'in', 'health', '--', 'and', 'how', 'nursed', 'her', 'through', 'the', 'various', 'illnesses', 'of', 'childhood', '.'], ['A', 'large', 'debt', 'of', 'gratitude', 'was', 'owing', 'here', ';', 'but', 'the', 'intercourse', 'of', 'the', 'last', 'seven', 'years', ',', 'the', 'equal', 'footing', 'and', 'perfect', 'unreserve', 'which', 'had', 'soon', 'followed', 'Isabella', \"'\", 's', 'marriage', ',', 'on', 'their', 'being', 'left', 'to', 'each', 'other', ',', 'was', 'yet', 'a', 'dearer', ',', 'tenderer', 'recollection', '.'], ['She', 'had', 'been', 'a', 'friend', 'and', 'companion', 'such', 'as', 'few', 'possessed', ':', 'intelligent', ',', 'well', '-', 'informed', ',', 'useful', ',', 'gentle', ',', 'knowing', 'all', 'the', 'ways', 'of', 'the', 'family', ',', 'interested', 'in', 'all', 'its', 'concerns', ',', 'and', 'peculiarly', 'interested', 'in', 'herself', ',', 'in', 'every', 'pleasure', ',', 'every', 'scheme', 'of', 'hers', '--', 'one', 'to', 'whom', 'she', 'could', 'speak', 'every', 'thought', 'as', 'it', 'arose', ',', 'and', 'who', 'had', 'such', 'an', 'affection', 'for', 'her', 'as', 'could', 'never', 'find', 'fault', '.']] \n",
      "\n",
      "[['How', 'was', 'she', 'to', 'bear', 'the', 'change', '?--', 'It', 'was', 'true', 'that', 'her', 'friend', 'was', 'going', 'only', 'half', 'a', 'mile', 'from', 'them', ';', 'but', 'Emma', 'was', 'aware', 'that', 'great', 'must', 'be', 'the', 'difference', 'between', 'a', 'Mrs', '.', 'Weston', ',', 'only', 'half', 'a', 'mile', 'from', 'them', ',', 'and', 'a', 'Miss', 'Taylor', 'in', 'the', 'house', ';', 'and', 'with', 'all', 'her', 'advantages', ',', 'natural', 'and', 'domestic', ',', 'she', 'was', 'now', 'in', 'great', 'danger', 'of', 'suffering', 'from', 'intellectual', 'solitude', '.'], ['She', 'dearly', 'loved', 'her', 'father', ',', 'but', 'he', 'was', 'no', 'companion', 'for', 'her', '.'], ['He', 'could', 'not', 'meet', 'her', 'in', 'conversation', ',', 'rational', 'or', 'playful', '.']] \n",
      "\n"
     ]
    }
   ],
   "source": [
    "# Read the text according to paragraph using the function paras()\n",
    "emma_corpus_paras = gutenberg.paras()\n",
    "for p in emma_corpus_paras[:10]:\n",
    "    print(p, '\\n')"
   ]
  },
  {
   "cell_type": "code",
   "execution_count": 87,
   "metadata": {},
   "outputs": [
    {
     "name": "stdout",
     "output_type": "stream",
     "text": [
      "firefox.txt\n",
      "Cookie Manager: \"Don't allow sites that set removed cookies  \n",
      "\n",
      "grail.txt\n",
      "SCENE 1: [wind] [clop clop clop] \n",
      "KING ARTHUR: Whoa there!   \n",
      "\n",
      "overheard.txt\n",
      "White guy: So, do you have any plans for this evening?\n",
      "Asian \n",
      "\n",
      "pirates.txt\n",
      "PIRATES OF THE CARRIBEAN: DEAD MAN'S CHEST, by Ted Elliott & \n",
      "\n",
      "singles.txt\n",
      "25 SEXY MALE, seeks attrac older single lady, for discreet e \n",
      "\n",
      "wine.txt\n",
      "Lovely delicate, fragrant Rhone wine. Polished leather and s \n",
      "\n"
     ]
    }
   ],
   "source": [
    "# Webtext corpus\n",
    "webtext_corpus = nltk.corpus.webtext\n",
    "for f in webtext_corpus.fileids():\n",
    "    print(f)\n",
    "    print(f'{webtext_corpus.raw(f)[:60]} \\n')"
   ]
  },
  {
   "cell_type": "code",
   "execution_count": 66,
   "metadata": {},
   "outputs": [],
   "source": [
    "# Chatbot corpus\n",
    "nps_chat_corpus = nltk.corpus.nps_chat"
   ]
  },
  {
   "cell_type": "code",
   "execution_count": 71,
   "metadata": {},
   "outputs": [
    {
     "name": "stdout",
     "output_type": "stream",
     "text": [
      "[['now', 'im', 'left', 'with', 'this', 'gay', 'name'], [':P'], ['PART'], ['hey', 'everyone'], ['ah', 'well']]\n",
      "['i', 'do', \"n't\", 'want', 'hot', 'pics', 'of', 'a', 'female', ',', 'I', 'can', 'look', 'in', 'a', 'mirror', '.']\n"
     ]
    }
   ],
   "source": [
    "chatroom = nps_chat_corpus.posts('10-19-20s_706posts.xml')\n",
    "print(chatroom[:5])\n",
    "print([c for c in chatroom[123]])"
   ]
  },
  {
   "cell_type": "code",
   "execution_count": 77,
   "metadata": {},
   "outputs": [
    {
     "name": "stdout",
     "output_type": "stream",
     "text": [
      "['Abagael', 'Abagail', 'Abbe', 'Abbey', 'Abbi', 'Abbie', 'Abby', 'Abigael', 'Abigail', 'Abigale']\n"
     ]
    }
   ],
   "source": [
    "# Female names from the names corpus in NLTK\n",
    "female_names_corpus = nltk.corpus.names\n",
    "name_list = female_names_corpus.words()\n",
    "print(name_list[:10])"
   ]
  },
  {
   "cell_type": "code",
   "execution_count": 84,
   "metadata": {},
   "outputs": [
    {
     "name": "stdout",
     "output_type": "stream",
     "text": [
      "['adventure', 'belles_lettres', 'editorial', 'fiction', 'government', 'hobbies', 'humor', 'learned', 'lore', 'mystery', 'news', 'religion', 'reviews', 'romance', 'science_fiction']\n"
     ]
    }
   ],
   "source": [
    "# The Brown Corpus was the first million-word electronic corpus of English, created in 1961 at Brown University. \n",
    "# This corpus contains text from 500 sources, and the sources have been categorized by genre, such as news, editorial, and so on. \n",
    "brown_corpus = nltk.corpus.brown\n",
    "print(brown_corpus.categories())"
   ]
  },
  {
   "cell_type": "code",
   "execution_count": 86,
   "metadata": {},
   "outputs": [
    {
     "name": "stdout",
     "output_type": "stream",
     "text": [
      "['The', 'Fulton', 'County', 'Grand', 'Jury', 'said', 'Friday', 'an', 'investigation', 'of', \"Atlanta's\", 'recent', 'primary', 'election', 'produced', '``', 'no', 'evidence', \"''\", 'that', 'any', 'irregularities', 'took', 'place', '.'] \n",
      "\n",
      "['The', 'jury', 'further', 'said', 'in', 'term-end', 'presentments', 'that', 'the', 'City', 'Executive', 'Committee', ',', 'which', 'had', 'over-all', 'charge', 'of', 'the', 'election', ',', '``', 'deserves', 'the', 'praise', 'and', 'thanks', 'of', 'the', 'City', 'of', 'Atlanta', \"''\", 'for', 'the', 'manner', 'in', 'which', 'the', 'election', 'was', 'conducted', '.'] \n",
      "\n",
      "['The', 'September-October', 'term', 'jury', 'had', 'been', 'charged', 'by', 'Fulton', 'Superior', 'Court', 'Judge', 'Durwood', 'Pye', 'to', 'investigate', 'reports', 'of', 'possible', '``', 'irregularities', \"''\", 'in', 'the', 'hard-fought', 'primary', 'which', 'was', 'won', 'by', 'Mayor-nominate', 'Ivan', 'Allen', 'Jr.', '.'] \n",
      "\n",
      "['``', 'Only', 'a', 'relative', 'handful', 'of', 'such', 'reports', 'was', 'received', \"''\", ',', 'the', 'jury', 'said', ',', '``', 'considering', 'the', 'widespread', 'interest', 'in', 'the', 'election', ',', 'the', 'number', 'of', 'voters', 'and', 'the', 'size', 'of', 'this', 'city', \"''\", '.'] \n",
      "\n",
      "['The', 'jury', 'said', 'it', 'did', 'find', 'that', 'many', 'of', \"Georgia's\", 'registration', 'and', 'election', 'laws', '``', 'are', 'outmoded', 'or', 'inadequate', 'and', 'often', 'ambiguous', \"''\", '.'] \n",
      "\n",
      "['It', 'recommended', 'that', 'Fulton', 'legislators', 'act', '``', 'to', 'have', 'these', 'laws', 'studied', 'and', 'revised', 'to', 'the', 'end', 'of', 'modernizing', 'and', 'improving', 'them', \"''\", '.'] \n",
      "\n",
      "['The', 'grand', 'jury', 'commented', 'on', 'a', 'number', 'of', 'other', 'topics', ',', 'among', 'them', 'the', 'Atlanta', 'and', 'Fulton', 'County', 'purchasing', 'departments', 'which', 'it', 'said', '``', 'are', 'well', 'operated', 'and', 'follow', 'generally', 'accepted', 'practices', 'which', 'inure', 'to', 'the', 'best', 'interest', 'of', 'both', 'governments', \"''\", '.'] \n",
      "\n",
      "['Merger', 'proposed'] \n",
      "\n",
      "['However', ',', 'the', 'jury', 'said', 'it', 'believes', '``', 'these', 'two', 'offices', 'should', 'be', 'combined', 'to', 'achieve', 'greater', 'efficiency', 'and', 'reduce', 'the', 'cost', 'of', 'administration', \"''\", '.'] \n",
      "\n",
      "['The', 'City', 'Purchasing', 'Department', ',', 'the', 'jury', 'said', ',', '``', 'is', 'lacking', 'in', 'experienced', 'clerical', 'personnel', 'as', 'a', 'result', 'of', 'city', 'personnel', 'policies', \"''\", '.'] \n",
      "\n"
     ]
    }
   ],
   "source": [
    "brown_news_words = brown_corpus.words(categories='news')\n",
    "for s in brown_corpus.sents(categories='news')[:10]:\n",
    "    print(s, '\\n')"
   ]
  },
  {
   "cell_type": "code",
   "execution_count": 96,
   "metadata": {},
   "outputs": [],
   "source": [
    "cfd = nltk.ConditionalFreqDist((g, w) for g in brown_corpus.categories() for w in brown_corpus.words(categories=g))"
   ]
  },
  {
   "cell_type": "code",
   "execution_count": 97,
   "metadata": {},
   "outputs": [
    {
     "name": "stdout",
     "output_type": "stream",
     "text": [
      "                  can could   may might  must  will \n",
      "           news    93    86    66    38    50   389 \n",
      "       religion    82    59    78    12    54    71 \n",
      "        hobbies   268    58   131    22    83   264 \n",
      "science_fiction    16    49     4    12     8    16 \n",
      "        romance    74   193    11    51    45    43 \n",
      "          humor    16    30     8     8     9    13 \n"
     ]
    }
   ],
   "source": [
    "genres = ['news', 'religion', 'hobbies', 'science_fiction', 'romance', 'humor']\n",
    "modals = ['can', 'could', 'may', 'might', 'must', 'will']\n",
    "cfd.tabulate(conditions=genres, samples=modals)"
   ]
  },
  {
   "cell_type": "code",
   "execution_count": 108,
   "metadata": {},
   "outputs": [
    {
     "data": {
      "text/plain": [
       "'C:\\\\Users\\\\s381731\\\\AppData\\\\Roaming\\\\nltk_data\\\\corpora\\\\gutenberg'"
      ]
     },
     "execution_count": 108,
     "metadata": {},
     "output_type": "execute_result"
    }
   ],
   "source": [
    "nltk.corpus.gutenberg.root.split()[0]"
   ]
  },
  {
   "cell_type": "code",
   "execution_count": null,
   "metadata": {},
   "outputs": [],
   "source": []
  }
 ],
 "metadata": {
  "kernelspec": {
   "display_name": "Python 3.8.13 ('ml')",
   "language": "python",
   "name": "python3"
  },
  "language_info": {
   "codemirror_mode": {
    "name": "ipython",
    "version": 3
   },
   "file_extension": ".py",
   "mimetype": "text/x-python",
   "name": "python",
   "nbconvert_exporter": "python",
   "pygments_lexer": "ipython3",
   "version": "3.8.13"
  },
  "orig_nbformat": 4,
  "vscode": {
   "interpreter": {
    "hash": "e76b06f811d914f25ddf1d876c9e6424e54248baadb52cf54ff8d72e027625bb"
   }
  }
 },
 "nbformat": 4,
 "nbformat_minor": 2
}
