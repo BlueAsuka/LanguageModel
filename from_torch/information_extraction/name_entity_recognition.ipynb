{
 "cells": [
  {
   "cell_type": "markdown",
   "metadata": {},
   "source": [
    "Named-entity recognition (NER) (also known as (named) entity identification, entity chunking, and entity extraction) is a subtask of information extraction that seeks to locate and classify named entities mentioned in unstructured text into pre-defined categories such as person names, organizations, locations, medical codes, time expressions, quantities, monetary values, percentages, etc."
   ]
  },
  {
   "cell_type": "code",
   "execution_count": 1,
   "metadata": {},
   "outputs": [
    {
     "name": "stderr",
     "output_type": "stream",
     "text": [
      "C:\\Users\\s381731\\AppData\\Roaming\\Python\\Python38\\site-packages\\tqdm\\auto.py:22: TqdmWarning: IProgress not found. Please update jupyter and ipywidgets. See https://ipywidgets.readthedocs.io/en/stable/user_install.html\n",
      "  from .autonotebook import tqdm as notebook_tqdm\n"
     ]
    }
   ],
   "source": [
    "import nltk\n",
    "import random\n",
    "import numpy as np\n",
    "from IPython import display\n",
    "from tqdm import tqdm\n",
    "import torch\n",
    "import torch.nn as nn\n",
    "from torch.autograd import Variable\n",
    "import sklearn"
   ]
  },
  {
   "cell_type": "code",
   "execution_count": 2,
   "metadata": {},
   "outputs": [
    {
     "data": {
      "text/plain": [
       "<torch._C.Generator at 0x1c0033cfa70>"
      ]
     },
     "execution_count": 2,
     "metadata": {},
     "output_type": "execute_result"
    }
   ],
   "source": [
    "torch.manual_seed(123456789)"
   ]
  },
  {
   "cell_type": "markdown",
   "metadata": {},
   "source": [
    "# Data Loading"
   ]
  },
  {
   "cell_type": "markdown",
   "metadata": {},
   "source": [
    "ConLL-2002 dataset samples: The left column is the list of words of a sentence, the right column is the list of tag of each word. Thus, the sentence in the following picture is: <br /> \n",
    "\n",
    "*'Wolff, currently a journalist in Argentina, played with Del Bosque in the final years of the seventies in Real Madrid.'* <br />\n",
    "\n",
    "The tag list is: <br />\n",
    "B-PER, O, O, ..., B-LOC, O, ..., B-PER, I-PER, O, ..., B-ORG, I-ORG, O <br />\n",
    "\n",
    "where, person names (PER), organizations (ORG), locations (LOC) and miscellaneous names (MISC)"
   ]
  },
  {
   "cell_type": "code",
   "execution_count": 3,
   "metadata": {},
   "outputs": [
    {
     "data": {
      "image/png": "[encoded data removed]",
      "text/plain": [
       "<IPython.core.display.Image object>"
      ]
     },
     "execution_count": 3,
     "metadata": {},
     "output_type": "execute_result"
    }
   ],
   "source": [
    "display.Image('imgs/ConLL-2002_dataset_samples.PNG')"
   ]
  },
  {
   "cell_type": "code",
   "execution_count": 4,
   "metadata": {},
   "outputs": [
    {
     "name": "stdout",
     "output_type": "stream",
     "text": [
      "[('Sao', 'NC', 'B-LOC'), ('Paulo', 'VMI', 'I-LOC'), ('(', 'Fpa', 'O'), ('Brasil', 'NC', 'B-LOC'), (')', 'Fpt', 'O'), (',', 'Fc', 'O'), ('23', 'Z', 'O'), ('may', 'NC', 'O'), ('(', 'Fpa', 'O'), ('EFECOM', 'NP', 'B-ORG'), (')', 'Fpt', 'O'), ('.', 'Fp', 'O')]\n",
      "('Sao', 'Paulo', '(', 'Brasil', ')', ',', '23', 'may', '(', 'EFECOM', ')', '.')\n",
      "('B-LOC', 'I-LOC', 'O', 'B-LOC', 'O', 'O', 'O', 'O', 'O', 'B-ORG', 'O', 'O')\n"
     ]
    }
   ],
   "source": [
    "# Use the NLTK conll2002 dataset as the corpus\n",
    "conll2002_corpus = nltk.corpus.conll2002.iob_sents()\n",
    "print(conll2002_corpus[0])      # Take the first sample in the corpus\n",
    "\n",
    "# Zip to get words and tags in the sample list\n",
    "# which is the first and the third item in each tuple\n",
    "words, _, tags = list(zip(*conll2002_corpus[0])) \n",
    "print(words)\n",
    "print(tags)\n",
    "assert len(words) == len(tags), \"Different size\""
   ]
  },
  {
   "cell_type": "code",
   "execution_count": 5,
   "metadata": {},
   "outputs": [],
   "source": [
    "# Get words and tags from the whole dataset\n",
    "data = []\n",
    "word_list = []\n",
    "tag_list = []\n",
    "\n",
    "for l in conll2002_corpus:\n",
    "    words, _, tags = list(zip(*l))\n",
    "    word_list.append(words)\n",
    "    tag_list.append(tags)\n",
    "    data.append([words, tags])"
   ]
  },
  {
   "cell_type": "code",
   "execution_count": 6,
   "metadata": {},
   "outputs": [
    {
     "name": "stdout",
     "output_type": "stream",
     "text": [
      "[('Sao', 'Paulo', '(', 'Brasil', ')', ',', '23', 'may', '(', 'EFECOM', ')', '.'), ('B-LOC', 'I-LOC', 'O', 'B-LOC', 'O', 'O', 'O', 'O', 'O', 'B-ORG', 'O', 'O')]\n"
     ]
    }
   ],
   "source": [
    "print(data[0])"
   ]
  },
  {
   "cell_type": "markdown",
   "metadata": {},
   "source": [
    "# Data preprocessing"
   ]
  },
  {
   "cell_type": "markdown",
   "metadata": {},
   "source": [
    "Create vocabulary set and tag set"
   ]
  },
  {
   "cell_type": "code",
   "execution_count": 7,
   "metadata": {},
   "outputs": [],
   "source": [
    "flatten = lambda l: [item for sublist in l for item in sublist]\n",
    "\n",
    "# Collect all words and tags in the dataset to be the vocab and tagset\n",
    "vocab = list(set(flatten(word_list)))\n",
    "tagset = list(set(flatten(tag_list)))"
   ]
  },
  {
   "cell_type": "code",
   "execution_count": 8,
   "metadata": {},
   "outputs": [
    {
     "name": "stdout",
     "output_type": "stream",
     "text": [
      "['MUERTE', 'ultraviolet', 'extrema', 'suggestieve', 'territoriumafbakening', 'vleermuisgeluiden', '5.51', 'dromer', 'perste', 'politieman']\n",
      "['B-LOC', 'I-PER', 'I-ORG', 'B-ORG', 'I-MISC', 'O', 'B-PER', 'I-LOC', 'B-MISC']\n"
     ]
    }
   ],
   "source": [
    "print(vocab[:10])\n",
    "print(tagset)"
   ]
  },
  {
   "cell_type": "markdown",
   "metadata": {},
   "source": [
    "Indexing the vocabulary list and the tag list"
   ]
  },
  {
   "cell_type": "code",
   "execution_count": 9,
   "metadata": {},
   "outputs": [],
   "source": [
    "# Build the word2index and index2word dictionary of the vocab list\n",
    "word2index = {'<U>':0, '</>':1}\n",
    "init_len = len(word2index)\n",
    "word2index.update({w:(i + init_len) for i, w in enumerate(vocab)})\n",
    "index2word = {i:w for w, i in word2index.items()}"
   ]
  },
  {
   "cell_type": "code",
   "execution_count": 10,
   "metadata": {},
   "outputs": [
    {
     "name": "stdout",
     "output_type": "stream",
     "text": [
      "1 </>\n"
     ]
    }
   ],
   "source": [
    "print(word2index['</>'], index2word[1])"
   ]
  },
  {
   "cell_type": "code",
   "execution_count": 11,
   "metadata": {},
   "outputs": [
    {
     "name": "stdout",
     "output_type": "stream",
     "text": [
      "{'B-LOC': 0, 'I-PER': 1, 'I-ORG': 2, 'B-ORG': 3, 'I-MISC': 4, 'O': 5, 'B-PER': 6, 'I-LOC': 7, 'B-MISC': 8}\n",
      "{0: 'B-LOC', 1: 'I-PER', 2: 'I-ORG', 3: 'B-ORG', 4: 'I-MISC', 5: 'O', 6: 'B-PER', 7: 'I-LOC', 8: 'B-MISC'}\n"
     ]
    }
   ],
   "source": [
    "# Build the word2index and index2word dictionary of the tags list\n",
    "tag2index = {t:i for i, t in enumerate(tagset)}\n",
    "index2tag = {i:t for t, i in tag2index.items()}\n",
    "print(tag2index)\n",
    "print(index2tag)"
   ]
  },
  {
   "cell_type": "markdown",
   "metadata": {},
   "source": [
    "Create n-grams window for samples construction"
   ]
  },
  {
   "cell_type": "code",
   "execution_count": 12,
   "metadata": {},
   "outputs": [
    {
     "name": "stdout",
     "output_type": "stream",
     "text": [
      "['</>', '</>', 'Sao', 'Paulo', '(', 'Brasil', ')', ',', '23', 'may', '(', 'EFECOM', ')', '.', '</>', '</>'] \n",
      "\n",
      "('</>', '</>', 'Sao', 'Paulo', '(')\n",
      "('</>', 'Sao', 'Paulo', '(', 'Brasil')\n",
      "('Sao', 'Paulo', '(', 'Brasil', ')')\n",
      "('Paulo', '(', 'Brasil', ')', ',')\n",
      "('(', 'Brasil', ')', ',', '23')\n",
      "('Brasil', ')', ',', '23', 'may')\n",
      "(')', ',', '23', 'may', '(')\n",
      "(',', '23', 'may', '(', 'EFECOM')\n",
      "('23', 'may', '(', 'EFECOM', ')')\n",
      "('may', '(', 'EFECOM', ')', '.')\n",
      "('(', 'EFECOM', ')', '.', '</>')\n",
      "('EFECOM', ')', '.', '</>', '</>')\n",
      "\n",
      "('B-LOC', 'I-LOC', 'O', 'B-LOC', 'O', 'O', 'O', 'O', 'O', 'B-ORG', 'O', 'O')\n"
     ]
    }
   ],
   "source": [
    "# Construct the ngrams for building training samples\n",
    "# Center the word in the n_gram slicing windows as the target \n",
    "# For each slicing window, Mark it with the tag of the center word (target).\n",
    "# In this way, the tag can be recognized considering context around the targeted word\n",
    "# Use the first sample in the data to demonstrate the idea\n",
    "WINDOW_SIZE = 2\n",
    "sample = data[0] # sample[0] => sentence words, sample[1] => word tags \n",
    "\n",
    "# </>, </>, 'w1', 'w2', ..., 'wn-1', 'wn', </>, </>\n",
    "sent = ['</>'] * WINDOW_SIZE + list(sample[0]) + ['</>'] * WINDOW_SIZE\n",
    "print(sent, '\\n')\n",
    "\n",
    "n_grams_window = flatten([list(nltk.ngrams(sent, WINDOW_SIZE * 2 + 1))])\n",
    "for i in n_grams_window: print(i)\n",
    "\n",
    "print()\n",
    "print(sample[1])\n",
    "\n",
    "training_samples = [[n_grams_window[i], sample[1][i]] for i in range(len(sample[0]))]"
   ]
  },
  {
   "cell_type": "code",
   "execution_count": 13,
   "metadata": {},
   "outputs": [
    {
     "name": "stderr",
     "output_type": "stream",
     "text": [
      "100%|██████████| 35651/35651 [00:01<00:00, 26875.38it/s]\n"
     ]
    }
   ],
   "source": [
    "samples = []\n",
    "for i in tqdm(range(len(data))):\n",
    "    sample = data[i] # sample[0] => sentence words, sample[1] => word tags \n",
    "    sent = ['</>'] * WINDOW_SIZE + list(sample[0]) + ['</>'] * WINDOW_SIZE\n",
    "    n_grams_window = flatten([list(nltk.ngrams(sent, WINDOW_SIZE * 2 + 1))])\n",
    "    samples.extend([[n_grams_window[i], sample[1][i]] for i in range(len(sample[0]))])"
   ]
  },
  {
   "cell_type": "code",
   "execution_count": 14,
   "metadata": {},
   "outputs": [
    {
     "name": "stdout",
     "output_type": "stream",
     "text": [
      "678377\n"
     ]
    },
    {
     "data": {
      "text/plain": [
       "[[('</>', '</>', 'Sao', 'Paulo', '('), 'B-LOC'],\n",
       " [('</>', 'Sao', 'Paulo', '(', 'Brasil'), 'I-LOC'],\n",
       " [('Sao', 'Paulo', '(', 'Brasil', ')'), 'O'],\n",
       " [('Paulo', '(', 'Brasil', ')', ','), 'B-LOC'],\n",
       " [('(', 'Brasil', ')', ',', '23'), 'O'],\n",
       " [('Brasil', ')', ',', '23', 'may'), 'O'],\n",
       " [(')', ',', '23', 'may', '('), 'O'],\n",
       " [(',', '23', 'may', '(', 'EFECOM'), 'O'],\n",
       " [('23', 'may', '(', 'EFECOM', ')'), 'O'],\n",
       " [('may', '(', 'EFECOM', ')', '.'), 'B-ORG']]"
      ]
     },
     "execution_count": 14,
     "metadata": {},
     "output_type": "execute_result"
    }
   ],
   "source": [
    "print(len(samples))\n",
    "samples[:10]"
   ]
  },
  {
   "cell_type": "markdown",
   "metadata": {},
   "source": [
    "Split the dataset"
   ]
  },
  {
   "cell_type": "code",
   "execution_count": 15,
   "metadata": {},
   "outputs": [],
   "source": [
    "def spilt_data(dataset, training_ratio=0.9):\n",
    "    random.shuffle(dataset)\n",
    "    split_index = int(len(dataset) * training_ratio)\n",
    "    return dataset[:split_index], dataset[split_index:]"
   ]
  },
  {
   "cell_type": "code",
   "execution_count": 16,
   "metadata": {},
   "outputs": [
    {
     "name": "stdout",
     "output_type": "stream",
     "text": [
      "610539\n",
      "[[('proyecto', 'por', 'parte', 'de', 'los'), 'O'], [('del', 'ELN', 'y', 'las', 'FARC'), 'O'], [('7', ',', '6', ',', '5'), 'O'], [('la', 'sensatez', ',', 'el', 'sentido'), 'O'], [('</>', '</>', 'Col', \"d'Izoard\", '2.360'), 'B-LOC'], [('hebben', 'ons', 'namelijk', 'voorgenomen', 'om'), 'O'], [('km/h', 'E.', 'Bernoldi', '(', 'BRA'), 'I-PER'], [('un', 'privilegiado', 'por', 'haber', 'conseguido'), 'O'], [('\"', 'De', 'twee', 'kanten', 'zijn'), 'O'], [('intervenir', 'fueron', 'los', 'agentes', 'de'), 'O']]\n",
      "67838\n",
      "[[('próximos', 'dos', 'años', '.', '</>'), 'O'], [('que', 'ha', 'tratado', 'otras', 'cuestiones'), 'O'], [('rond', 'de', 'tafel', 'te', 'gaan'), 'O'], [('del', 'futuro', 'Defensor', 'del', 'Pueblo'), 'B-PER'], [('Moran', ',', 'al', 'pronosticar', 'la'), 'O'], [('de', 'Estado', 'contradice', 'la', 'versión'), 'O'], [('ze', 'te', 'vinden', '.', '</>'), 'O'], [('met', 'vakken', 'als', 'handel', 'allicht'), 'O'], [('</>', '</>', '\"', 'Neen.', 'we'), 'O'], [('</>', '</>', 'KDM', ')', '</>'), 'B-PER']]\n"
     ]
    }
   ],
   "source": [
    "train_data, test_data = spilt_data(samples)\n",
    "print(len(train_data))\n",
    "print(train_data[:10])\n",
    "print(len(test_data))\n",
    "print(test_data[:10])"
   ]
  },
  {
   "cell_type": "markdown",
   "metadata": {},
   "source": [
    "# Build the model"
   ]
  },
  {
   "cell_type": "code",
   "execution_count": 17,
   "metadata": {},
   "outputs": [
    {
     "data": {
      "image/png": "[encoded data removed]",
      "text/plain": [
       "<IPython.core.display.Image object>"
      ]
     },
     "execution_count": 17,
     "metadata": {},
     "output_type": "execute_result"
    }
   ],
   "source": [
    "display.Image('imgs/window-classifier-architecture.png')"
   ]
  },
  {
   "cell_type": "code",
   "execution_count": 18,
   "metadata": {},
   "outputs": [],
   "source": [
    "class WindowClassifier(nn.Module): \n",
    "    def __init__(self, vocab_size, embedding_size, window_size, hidden_size, output_size):\n",
    "\n",
    "        super(WindowClassifier, self).__init__()\n",
    "        \n",
    "        self.embed = nn.Embedding(vocab_size, embedding_size)\n",
    "        self.h_layer1 = nn.Linear(embedding_size * (window_size * 2 + 1), hidden_size)\n",
    "        self.h_layer2 = nn.Linear(hidden_size, hidden_size)\n",
    "        self.o_layer = nn.Linear(hidden_size, output_size)\n",
    "        self.relu = nn.ReLU()\n",
    "        self.softmax = nn.LogSoftmax(dim=1)\n",
    "        self.dropout = nn.Dropout(0.3)\n",
    "        \n",
    "    def forward(self, inputs, is_training=False): \n",
    "        embeds = self.embed(inputs) # BxWxD\n",
    "        concated = embeds.view(-1, embeds.size(1) * embeds.size(2)) # Bx(W*D)\n",
    "        h0 = self.relu(self.h_layer1(concated))\n",
    "        if is_training:\n",
    "            h0 = self.dropout(h0)\n",
    "        h1 = self.relu(self.h_layer2(h0))\n",
    "        if is_training:\n",
    "            h1 = self.dropout(h1)\n",
    "        out = self.softmax(self.o_layer(h1))\n",
    "        return out"
   ]
  },
  {
   "cell_type": "markdown",
   "metadata": {},
   "source": [
    "# Train the model"
   ]
  },
  {
   "cell_type": "code",
   "execution_count": 19,
   "metadata": {},
   "outputs": [],
   "source": [
    "# Hyper parameters\n",
    "BATCH_SIZE = 128\n",
    "EMBEDDING_SIZE = 50 # x (WINDOW_SIZE*2+1) = 250\n",
    "HIDDEN_SIZE = 300\n",
    "EPOCH = 3\n",
    "LEARNING_RATE = 0.001"
   ]
  },
  {
   "cell_type": "code",
   "execution_count": 20,
   "metadata": {},
   "outputs": [],
   "source": [
    "# Check and set running device (gpu or cpu)\n",
    "USE_CUDA = torch.cuda.is_available()\n",
    "gpus = [0]\n",
    "torch.cuda.set_device(gpus[0])\n",
    "\n",
    "FloatTensor = torch.cuda.FloatTensor if USE_CUDA else torch.FloatTensor\n",
    "LongTensor = torch.cuda.LongTensor if USE_CUDA else torch.LongTensor\n",
    "ByteTensor = torch.cuda.ByteTensor if USE_CUDA else torch.ByteTensor"
   ]
  },
  {
   "cell_type": "code",
   "execution_count": 21,
   "metadata": {},
   "outputs": [],
   "source": [
    "# Define and initalize the model \n",
    "model = WindowClassifier(len(word2index), EMBEDDING_SIZE, WINDOW_SIZE, HIDDEN_SIZE, len(tag2index))\n",
    "if USE_CUDA:\n",
    "    model = model.cuda()"
   ]
  },
  {
   "cell_type": "code",
   "execution_count": 22,
   "metadata": {},
   "outputs": [
    {
     "name": "stdout",
     "output_type": "stream",
     "text": [
      "torch.Size([128, 5, 50])\n",
      "torch.Size([128, 9])\n",
      "tensor([5, 5, 5, 5, 0, 5, 1, 5, 5, 5, 5, 5, 5, 5, 5, 5, 5, 8, 5, 5, 7, 4, 6, 5,\n",
      "        5, 5, 5, 5, 5, 5, 5, 5, 5, 5, 5, 5, 8, 5, 5, 5, 5, 4, 5, 2, 5, 5, 5, 5,\n",
      "        5, 5, 5, 0, 5, 3, 5, 5, 5, 5, 5, 5, 5, 1, 8, 5, 5, 5, 7, 5, 5, 5, 5, 5,\n",
      "        5, 5, 5, 6, 6, 5, 3, 1, 0, 5, 5, 5, 5, 5, 5, 5, 0, 5, 5, 5, 5, 5, 5, 5,\n",
      "        5, 4, 5, 5, 5, 8, 4, 5, 4, 5, 5, 5, 3, 5, 5, 5, 5, 5, 5, 7, 5, 5, 5, 5,\n",
      "        5, 1, 5, 5, 5, 5, 5, 5])\n"
     ]
    }
   ],
   "source": [
    "# A simple demo on how to embed the tensor \n",
    "embeds = nn.Embedding(len(word2index), 50, device='cuda')\n",
    "words, tags = zip(*train_data[0:128])\n",
    "words_tensor = torch.tensor([[word2index[w] if word2index.get(w) is not None \n",
    "                                else word2index['<U>'] for w in s] for s in words], device='cuda')\n",
    "# print(words_tensor)\n",
    "print(embeds(words_tensor).size())\n",
    "\n",
    "# 128 * 5 * 50 => 128 * 250\n",
    "# 128 * 250 X 250 * 300 => 128 * 300\n",
    "# 128 * 300 X 300 * 300 => 128 * 300\n",
    "# 128 * 300 X 300 * 9 => 128 * 9\n",
    "out = model(words_tensor)\n",
    "print(out.size())\n",
    "\n",
    "tags_tensor = torch.tensor([tag2index[t] for t in tags])\n",
    "print(tags_tensor)"
   ]
  },
  {
   "cell_type": "code",
   "execution_count": 23,
   "metadata": {},
   "outputs": [],
   "source": [
    "# Get batch from the training dataset for model traing\n",
    "def get_batch(batch_size, train_data):\n",
    "    random.shuffle(train_data)\n",
    "    sindex = 0\n",
    "    eindex = batch_size\n",
    "    while eindex < len(train_data):\n",
    "        batch = train_data[sindex: eindex]\n",
    "        temp = eindex\n",
    "        eindex = eindex + batch_size\n",
    "        sindex = temp\n",
    "        yield batch\n",
    "    \n",
    "    if eindex >= len(train_data):\n",
    "        batch = train_data[sindex:]\n",
    "        yield batch"
   ]
  },
  {
   "cell_type": "code",
   "execution_count": 24,
   "metadata": {},
   "outputs": [],
   "source": [
    "# Define the loss function using the cross entropy loss function\n",
    "loss_function = nn.CrossEntropyLoss()\n",
    "# loss_function = nn.MultiLabelMarginLoss()"
   ]
  },
  {
   "cell_type": "code",
   "execution_count": 25,
   "metadata": {},
   "outputs": [],
   "source": [
    "# Optimizer\n",
    "optimizer = torch.optim.Adam(model.parameters(), lr=LEARNING_RATE)"
   ]
  },
  {
   "cell_type": "code",
   "execution_count": 26,
   "metadata": {},
   "outputs": [],
   "source": [
    "def prepare_sequence(seq, word2index):\n",
    "    idxs = list(map(lambda w: word2index[w] if word2index.get(w) is not None else word2index['<U>'], seq))\n",
    "    return Variable(LongTensor(idxs))\n",
    "\n",
    "def prepare_tag(tag, tag2index):\n",
    "    return Variable(LongTensor([tag2index[tag]]))"
   ]
  },
  {
   "cell_type": "code",
   "execution_count": 27,
   "metadata": {},
   "outputs": [
    {
     "name": "stdout",
     "output_type": "stream",
     "text": [
      "1/3 =======================\n",
      "0/4769: mean_loss = 2.2212369441986084\n",
      "1000/4769: mean_loss = 0.4691313533037901\n",
      "2000/4769: mean_loss = 0.37745162553340195\n",
      "3000/4769: mean_loss = 0.3225526345670223\n",
      "4000/4769: mean_loss = 0.2863086482286453\n",
      "2/3 =======================\n",
      "0/4769: mean_loss = 0.21026121079921722\n",
      "1000/4769: mean_loss = 0.2208796297609806\n",
      "2000/4769: mean_loss = 0.21064140663668512\n",
      "3000/4769: mean_loss = 0.2013148185275495\n",
      "4000/4769: mean_loss = 0.18835350628569722\n",
      "3/3 =======================\n",
      "0/4769: mean_loss = 0.1388850063085556\n",
      "1000/4769: mean_loss = 0.15221127769630402\n",
      "2000/4769: mean_loss = 0.1445002423049882\n",
      "3000/4769: mean_loss = 0.14699054403603076\n",
      "4000/4769: mean_loss = 0.14067921970225872\n"
     ]
    }
   ],
   "source": [
    "for e in range(EPOCH):\n",
    "    print(f'{e+1}/{EPOCH} =======================')\n",
    "\n",
    "    losses = [] # for loss tracking\n",
    "\n",
    "    for i, batch in enumerate(get_batch(BATCH_SIZE, train_data)):\n",
    "        words, tags = list(zip(*batch)) # Unpack batch samples as words and tags\n",
    "\n",
    "        # Convert words and tags as tensor\n",
    "        # words_tensor will be in the size of batch_size x 2 * WINDOW_SIZE + 1 x embedding_size\n",
    "        # Which is 128 x (2 * 2 + 1) x 50\n",
    "        inputs = torch.cat([prepare_sequence(sent, word2index).view(1, -1) for sent in words])\n",
    "        targets = torch.cat([prepare_tag(t, tag2index) for t in tags])\n",
    "        # print(inputs)\n",
    "\n",
    "        # Forward\n",
    "        model.zero_grad()\n",
    "        preds = model(inputs, is_training=True)\n",
    "        # print(preds)\n",
    "        loss = loss_function(preds, targets)\n",
    "        losses.append(loss.item())\n",
    "\n",
    "        # Backward\n",
    "        loss.backward()\n",
    "\n",
    "        # Update\n",
    "        optimizer.step()\n",
    "\n",
    "        # Track the errors\n",
    "        if i % 1000 == 0:\n",
    "            print(f'{i}/{len(train_data) // BATCH_SIZE}: mean_loss = {np.mean(losses)}')\n",
    "            losses = [] # "
   ]
  },
  {
   "cell_type": "markdown",
   "metadata": {},
   "source": [
    "# Test"
   ]
  },
  {
   "cell_type": "markdown",
   "metadata": {},
   "source": [
    " Get prediction using test sample"
   ]
  },
  {
   "cell_type": "code",
   "execution_count": 28,
   "metadata": {},
   "outputs": [
    {
     "name": "stdout",
     "output_type": "stream",
     "text": [
      "[('L.', 'Ronald', 'Hubbard', ',', 'el'), 'I-PER']\n",
      "tensor([64240, 20084, 46052, 21186, 64464], device='cuda:0')\n",
      "tensor([[-10.6950,  -0.0203,  -6.0117, -10.9404,  -4.3081,  -6.6141,  -7.2713,\n",
      "          -6.1801, -12.6987]], device='cuda:0', grad_fn=<LogSoftmaxBackward0>)\n",
      "word: Hubbard, tag prediction: I-PER\n"
     ]
    }
   ],
   "source": [
    "# Use a sample in the test set as a demo\n",
    "rand_idx = random.randint(0, len(test_data))\n",
    "test_sample = test_data[rand_idx]\n",
    "print(test_sample)\n",
    "\n",
    "# Extract words and tag from the sample, then convert all words into a tensor\n",
    "words, tag = test_sample[0], test_sample[1]\n",
    "words_tensor = torch.tensor([word2index[w] if word2index.get(w) is not None else word2index['<U>'] for w in words], device='cuda')\n",
    "print(words_tensor)\n",
    "\n",
    "# Use the forward pass to get the prediction tensor\n",
    "out = model(words_tensor.view(1, -1))\n",
    "print(out)\n",
    "\n",
    "# Get the index of the biggest item in the tensor as the final prediction\n",
    "tag_idx = out.max(1)[1]\n",
    "print(f'word: {words[WINDOW_SIZE]}, tag prediction: {index2tag[tag_idx.item()]}')"
   ]
  },
  {
   "cell_type": "markdown",
   "metadata": {},
   "source": [
    "Compute prediction accuracy on the test set"
   ]
  },
  {
   "cell_type": "code",
   "execution_count": 29,
   "metadata": {},
   "outputs": [
    {
     "name": "stderr",
     "output_type": "stream",
     "text": [
      "100%|██████████| 67838/67838 [00:38<00:00, 1777.99it/s]\n"
     ]
    }
   ],
   "source": [
    "# Test on the whole test set using the F1 score\n",
    "n_corrent = 0 # Count the number of corrent prediction\n",
    "for_f1_score = []\n",
    "\n",
    "for i in tqdm(range(len(test_data))):\n",
    "    sample = test_data[i]\n",
    "\n",
    "    words, tag = sample[0], sample[1]\n",
    "    w_t = torch.tensor([word2index[w] if word2index.get(w) is not None else word2index['<U>'] for w in words], device='cuda')\n",
    "    out = model(w_t.view(1, -1)).max(1)[1]\n",
    "    pred = index2tag[out.item()]\n",
    "    for_f1_score.append([pred, tag])\n",
    "\n",
    "    if pred == tag:\n",
    "        n_corrent += 1"
   ]
  },
  {
   "cell_type": "code",
   "execution_count": 30,
   "metadata": {},
   "outputs": [
    {
     "name": "stdout",
     "output_type": "stream",
     "text": [
      "The accuracy : 95.5644\n"
     ]
    }
   ],
   "source": [
    "print(f'The accuracy : {n_corrent / len(test_data) * 100:.04f}')"
   ]
  },
  {
   "cell_type": "markdown",
   "metadata": {},
   "source": [
    "Print Confusion matrix"
   ]
  },
  {
   "cell_type": "code",
   "execution_count": 31,
   "metadata": {},
   "outputs": [
    {
     "name": "stdout",
     "output_type": "stream",
     "text": [
      "              precision    recall  f1-score   support\n",
      "\n",
      "       B-LOC      0.679     0.760     0.717       984\n",
      "       I-LOC      0.421     0.662     0.514       204\n",
      "      B-MISC      0.450     0.710     0.551       517\n",
      "      I-MISC      0.451     0.599     0.515       496\n",
      "       B-ORG      0.633     0.831     0.718      1079\n",
      "       I-ORG      0.655     0.781     0.713       818\n",
      "       B-PER      0.760     0.778     0.769      1299\n",
      "       I-PER      0.856     0.832     0.844       982\n",
      "\n",
      "   micro avg      0.648     0.770     0.704      6379\n",
      "   macro avg      0.613     0.744     0.668      6379\n",
      "weighted avg      0.667     0.770     0.711      6379\n",
      "\n"
     ]
    }
   ],
   "source": [
    "y_pred, y_test = list(zip(*for_f1_score))\n",
    "sorted_labels = sorted(list(set(y_test) - {'O'}), key=lambda name: (name[1:], name[0]))\n",
    "\n",
    "y_pred = [[y] for y in y_pred]\n",
    "y_test = [[y] for y in y_test]\n",
    "\n",
    "print(sklearn.metrics.classification_report(y_pred, y_test, labels=sorted_labels, digits=3))"
   ]
  },
  {
   "cell_type": "code",
   "execution_count": null,
   "metadata": {},
   "outputs": [],
   "source": []
  }
 ],
 "metadata": {
  "kernelspec": {
   "display_name": "Python 3.8.13 ('ml')",
   "language": "python",
   "name": "python3"
  },
  "language_info": {
   "codemirror_mode": {
    "name": "ipython",
    "version": 3
   },
   "file_extension": ".py",
   "mimetype": "text/x-python",
   "name": "python",
   "nbconvert_exporter": "python",
   "pygments_lexer": "ipython3",
   "version": "3.8.13"
  },
  "orig_nbformat": 4,
  "vscode": {
   "interpreter": {
    "hash": "e76b06f811d914f25ddf1d876c9e6424e54248baadb52cf54ff8d72e027625bb"
   }
  }
 },
 "nbformat": 4,
 "nbformat_minor": 2
}
