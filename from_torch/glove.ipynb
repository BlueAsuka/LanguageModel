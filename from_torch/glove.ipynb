{
 "cells": [
  {
   "cell_type": "markdown",
   "metadata": {},
   "source": [
    "An implementation of GloVe (Global vectors for word representation)"
   ]
  },
  {
   "cell_type": "code",
   "execution_count": 2,
   "metadata": {},
   "outputs": [],
   "source": [
    "import nltk\n",
    "from collections import Counter\n",
    "from itertools import combinations_with_replacement\n",
    "from tqdm import tqdm\n",
    "import random\n",
    "import torch\n",
    "import torch.nn as nn\n",
    "import torch.nn.functional as F\n",
    "import torch.optim as optim\n",
    "import numpy as np\n",
    "from IPython import display"
   ]
  },
  {
   "cell_type": "code",
   "execution_count": 3,
   "metadata": {},
   "outputs": [
    {
     "data": {
      "text/plain": [
       "<torch._C.Generator at 0x1b51c5e55d0>"
      ]
     },
     "execution_count": 3,
     "metadata": {},
     "output_type": "execute_result"
    }
   ],
   "source": [
    "torch.manual_seed(2345678)"
   ]
  },
  {
   "cell_type": "markdown",
   "metadata": {},
   "source": [
    "# Load data using the NLTK corpus"
   ]
  },
  {
   "cell_type": "code",
   "execution_count": 4,
   "metadata": {},
   "outputs": [
    {
     "data": {
      "text/plain": [
       "['austen-emma.txt',\n",
       " 'austen-persuasion.txt',\n",
       " 'austen-sense.txt',\n",
       " 'bible-kjv.txt',\n",
       " 'blake-poems.txt',\n",
       " 'bryant-stories.txt',\n",
       " 'burgess-busterbrown.txt',\n",
       " 'carroll-alice.txt',\n",
       " 'chesterton-ball.txt',\n",
       " 'chesterton-brown.txt',\n",
       " 'chesterton-thursday.txt',\n",
       " 'edgeworth-parents.txt',\n",
       " 'melville-moby_dick.txt',\n",
       " 'milton-paradise.txt',\n",
       " 'shakespeare-caesar.txt',\n",
       " 'shakespeare-hamlet.txt',\n",
       " 'shakespeare-macbeth.txt',\n",
       " 'whitman-leaves.txt']"
      ]
     },
     "execution_count": 4,
     "metadata": {},
     "output_type": "execute_result"
    }
   ],
   "source": [
    "nltk.corpus.gutenberg.fileids() # Show all texts in the Gutenberg corpus in the NLTK"
   ]
  },
  {
   "cell_type": "markdown",
   "metadata": {},
   "source": [
    "Build the word to index mapping"
   ]
  },
  {
   "cell_type": "code",
   "execution_count": 5,
   "metadata": {},
   "outputs": [
    {
     "name": "stdout",
     "output_type": "stream",
     "text": [
      "['at', 'which', 'anglo', 'more', 'danish']\n",
      "Total words in the text: 258\n"
     ]
    }
   ],
   "source": [
    "# Select the melville-moby_dick.txt as the training sample\n",
    "melville_words = nltk.corpus.gutenberg.words('melville-moby_dick.txt')[:500]\n",
    "\n",
    "# Lower all words\n",
    "vocab = list(set([w.lower() for w in melville_words]))\n",
    "\n",
    "# Show the first five words in the processed list \n",
    "print(vocab[:5])\n",
    "print(f'Total words in the text: {len(vocab)}')"
   ]
  },
  {
   "cell_type": "markdown",
   "metadata": {},
   "source": [
    "# Build co-occurence blobs (the $X_{ij}$ values)"
   ]
  },
  {
   "cell_type": "markdown",
   "metadata": {},
   "source": [
    "Build a word co-occurrence list for the given corpus, where each element (representing\n",
    "a cooccurrence pair) is of the form $(i_{id}, j_{id}, X_{ij})$, where \n",
    "$i_{id}$   : the ID of the main word in the cooccurrence;\n",
    "$j_{id}$: the ID of the context word;\n",
    "$X_{ij}$: the the cooccurrence value"
   ]
  },
  {
   "cell_type": "code",
   "execution_count": 6,
   "metadata": {},
   "outputs": [
    {
     "name": "stdout",
     "output_type": "stream",
     "text": [
      "['[', 'moby', 'dick', 'by', 'herman', 'melville', '1851', ']']\n",
      "['etymology', '.']\n",
      "['(', 'supplied', 'by', 'a', 'late', 'consumptive', 'usher', 'to', 'a', 'grammar', 'school', ')']\n",
      "['the', 'pale', 'usher', '--', 'threadbare', 'in', 'coat', ',', 'heart', ',', 'body', ',', 'and', 'brain', ';', 'i', 'see', 'him', 'now', '.']\n",
      "['he', 'was', 'ever', 'dusting', 'his', 'old', 'lexicons', 'and', 'grammars', ',', 'with', 'a', 'queer', 'handkerchief', ',', 'mockingly', 'embellished', 'with', 'all', 'the', 'gay', 'flags', 'of', 'all', 'the', 'known', 'nations', 'of', 'the', 'world', '.']\n"
     ]
    }
   ],
   "source": [
    "melville_sents = nltk.corpus.gutenberg.sents('melville-moby_dick.txt')[:500]\n",
    "melville_sents = [[w.lower() for w in s] for s in melville_sents]\n",
    "\n",
    "for sent in melville_sents[:5]:\n",
    "    print(sent)"
   ]
  },
  {
   "cell_type": "code",
   "execution_count": 7,
   "metadata": {},
   "outputs": [],
   "source": [
    "flatten = lambda l: [item for sublist in l for item in sublist]\n",
    "vocab = list(set(flatten(melville_sents)))\n",
    "\n",
    "# Mark each word in the vocab list by its index\n",
    "word2index = {word:index for index, word in enumerate(vocab)}\n",
    "# print(word2index)\n",
    "\n",
    "# Also build the integer to word list\n",
    "index2word = {index:word for word, index in word2index.items()}\n",
    "# print(index2word)"
   ]
  },
  {
   "cell_type": "code",
   "execution_count": 8,
   "metadata": {},
   "outputs": [
    {
     "name": "stdout",
     "output_type": "stream",
     "text": [
      "['<S>', '<S>', '<S>', '<S>', '<S>', '[', 'moby', 'dick', 'by', 'herman', 'melville', '1851', ']', '<E>', '<E>', '<E>', '<E>', '<E>']\n",
      "['<S>', '<S>', '<S>', '<S>', '<S>', 'etymology', '.', '<E>', '<E>', '<E>', '<E>', '<E>']\n",
      "['<S>', '<S>', '<S>', '<S>', '<S>', '(', 'supplied', 'by', 'a', 'late', 'consumptive', 'usher', 'to', 'a', 'grammar', 'school', ')', '<E>', '<E>', '<E>', '<E>', '<E>']\n",
      "['<S>', '<S>', '<S>', '<S>', '<S>', 'the', 'pale', 'usher', '--', 'threadbare', 'in', 'coat', ',', 'heart', ',', 'body', ',', 'and', 'brain', ';', 'i', 'see', 'him', 'now', '.', '<E>', '<E>', '<E>', '<E>', '<E>']\n",
      "['<S>', '<S>', '<S>', '<S>', '<S>', 'he', 'was', 'ever', 'dusting', 'his', 'old', 'lexicons', 'and', 'grammars', ',', 'with', 'a', 'queer', 'handkerchief', ',', 'mockingly', 'embellished', 'with', 'all', 'the', 'gay', 'flags', 'of', 'all', 'the', 'known', 'nations', 'of', 'the', 'world', '.', '<E>', '<E>', '<E>', '<E>', '<E>']\n"
     ]
    }
   ],
   "source": [
    "# Insert each sentence with <S> at the begining and append <E> at the end\n",
    "WINDOW_SIZE = 5\n",
    "_sents = [['<S>'] * WINDOW_SIZE + s + ['<E>'] * WINDOW_SIZE for s in melville_sents]\n",
    "\n",
    "for s in _sents[:5]:\n",
    "    print(s)"
   ]
  },
  {
   "cell_type": "code",
   "execution_count": 9,
   "metadata": {},
   "outputs": [
    {
     "name": "stdout",
     "output_type": "stream",
     "text": [
      "('<S>', '<S>', '<S>', '<S>', '<S>', '[', 'moby', 'dick', 'by', 'herman', 'melville')\n",
      "('<S>', '<S>', '<S>', '<S>', '[', 'moby', 'dick', 'by', 'herman', 'melville', '1851')\n",
      "('<S>', '<S>', '<S>', '[', 'moby', 'dick', 'by', 'herman', 'melville', '1851', ']')\n",
      "('<S>', '<S>', '[', 'moby', 'dick', 'by', 'herman', 'melville', '1851', ']', '<E>')\n",
      "('<S>', '[', 'moby', 'dick', 'by', 'herman', 'melville', '1851', ']', '<E>', '<E>')\n",
      "('[', 'moby', 'dick', 'by', 'herman', 'melville', '1851', ']', '<E>', '<E>', '<E>')\n",
      "('moby', 'dick', 'by', 'herman', 'melville', '1851', ']', '<E>', '<E>', '<E>', '<E>')\n",
      "('dick', 'by', 'herman', 'melville', '1851', ']', '<E>', '<E>', '<E>', '<E>', '<E>')\n",
      "('<S>', '<S>', '<S>', '<S>', '<S>', 'etymology', '.', '<E>', '<E>', '<E>', '<E>')\n",
      "('<S>', '<S>', '<S>', '<S>', 'etymology', '.', '<E>', '<E>', '<E>', '<E>', '<E>')\n",
      "('<S>', '<S>', '<S>', '<S>', '<S>', '(', 'supplied', 'by', 'a', 'late', 'consumptive')\n",
      "('<S>', '<S>', '<S>', '<S>', '(', 'supplied', 'by', 'a', 'late', 'consumptive', 'usher')\n",
      "('<S>', '<S>', '<S>', '(', 'supplied', 'by', 'a', 'late', 'consumptive', 'usher', 'to')\n",
      "('<S>', '<S>', '(', 'supplied', 'by', 'a', 'late', 'consumptive', 'usher', 'to', 'a')\n",
      "('<S>', '(', 'supplied', 'by', 'a', 'late', 'consumptive', 'usher', 'to', 'a', 'grammar')\n",
      "('(', 'supplied', 'by', 'a', 'late', 'consumptive', 'usher', 'to', 'a', 'grammar', 'school')\n",
      "('supplied', 'by', 'a', 'late', 'consumptive', 'usher', 'to', 'a', 'grammar', 'school', ')')\n",
      "('by', 'a', 'late', 'consumptive', 'usher', 'to', 'a', 'grammar', 'school', ')', '<E>')\n",
      "('a', 'late', 'consumptive', 'usher', 'to', 'a', 'grammar', 'school', ')', '<E>', '<E>')\n",
      "('late', 'consumptive', 'usher', 'to', 'a', 'grammar', 'school', ')', '<E>', '<E>', '<E>')\n"
     ]
    }
   ],
   "source": [
    "# Construct the ngrams for building word pairs (i, j) \n",
    "windows = flatten([list(nltk.ngrams(s, WINDOW_SIZE * 2 + 1)) for s in _sents])\n",
    "\n",
    "for s in windows[:20]:\n",
    "    print(s)"
   ]
  },
  {
   "cell_type": "code",
   "execution_count": 10,
   "metadata": {},
   "outputs": [],
   "source": [
    "# Building word pairs\n",
    "word_pairs = []\n",
    "\n",
    "for window in windows:\n",
    "    for i in range(WINDOW_SIZE * 2 + 1):\n",
    "        # Center at the word at index WINDOW_SIZE (which is at index 5), denoted as i\n",
    "        # Ignore <S> and <E> and the word i itself, all other words in the windows are context, denoted as j \n",
    "        # Then make the pair in the form as (i, j)\n",
    "        if i == WINDOW_SIZE or window[i] == '<S>' or window[i] == '<E>': \n",
    "            continue\n",
    "        word = window[WINDOW_SIZE]\n",
    "        context = window[i]\n",
    "        word_pairs.append((word, context))    "
   ]
  },
  {
   "cell_type": "code",
   "execution_count": 11,
   "metadata": {},
   "outputs": [
    {
     "name": "stdout",
     "output_type": "stream",
     "text": [
      "[('[', 'moby'), ('[', 'dick'), ('[', 'by'), ('[', 'herman'), ('[', 'melville'), ('moby', '['), ('moby', 'dick'), ('moby', 'by'), ('moby', 'herman'), ('moby', 'melville')]\n"
     ]
    }
   ],
   "source": [
    "print(word_pairs[:10])"
   ]
  },
  {
   "cell_type": "markdown",
   "metadata": {},
   "source": [
    "Build co-occurence matrix $X$ "
   ]
  },
  {
   "cell_type": "code",
   "execution_count": 12,
   "metadata": {},
   "outputs": [],
   "source": [
    "# Record the occurence time of each word in the corpus, denoted as X_i\n",
    "X_i = Counter(flatten(melville_sents))\n",
    "\n",
    "# Record the co-occurence time of each word within window_size using onstructed word pairs \n",
    "X_ik_window = Counter(word_pairs)"
   ]
  },
  {
   "cell_type": "code",
   "execution_count": 13,
   "metadata": {},
   "outputs": [],
   "source": [
    "# X_i"
   ]
  },
  {
   "cell_type": "code",
   "execution_count": 14,
   "metadata": {},
   "outputs": [],
   "source": [
    "# X_ik_window"
   ]
  },
  {
   "cell_type": "code",
   "execution_count": 15,
   "metadata": {},
   "outputs": [],
   "source": [
    "X_ik = {}\n",
    "weighting_dict = {}"
   ]
  },
  {
   "cell_type": "code",
   "execution_count": 16,
   "metadata": {},
   "outputs": [],
   "source": [
    "# All the possible subsets or arrangements of the iterator\n",
    "# Elements are allowed to repeat in a subset because of the word 'replacement'\n",
    "# In fact, combinations_with_replacement(vocab, 2) is a matrix with size len(vocab) x len(vocab)\n",
    "# The following line list the first five samples  \n",
    "vocab_mat = list(combinations_with_replacement(vocab, 2))"
   ]
  },
  {
   "cell_type": "code",
   "execution_count": 17,
   "metadata": {},
   "outputs": [
    {
     "name": "stdout",
     "output_type": "stream",
     "text": [
      "[('good', 'good'), ('good', 'tapered'), ('good', 'thick'), ('good', 'which'), ('good', 'deeper')]\n"
     ]
    }
   ],
   "source": [
    "print(vocab_mat[:5])"
   ]
  },
  {
   "cell_type": "markdown",
   "metadata": {},
   "source": [
    "Compute the weighting function"
   ]
  },
  {
   "cell_type": "code",
   "execution_count": 20,
   "metadata": {},
   "outputs": [
    {
     "data": {
      "image/png": "[encoded data removed]",
      "text/plain": [
       "<IPython.core.display.Image object>"
      ]
     },
     "execution_count": 20,
     "metadata": {},
     "output_type": "execute_result"
    }
   ],
   "source": [
    "display.Image('imgs/glove-weighting-function.png')"
   ]
  },
  {
   "cell_type": "code",
   "execution_count": 18,
   "metadata": {},
   "outputs": [],
   "source": [
    "def weighting(w_i, w_j):\n",
    "    # Define the weighting function in the above figure\n",
    "    try:\n",
    "        x_ij = X_ik[(w_i, w_j)]\n",
    "    except:\n",
    "        x_ij = 1\n",
    "        \n",
    "    x_max = 100 #100 # fixed in paper\n",
    "    alpha = 0.75\n",
    "    \n",
    "    if x_ij < x_max:\n",
    "        result = (x_ij/x_max)**alpha\n",
    "    else:\n",
    "        result = 1\n",
    "    \n",
    "    return result"
   ]
  },
  {
   "cell_type": "code",
   "execution_count": 19,
   "metadata": {},
   "outputs": [
    {
     "name": "stderr",
     "output_type": "stream",
     "text": [
      "100%|██████████| 3399528/3399528 [00:12<00:00, 280509.34it/s]\n"
     ]
    }
   ],
   "source": [
    "for i in tqdm(range(len(vocab_mat))):\n",
    "    pair = vocab_mat[i]\n",
    "    if X_ik_window.get(pair) is not None: # If the pair exists in text (sentence)\n",
    "        co_occur = X_ik_window[pair]      # Get its co-occurence time\n",
    "        X_ik[(pair[0], pair[1])] = co_occur + 1 # log(Xik) -> log(Xik+1) to prevent divergence\n",
    "        X_ik[(pair[1], pair[0])] = co_occur + 1 # Symmetry \n",
    "    else: # If the pair not exist, then do nothing\n",
    "        pass\n",
    "\n",
    "    # Compute the weight of the pair, symmetrically\n",
    "    weighting_dict[(pair[0], pair[1])] = weighting(pair[0], pair[1])\n",
    "    weighting_dict[(pair[1], pair[0])] = weighting(pair[1], pair[0])"
   ]
  },
  {
   "cell_type": "markdown",
   "metadata": {},
   "source": [
    "# Prepare dataset"
   ]
  },
  {
   "cell_type": "code",
   "execution_count": 22,
   "metadata": {},
   "outputs": [
    {
     "name": "stderr",
     "output_type": "stream",
     "text": [
      "100%|██████████| 88414/88414 [00:32<00:00, 2750.10it/s]\n"
     ]
    }
   ],
   "source": [
    "word = []\n",
    "context = []\n",
    "co_occur = []\n",
    "weights = []\n",
    "\n",
    "for i in tqdm(range(len(word_pairs))):\n",
    "    pair = word_pairs[i] # Take the word pair in the dataset\n",
    "    \n",
    "    # Convert the word into a tensor after integer representation\n",
    "    word.append(torch.tensor(word2index[pair[0]], device='cuda').view(1, -1))\n",
    "    context.append(torch.tensor(word2index[pair[1]], device='cuda').view(1, -1))\n",
    "\n",
    "    try:\n",
    "        co_occur_count = torch.tensor([X_ik[pair]], device='cuda').view(1, -1)\n",
    "    except:\n",
    "        co_occur_count = torch.tensor([1.0], device='cuda').view(1, -1)\n",
    "    \n",
    "    # Record the log of the co-occurence and the weight of the pair\n",
    "    co_occur.append(torch.log(co_occur_count))\n",
    "    weights.append(torch.tensor([weighting_dict[pair]], device='cuda').view(1, -1))\n",
    "\n",
    "# Gather all four list together as the training data\n",
    "train_data = list(zip(word, context, co_occur, weights))"
   ]
  },
  {
   "cell_type": "code",
   "execution_count": 23,
   "metadata": {},
   "outputs": [
    {
     "name": "stdout",
     "output_type": "stream",
     "text": [
      "('[', 'moby')\n",
      "(tensor([[2264]], device='cuda:0'), tensor([[787]], device='cuda:0'), tensor([[0.6931]], device='cuda:0'), tensor([[0.0532]], device='cuda:0'))\n"
     ]
    }
   ],
   "source": [
    "print(word_pairs[0])\n",
    "print(train_data[0])"
   ]
  },
  {
   "cell_type": "markdown",
   "metadata": {},
   "source": [
    "# Build the model"
   ]
  },
  {
   "cell_type": "code",
   "execution_count": 24,
   "metadata": {},
   "outputs": [],
   "source": [
    "class GloVe(nn.Module):\n",
    "    \n",
    "    def __init__(self, vocab_size, projection_dim):\n",
    "        super(GloVe, self).__init__()\n",
    "        self.embedding_v = nn.Embedding(vocab_size, projection_dim) # center embedding\n",
    "        self.embedding_u = nn.Embedding(vocab_size, projection_dim) # out embedding\n",
    "        \n",
    "        self.v_bias = nn.Embedding(vocab_size, 1)\n",
    "        self.u_bias = nn.Embedding(vocab_size, 1)\n",
    "        \n",
    "        initrange = (2.0 / (vocab_size + projection_dim))**0.5 # Xavier init\n",
    "        self.embedding_v.weight.data.uniform_(-initrange, initrange) # init\n",
    "        self.embedding_u.weight.data.uniform_(-initrange, initrange) # init\n",
    "        self.v_bias.weight.data.uniform_(-initrange, initrange) # init\n",
    "        self.u_bias.weight.data.uniform_(-initrange, initrange) # init\n",
    "        \n",
    "    def forward(self, center_words, target_words, coocs, weights):\n",
    "        center_embeds = self.embedding_v(center_words) # B x 1 x D\n",
    "        target_embeds = self.embedding_u(target_words) # B x 1 x D\n",
    "        \n",
    "        center_bias = self.v_bias(center_words).squeeze(1)\n",
    "        target_bias = self.u_bias(target_words).squeeze(1)\n",
    "        \n",
    "        inner_product = target_embeds.bmm(center_embeds.transpose(1, 2)).squeeze(2) # Bx1\n",
    "        \n",
    "        loss = weights * torch.pow(inner_product + center_bias + target_bias - coocs, 2)\n",
    "        \n",
    "        return torch.sum(loss)\n",
    "    \n",
    "    def prediction(self, inputs):\n",
    "        v_embeds = self.embedding_v(inputs) # B x 1 x D\n",
    "        u_embeds = self.embedding_u(inputs) # B x 1 x D\n",
    "                \n",
    "        return v_embeds + u_embeds # final embed"
   ]
  },
  {
   "cell_type": "markdown",
   "metadata": {},
   "source": [
    "Train the model"
   ]
  },
  {
   "cell_type": "code",
   "execution_count": 25,
   "metadata": {},
   "outputs": [],
   "source": [
    "EMBEDDING_SIZE = 50\n",
    "BATCH_SIZE = 256\n",
    "EPOCH = 50"
   ]
  },
  {
   "cell_type": "code",
   "execution_count": 26,
   "metadata": {},
   "outputs": [],
   "source": [
    "losses = []\n",
    "model = GloVe(len(word2index), EMBEDDING_SIZE)\n",
    "if torch.cuda.is_available():\n",
    "    model = model.cuda()\n",
    "optimizer = optim.Adam(model.parameters(), lr=0.001)"
   ]
  },
  {
   "cell_type": "code",
   "execution_count": 27,
   "metadata": {},
   "outputs": [],
   "source": [
    "def get_batch(batch_size, train_data):\n",
    "    random.shuffle(train_data) # Shuffle all samples in the dataset\n",
    "    start_index = 0     \n",
    "    end_index = batch_size\n",
    "\n",
    "    while end_index < len(train_data):\n",
    "        # Slide samples from start_index to end_index\n",
    "        batch = train_data[start_index:end_index]\n",
    "        # Update start and end index to point to the next batch\n",
    "        temp = end_index\n",
    "        end_index += batch_size\n",
    "        start_index = temp\n",
    "        yield batch # MUse yield to remember the index in the next calling\n",
    "    \n",
    "    if end_index >= len(train_data):\n",
    "        batch = train_data[start_index:] # Get all rest of samples to be the batch\n",
    "        yield batch"
   ]
  },
  {
   "cell_type": "code",
   "execution_count": 28,
   "metadata": {},
   "outputs": [
    {
     "name": "stdout",
     "output_type": "stream",
     "text": [
      "0/50: mean loss = 223.4563\n",
      "10/50: mean loss = 2.8299\n",
      "20/50: mean loss = 0.5576\n",
      "30/50: mean loss = 0.1289\n",
      "40/50: mean loss = 0.0454\n"
     ]
    }
   ],
   "source": [
    "for epoch in range(EPOCH):\n",
    "    for i, batch in enumerate(get_batch(BATCH_SIZE, train_data)):\n",
    "        \n",
    "        inputs, targets, coocs, weights = zip(*batch)\n",
    "        \n",
    "        inputs = torch.cat(inputs) # B x 1\n",
    "        targets = torch.cat(targets) # B x 1\n",
    "        coocs = torch.cat(coocs)\n",
    "        weights = torch.cat(weights)\n",
    "        model.zero_grad()\n",
    "\n",
    "        loss = model(inputs, targets, coocs, weights)\n",
    "        \n",
    "        loss.backward()\n",
    "        optimizer.step()\n",
    "    \n",
    "        losses.append(loss.data.tolist())\n",
    "    if epoch % 10 == 0:\n",
    "        print(f'{epoch}/{EPOCH}: mean loss = {np.mean(losses):.4f}')\n",
    "        # print(\"Epoch : %d, mean_loss : %.02f\" % (epoch, np.mean(losses)))\n",
    "        losses = []"
   ]
  },
  {
   "cell_type": "markdown",
   "metadata": {},
   "source": [
    "# Test"
   ]
  },
  {
   "cell_type": "code",
   "execution_count": 29,
   "metadata": {},
   "outputs": [],
   "source": [
    "def word_similarity(target, vocab, n_words):\n",
    "    # Encode the target words\n",
    "    target_V = model.prediction(torch.tensor(word2index[target], device='cuda'))\n",
    "\n",
    "    similarities = []\n",
    "    for i in range(len(vocab)):\n",
    "        if vocab[i] == target: # Skip the word itself\n",
    "            continue\n",
    "        \n",
    "        # Use other words for comparison and distance computation using cosine similarity\n",
    "        vector = model.prediction(torch.tensor(word2index[vocab[i]], device='cuda'))\n",
    "        cosine_sim = F.cosine_similarity(target_V, vector, 0).data.tolist()\n",
    "\n",
    "        similarities.append([vocab[i], cosine_sim])\n",
    "    \n",
    "    # Return the most similar n_words according to the cosine similarity\n",
    "    return sorted(similarities, key=lambda x: x[1], reverse=True)[:n_words]"
   ]
  },
  {
   "cell_type": "code",
   "execution_count": 30,
   "metadata": {},
   "outputs": [
    {
     "name": "stdout",
     "output_type": "stream",
     "text": [
      "Random choose: trackless\n",
      "10 most related words:\n",
      "['region', 0.7679055333137512]\n",
      "['waste', 0.7401389479637146]\n",
      "['instincts', 0.7073946595191956]\n",
      "['exactly', 0.6137794256210327]\n",
      "['satisfaction', 0.5967038869857788]\n",
      "['mansoul', 0.5879079103469849]\n",
      "['chewing', 0.5660055875778198]\n",
      "['dusky', 0.5576773285865784]\n",
      "['pine', 0.5464534163475037]\n",
      "['landscape', 0.541761040687561]\n"
     ]
    }
   ],
   "source": [
    "test = random.choice(vocab)\n",
    "print(f'Random choose: {test}')\n",
    "print(f'10 most related words:')\n",
    "for pred in word_similarity(test, vocab, 10):\n",
    "    print(pred)"
   ]
  },
  {
   "cell_type": "code",
   "execution_count": null,
   "metadata": {},
   "outputs": [],
   "source": []
  }
 ],
 "metadata": {
  "kernelspec": {
   "display_name": "Python 3.8.13 ('ml')",
   "language": "python",
   "name": "python3"
  },
  "language_info": {
   "codemirror_mode": {
    "name": "ipython",
    "version": 3
   },
   "file_extension": ".py",
   "mimetype": "text/x-python",
   "name": "python",
   "nbconvert_exporter": "python",
   "pygments_lexer": "ipython3",
   "version": "3.8.13"
  },
  "orig_nbformat": 4,
  "vscode": {
   "interpreter": {
    "hash": "e76b06f811d914f25ddf1d876c9e6424e54248baadb52cf54ff8d72e027625bb"
   }
  }
 },
 "nbformat": 4,
 "nbformat_minor": 2
}
