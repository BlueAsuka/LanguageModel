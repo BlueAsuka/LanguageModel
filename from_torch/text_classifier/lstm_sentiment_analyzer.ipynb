{
 "cells": [
  {
   "cell_type": "markdown",
   "metadata": {},
   "source": [
    "Use LSTM to be a sentiment analyzer (binary classification)"
   ]
  },
  {
   "cell_type": "code",
   "execution_count": 18,
   "metadata": {},
   "outputs": [],
   "source": [
    "import bz2 # The modular to read the data\n",
    "import re\n",
    "import torch\n",
    "import nltk\n",
    "import numpy as np\n",
    "import random"
   ]
  },
  {
   "cell_type": "markdown",
   "metadata": {},
   "source": [
    "# Import data"
   ]
  },
  {
   "cell_type": "code",
   "execution_count": 19,
   "metadata": {},
   "outputs": [],
   "source": [
    "file_folder = 'C:/Users/s381731/OneDrive - Cranfield University/Documents/Python/dataset'\n",
    "train_file = bz2.BZ2File(file_folder + '/train.ft.txt.bz2')\n",
    "test_file = bz2.BZ2File(file_folder + '/test.ft.txt.bz2')"
   ]
  },
  {
   "cell_type": "code",
   "execution_count": 20,
   "metadata": {},
   "outputs": [],
   "source": [
    "# Read lines from the train and test files\n",
    "train_file = train_file.readlines()\n",
    "test_file = test_file.readlines()"
   ]
  },
  {
   "cell_type": "code",
   "execution_count": 21,
   "metadata": {},
   "outputs": [
    {
     "name": "stdout",
     "output_type": "stream",
     "text": [
      "Number of training reivews: 3600000\n",
      "Number of test reviews: 400000\n"
     ]
    }
   ],
   "source": [
    "print(\"Number of training reivews: \" + str(len(train_file)))\n",
    "print(\"Number of test reviews: \" + str(len(test_file)))"
   ]
  },
  {
   "cell_type": "code",
   "execution_count": 22,
   "metadata": {},
   "outputs": [],
   "source": [
    "num_train = 1800000 # Training on the first 1600,000 reviews in the dataset\n",
    "num_test = 200000 # Using 300,000 reviews from test set\n",
    "\n",
    "train_file = [x.decode('utf-8') for x in train_file[:num_train]]\n",
    "test_file = [x.decode('utf-8') for x in test_file[:num_test]]"
   ]
  },
  {
   "cell_type": "code",
   "execution_count": 23,
   "metadata": {},
   "outputs": [
    {
     "name": "stdout",
     "output_type": "stream",
     "text": [
      "__label__1 don't waste your money: i bought this web cam new in 2003. used it for about 2 years and really liked it, but then it stopped working altogether. i like to keep my electronics for several years and replace them only when technology improves - not in order to replace faulty or broken equipment. this webcam has consistently been poorly reviewed in most every article i've seen on it since it failed. it's overpriced, and the risk of it shorting out is just too great for me to consider replacing it with another vaio cam. my advice is while this cam may look cool and is very low profile, stick to the more traditional cams and you will be very satisfied. sorry, sony.\n",
      "\n"
     ]
    }
   ],
   "source": [
    "# Show a sample in the dataset\n",
    "print(train_file[random.randint(0, len(train_file))])"
   ]
  },
  {
   "cell_type": "markdown",
   "metadata": {},
   "source": [
    "# Preprocessing data:"
   ]
  },
  {
   "cell_type": "code",
   "execution_count": 24,
   "metadata": {},
   "outputs": [],
   "source": [
    "# Extract labels and apply regular representation for data clearing\n"
   ]
  }
 ],
 "metadata": {
  "kernelspec": {
   "display_name": "Python 3.8.13 ('ml')",
   "language": "python",
   "name": "python3"
  },
  "language_info": {
   "codemirror_mode": {
    "name": "ipython",
    "version": 3
   },
   "file_extension": ".py",
   "mimetype": "text/x-python",
   "name": "python",
   "nbconvert_exporter": "python",
   "pygments_lexer": "ipython3",
   "version": "3.8.13"
  },
  "orig_nbformat": 4,
  "vscode": {
   "interpreter": {
    "hash": "e76b06f811d914f25ddf1d876c9e6424e54248baadb52cf54ff8d72e027625bb"
   }
  }
 },
 "nbformat": 4,
 "nbformat_minor": 2
}
