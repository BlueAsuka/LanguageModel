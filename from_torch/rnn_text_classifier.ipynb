{
 "cells": [
  {
   "cell_type": "code",
   "execution_count": 43,
   "metadata": {},
   "outputs": [],
   "source": [
    "import re\n",
    "import random\n",
    "import numpy as np\n",
    "import urllib\n",
    "import gensim\n",
    "import torch\n",
    "import torch.nn as nn\n",
    "import torch.nn.functional as F\n",
    "from torch.autograd import Variable\n",
    "from IPython import display"
   ]
  },
  {
   "cell_type": "code",
   "execution_count": 44,
   "metadata": {},
   "outputs": [],
   "source": [
    "# Use the URL to obtain the corpus from the web \n",
    "url = 'https://cogcomp.seas.upenn.edu/Data/QA/QC/train_5500.label'\n",
    "\n",
    "try:\n",
    "    url_response = urllib.request.urlopen(url) \n",
    "except urllib.error.HTTPError as e:\n",
    "    e.msg += ' ' + url\n",
    "    raise"
   ]
  },
  {
   "cell_type": "code",
   "execution_count": 45,
   "metadata": {},
   "outputs": [],
   "source": [
    "# Obtain raw text from the given URL\n",
    "# Decode the bytes using UTF-8 format\n",
    "# Use the keyword 'ignore' for decoding\n",
    "raw_text = url_response.read().decode('utf8', 'ignore')"
   ]
  },
  {
   "cell_type": "code",
   "execution_count": 46,
   "metadata": {},
   "outputs": [
    {
     "name": "stdout",
     "output_type": "stream",
     "text": [
      "<class 'str'>\n"
     ]
    },
    {
     "data": {
      "text/plain": [
       "'DESC:manner How did serfdom develop in and then leave Russia ?\\nENTY:cremat What films featured the c'"
      ]
     },
     "execution_count": 46,
     "metadata": {},
     "output_type": "execute_result"
    }
   ],
   "source": [
    "print(type(raw_text))\n",
    "raw_text[:100]"
   ]
  },
  {
   "cell_type": "markdown",
   "metadata": {},
   "source": [
    "# Data Preprocessing"
   ]
  },
  {
   "cell_type": "markdown",
   "metadata": {},
   "source": [
    "Split the tag from the dataset"
   ]
  },
  {
   "cell_type": "code",
   "execution_count": 47,
   "metadata": {},
   "outputs": [
    {
     "name": "stdout",
     "output_type": "stream",
     "text": [
      "ENTY:other What 's the shape of a camel 's spine ?\n",
      "ENTY:currency What type of currency is used in China ?\n",
      "NUM:temp What is the temperature today ?\n",
      "NUM:temp What is the temperature for cooking ?\n",
      "ENTY:currency What currency is used in Australia ?\n",
      "Total tagged questions: 5452\n"
     ]
    }
   ],
   "source": [
    "# Remove the whitespace in the beginning and the end\n",
    "# Split the string and convert it into a list of questions\n",
    "ques_list = raw_text.strip().split('\\n')\n",
    "\n",
    "# Show the last five samples\n",
    "for q in ques_list[-5:]: \n",
    "    print(q) \n",
    "\n",
    "print(f'Total tagged questions: {len(ques_list)}')"
   ]
  },
  {
   "cell_type": "code",
   "execution_count": 48,
   "metadata": {},
   "outputs": [
    {
     "name": "stdout",
     "output_type": "stream",
     "text": [
      "DESC:manner How do you write a correct critical analysis of a poem ?\n",
      "['DESC', 'manner How do you write a correct critical analysis of a poem ?']\n",
      "['manner How do you write a correct critical analysis of a poem ', 'DESC']\n"
     ]
    }
   ],
   "source": [
    "# Use one sample in the question list to show the data processing\n",
    "rand_idx = random.randint(0, len(ques_list))\n",
    "sample = ques_list[rand_idx]\n",
    "print(sample)\n",
    "\n",
    "split_sample = sample.split(':')\n",
    "print(split_sample)\n",
    "\n",
    "mark, ques = split_sample[0], split_sample[1][:-1] # Remove the question mark\n",
    "print([ques, mark])"
   ]
  },
  {
   "cell_type": "code",
   "execution_count": 49,
   "metadata": {},
   "outputs": [],
   "source": [
    "# Data processing on the whole dataset\n",
    "tagged_ques_list = [[q.split(':')[1][:-1], q.split(':')[0]] for q in ques_list]"
   ]
  },
  {
   "cell_type": "code",
   "execution_count": 50,
   "metadata": {},
   "outputs": [],
   "source": [
    "assert len(tagged_ques_list) == len(ques_list), \"Different length after data processing\""
   ]
  },
  {
   "cell_type": "code",
   "execution_count": 51,
   "metadata": {},
   "outputs": [
    {
     "name": "stdout",
     "output_type": "stream",
     "text": [
      "['date When was Ozzy Osbourne born ', 'reason Why do heavier objects travel downhill faster ', 'ind Who was The Pride of the Yankees ', 'ind Who killed Gandhi ', 'event What is considered the costliest disaster the insurance industry has ever faced ']\n",
      "['NUM', 'DESC', 'HUM', 'HUM', 'ENTY']\n"
     ]
    }
   ],
   "source": [
    "ques, tags = list(zip(*tagged_ques_list)) # Split the questions and the tags\n",
    "ques, tags = list(ques), list(tags) # Convert from tuple to list\n",
    "\n",
    "print(ques[10:15])\n",
    "print(tags[10:15])"
   ]
  },
  {
   "cell_type": "markdown",
   "metadata": {},
   "source": [
    "Number masking for search space reduction"
   ]
  },
  {
   "cell_type": "code",
   "execution_count": 52,
   "metadata": {},
   "outputs": [],
   "source": [
    "for i, q in enumerate(ques):\n",
    "    ques[i] = re.sub('\\d', '#', q).split()"
   ]
  },
  {
   "cell_type": "code",
   "execution_count": 53,
   "metadata": {},
   "outputs": [],
   "source": [
    "# Extract all words from the all questions\n",
    "flatten = lambda l: [item for sublist in l for item in sublist]\n",
    "vocab = list(set(flatten(ques)))"
   ]
  },
  {
   "cell_type": "code",
   "execution_count": 54,
   "metadata": {},
   "outputs": [
    {
     "name": "stdout",
     "output_type": "stream",
     "text": [
      "Total words: 9125\n",
      "['Herculoids', 'Dennis', 'Panther', 'seed', 'Younger', 'astronaut', 'audio', 'assassinated', 'node', 'Thanksgiving']\n",
      "Total tags: 6\n",
      "{'ENTY', 'NUM', 'LOC', 'DESC', 'ABBR', 'HUM'}\n"
     ]
    }
   ],
   "source": [
    "print(f'Total words: {len(vocab)}')\n",
    "print(vocab[:10])\n",
    "print(f'Total tags: {len(set(tags))}')\n",
    "print(set(tags))"
   ]
  },
  {
   "cell_type": "code",
   "execution_count": 55,
   "metadata": {},
   "outputs": [],
   "source": [
    "word2index = {'<P>':0, '<U>':1}\n",
    "init_len = len(word2index)\n",
    "word2index.update({w:(i + init_len) for i, w in enumerate(vocab)})\n",
    "index2word = {i:w for w, i in word2index.items()}"
   ]
  },
  {
   "cell_type": "code",
   "execution_count": 56,
   "metadata": {},
   "outputs": [
    {
     "name": "stdout",
     "output_type": "stream",
     "text": [
      "{'ENTY': 0, 'NUM': 1, 'LOC': 2, 'DESC': 3, 'ABBR': 4, 'HUM': 5}\n",
      "{0: 'ENTY', 1: 'NUM', 2: 'LOC', 3: 'DESC', 4: 'ABBR', 5: 'HUM'}\n"
     ]
    }
   ],
   "source": [
    "tag2index = {t:i for i, t in enumerate(set(tags))}\n",
    "index2tag = {i:t for t, i in tag2index.items()}\n",
    "print(tag2index)\n",
    "print(index2tag)"
   ]
  },
  {
   "cell_type": "markdown",
   "metadata": {},
   "source": [
    "Split dataset after tensorization"
   ]
  },
  {
   "cell_type": "code",
   "execution_count": 57,
   "metadata": {},
   "outputs": [],
   "source": [
    "USE_CUDA = torch.cuda.is_available()\n",
    "gpus = [0]\n",
    "torch.cuda.set_device(gpus[0])\n",
    "\n",
    "FloatTensor = torch.cuda.FloatTensor if USE_CUDA else torch.FloatTensor\n",
    "LongTensor = torch.cuda.LongTensor if USE_CUDA else torch.LongTensor\n",
    "ByteTensor = torch.cuda.ByteTensor if USE_CUDA else torch.ByteTensor"
   ]
  },
  {
   "cell_type": "code",
   "execution_count": 58,
   "metadata": {},
   "outputs": [],
   "source": [
    "def prepare_sequence(seq, to_index):\n",
    "    idxs = list(map(lambda w: to_index[w] if to_index.get(w) is not None else to_index[\"<U>\"], seq))\n",
    "    return Variable(LongTensor(idxs))\n",
    "\n",
    "def prepare_tag(tag, tag2index):\n",
    "    return Variable(LongTensor([tag2index[tag]]))"
   ]
  },
  {
   "cell_type": "code",
   "execution_count": 59,
   "metadata": {},
   "outputs": [],
   "source": [
    "ques_tensor, tags_tensor = [], []\n",
    "for pair in zip(ques, tags):\n",
    "    ques_tensor.append(prepare_sequence(pair[0], word2index).view(1, -1))\n",
    "    tags_tensor.append(prepare_tag(pair[1], tag2index).view(1, -1))\n",
    "\n",
    "ques_tags_tensor = list(zip(ques_tensor, tags_tensor))"
   ]
  },
  {
   "cell_type": "code",
   "execution_count": 60,
   "metadata": {},
   "outputs": [],
   "source": [
    "def spilt_data(dataset, training_ratio=0.9):\n",
    "    random.shuffle(dataset)\n",
    "    split_index = int(len(dataset) * training_ratio)\n",
    "    return dataset[:split_index], dataset[split_index:]"
   ]
  },
  {
   "cell_type": "code",
   "execution_count": 61,
   "metadata": {},
   "outputs": [
    {
     "name": "stdout",
     "output_type": "stream",
     "text": [
      "4906\n",
      "[(tensor([[3126, 1282, 1518,  391, 6893, 7210, 6375, 5878, 3885, 8312, 1810]],\n",
      "       device='cuda:0'), tensor([[5]], device='cuda:0')), (tensor([[4758, 6562, 4682, 6631, 3081, 8294, 1174, 3119, 1926]],\n",
      "       device='cuda:0'), tensor([[5]], device='cuda:0')), (tensor([[1341, 1282,  990, 4682, 4333, 3556, 5839, 6941,  544, 8452, 5434]],\n",
      "       device='cuda:0'), tensor([[0]], device='cuda:0')), (tensor([[5933, 3080, 5588, 4682, 4696, 1174, 4682, 9017, 7988, 8201]],\n",
      "       device='cuda:0'), tensor([[2]], device='cuda:0')), (tensor([[6849, 1282, 3546, 5597, 4396, 8452, 2342, 3255,  273, 1039, 1174, 4682,\n",
      "         1851, 3536]], device='cuda:0'), tensor([[2]], device='cuda:0')), (tensor([[4758, 6492,  990, 4682, 4754, 1894, 8291]], device='cuda:0'), tensor([[5]], device='cuda:0')), (tensor([[4758, 1282,  990, 4046, 1110, 8893, 8110, 2342]], device='cuda:0'), tensor([[5]], device='cuda:0')), (tensor([[5933, 1282, 7258, 1174, 7782, 4826, 4682, 2306, 1174, 5246,  264, 4682,\n",
      "         2688,  264, 7070, 8962]], device='cuda:0'), tensor([[0]], device='cuda:0')), (tensor([[5933, 1282, 8893, 4682, 8061, 8185, 1174,  729]], device='cuda:0'), tensor([[2]], device='cuda:0')), (tensor([[7381, 1282, 3434,  990, 8452, 1131]], device='cuda:0'), tensor([[2]], device='cuda:0'))]\n",
      "546\n",
      "[(tensor([[5233, 1282, 2152, 6426,  990, 2848, 2329, 6593, 6941, 5787, 5140, 1894,\n",
      "          358, 8052, 1582]], device='cuda:0'), tensor([[0]], device='cuda:0')), (tensor([[4758, 1282, 4908, 3849, 4682, 5924, 5771, 8771, 4712, 8459, 1894, 1082]],\n",
      "       device='cuda:0'), tensor([[5]], device='cuda:0')), (tensor([[4758, 8102, 8830, 3611, 5903, 1318,  273, 2097, 3536]],\n",
      "       device='cuda:0'), tensor([[5]], device='cuda:0')), (tensor([[7507, 1282, 4296, 4682, 7247, 2005, 1174,  273, 4461, 3536]],\n",
      "       device='cuda:0'), tensor([[3]], device='cuda:0')), (tensor([[4758, 6492, 3611, 4682,  579, 1174,  920, 6771]], device='cuda:0'), tensor([[5]], device='cuda:0')), (tensor([[5233, 1282, 5233,  990,  182, 7996, 3000]], device='cuda:0'), tensor([[0]], device='cuda:0')), (tensor([[ 984, 5382, 3596, 3634, 5775, 4296,  625, 1894, 4682, 8304]],\n",
      "       device='cuda:0'), tensor([[1]], device='cuda:0')), (tensor([[ 172, 1282,  990, 7581, 8893, 1388, 7651, 7088]], device='cuda:0'), tensor([[3]], device='cuda:0')), (tensor([[4758, 6492,  934, 4682, 8822, 5161]], device='cuda:0'), tensor([[5]], device='cuda:0')), (tensor([[5933, 1282, 1762, 8913, 5588, 4736,  619]], device='cuda:0'), tensor([[2]], device='cuda:0'))]\n"
     ]
    }
   ],
   "source": [
    "train_data, test_data = spilt_data(ques_tags_tensor)\n",
    "print(len(train_data))\n",
    "print(train_data[:10])\n",
    "print(len(test_data))\n",
    "print(test_data[:10])"
   ]
  },
  {
   "cell_type": "markdown",
   "metadata": {},
   "source": [
    "# Batch formalization and sampling"
   ]
  },
  {
   "cell_type": "code",
   "execution_count": 62,
   "metadata": {},
   "outputs": [],
   "source": [
    "def get_batch(batch_size, train_data):\n",
    "    random.shuffle(train_data)\n",
    "    sindex = 0\n",
    "    eindex = batch_size\n",
    "    while eindex < len(train_data):\n",
    "        batch = train_data[sindex: eindex]\n",
    "        temp = eindex\n",
    "        eindex = eindex + batch_size\n",
    "        sindex = temp\n",
    "        yield batch\n",
    "    \n",
    "    if eindex >= len(train_data):\n",
    "        batch = train_data[sindex:]\n",
    "        yield batch"
   ]
  },
  {
   "cell_type": "code",
   "execution_count": 63,
   "metadata": {},
   "outputs": [
    {
     "data": {
      "text/plain": [
       "37"
      ]
     },
     "execution_count": 63,
     "metadata": {},
     "output_type": "execute_result"
    }
   ],
   "source": [
    "ques_max_leng = max([q.size(1) for q in ques_tensor])\n",
    "ques_max_leng"
   ]
  },
  {
   "cell_type": "code",
   "execution_count": 64,
   "metadata": {},
   "outputs": [],
   "source": [
    "def formalize_batch(batch, max_length=ques_max_leng):\n",
    "    \"\"\"\n",
    "    # Unify all ques tensor into a (1 x max_lengt) size, then stack them up\n",
    "    # into a (batch_size X max_lengt) tensor\n",
    "    \"\"\"\n",
    "    ques, tags = zip(*batch) \n",
    "\n",
    "    ques_tensor = []\n",
    "    for q in ques:\n",
    "        if q.size(1) < max_length:\n",
    "        # Filling '<P>' at the end until len(ques_tensor) == ques_max_length\n",
    "            reconst_tensor = torch.cat([q, Variable(LongTensor([word2index['<P>']] \n",
    "                                            * (ques_max_leng - q.size(1)))).view(1, -1)], 1)\n",
    "            ques_tensor.append(reconst_tensor)\n",
    "        else:\n",
    "            # Or add the tensor directly when it is has the maximum length\n",
    "            ques_tensor.append(q) \n",
    "    \n",
    "    # Package all tensor into a tensor (1, N) from (N, )\n",
    "    return torch.cat(ques_tensor), torch.cat(tags).view(-1)"
   ]
  },
  {
   "cell_type": "markdown",
   "metadata": {},
   "source": [
    "# Build the model"
   ]
  },
  {
   "cell_type": "code",
   "execution_count": 65,
   "metadata": {},
   "outputs": [
    {
     "data": {
      "image/png": "[encoded data removed]",
      "text/plain": [
       "<IPython.core.display.Image object>"
      ]
     },
     "execution_count": 65,
     "metadata": {},
     "output_type": "execute_result"
    }
   ],
   "source": [
    "display.Image('imgs/rnn_text_classifier.png')"
   ]
  },
  {
   "cell_type": "code",
   "execution_count": 106,
   "metadata": {},
   "outputs": [],
   "source": [
    "# Hyper parameters\n",
    "EPOCH = 10\n",
    "BATCH_SIZE = 22\n",
    "EMBED_SIZE = 128\n",
    "HIDDEN_SIZE = 256\n",
    "LR = 0.001"
   ]
  },
  {
   "cell_type": "markdown",
   "metadata": {},
   "source": [
    "A quick overview on the data flowing process in the RNN model"
   ]
  },
  {
   "cell_type": "code",
   "execution_count": 93,
   "metadata": {},
   "outputs": [
    {
     "data": {
      "text/plain": [
       "torch.Size([223, 37])"
      ]
     },
     "execution_count": 93,
     "metadata": {},
     "output_type": "execute_result"
    }
   ],
   "source": [
    "q_t, t_t = formalize_batch(train_data[BATCH_SIZE:BATCH_SIZE * 2], ques_max_leng)\n",
    "q_t.shape"
   ]
  },
  {
   "cell_type": "code",
   "execution_count": 94,
   "metadata": {},
   "outputs": [
    {
     "data": {
      "text/plain": [
       "torch.Size([223, 256])"
      ]
     },
     "execution_count": 94,
     "metadata": {},
     "output_type": "execute_result"
    }
   ],
   "source": [
    "hidden = torch.zeros(BATCH_SIZE, HIDDEN_SIZE, device='cuda')\n",
    "hidden.shape"
   ]
  },
  {
   "cell_type": "code",
   "execution_count": 95,
   "metadata": {},
   "outputs": [
    {
     "data": {
      "text/plain": [
       "torch.Size([223, 293])"
      ]
     },
     "execution_count": 95,
     "metadata": {},
     "output_type": "execute_result"
    }
   ],
   "source": [
    "combined = torch.cat((q_t, hidden), 1)\n",
    "combined.shape"
   ]
  },
  {
   "cell_type": "code",
   "execution_count": 96,
   "metadata": {},
   "outputs": [],
   "source": [
    "i2h = nn.Linear(ques_max_leng + HIDDEN_SIZE, HIDDEN_SIZE, device='cuda')\n",
    "i2o = nn.Linear(ques_max_leng + HIDDEN_SIZE, len(tag2index), device='cuda')"
   ]
  },
  {
   "cell_type": "code",
   "execution_count": 97,
   "metadata": {},
   "outputs": [
    {
     "data": {
      "text/plain": [
       "torch.Size([223, 256])"
      ]
     },
     "execution_count": 97,
     "metadata": {},
     "output_type": "execute_result"
    }
   ],
   "source": [
    "next_hidden = i2h(combined)\n",
    "next_hidden.shape"
   ]
  },
  {
   "cell_type": "code",
   "execution_count": 98,
   "metadata": {},
   "outputs": [
    {
     "data": {
      "text/plain": [
       "torch.Size([223, 6])"
      ]
     },
     "execution_count": 98,
     "metadata": {},
     "output_type": "execute_result"
    }
   ],
   "source": [
    "output = i2o(combined)\n",
    "output.shape"
   ]
  },
  {
   "cell_type": "code",
   "execution_count": 99,
   "metadata": {},
   "outputs": [
    {
     "data": {
      "text/plain": [
       "[1, 1, 2, 5, 5, 1, 1, 4, 4, 4]"
      ]
     },
     "execution_count": 99,
     "metadata": {},
     "output_type": "execute_result"
    }
   ],
   "source": [
    "softmax = nn.LogSoftmax(dim=1)\n",
    "output = softmax(output)\n",
    "output.shape\n",
    "output.argmax(1).tolist()[:10] # Take first 10 examples prediction"
   ]
  },
  {
   "cell_type": "code",
   "execution_count": 100,
   "metadata": {},
   "outputs": [],
   "source": [
    "class RNNClassifier(nn.Module):\n",
    "    def __init__(self, max_length, hidden_size, output_size):\n",
    "        super(RNNClassifier, self).__init__()\n",
    "\n",
    "        self.hidden_size = hidden_size\n",
    "\n",
    "        self.i2h = nn.Linear(max_length + hidden_size, hidden_size)\n",
    "        self.i2o = nn.Linear(max_length + hidden_size, output_size)\n",
    "        self.softmax = nn.LogSoftmax(dim=1)\n",
    "\n",
    "    def forward(self, input, hidden):\n",
    "        combined = torch.cat((input, hidden), 1)\n",
    "        hidden = self.i2h(combined)\n",
    "        output = self.i2o(combined)\n",
    "        output = self.softmax(output)\n",
    "        return output, hidden\n",
    "\n",
    "    def init_hidden(self, batch_size):\n",
    "        return torch.zeros(batch_size, self.hidden_size, device='cuda')"
   ]
  },
  {
   "cell_type": "code",
   "execution_count": 159,
   "metadata": {},
   "outputs": [],
   "source": [
    "model = RNNClassifier(ques_max_leng, HIDDEN_SIZE, len(tag2index))\n",
    "if USE_CUDA:\n",
    "    model = model.cuda()\n",
    "\n",
    "loss_function = nn.NLLLoss()\n",
    "optimizer = torch.optim.Adam(model.parameters(), lr=LR)"
   ]
  },
  {
   "cell_type": "code",
   "execution_count": 169,
   "metadata": {},
   "outputs": [
    {
     "name": "stdout",
     "output_type": "stream",
     "text": [
      "1/10 =======================\n",
      "1/224: mean_loss = 66.55123901367188\n",
      "21/224: mean_loss = 156.46685485839845\n",
      "41/224: mean_loss = 95.49491443634034\n",
      "61/224: mean_loss = 76.09055252075196\n",
      "81/224: mean_loss = 62.68628349304199\n",
      "101/224: mean_loss = 53.28845090866089\n",
      "121/224: mean_loss = 53.465482521057126\n",
      "141/224: mean_loss = 81.30076580047607\n",
      "161/224: mean_loss = 79.72599334716797\n",
      "181/224: mean_loss = 65.23859119415283\n",
      "201/224: mean_loss = 61.168873119354245\n",
      "221/224: mean_loss = 55.33037185668945\n",
      "2/10 =======================\n",
      "1/224: mean_loss = 88.87179565429688\n",
      "21/224: mean_loss = 76.16755123138428\n",
      "41/224: mean_loss = 53.99084339141846\n",
      "61/224: mean_loss = 56.46426372528076\n",
      "81/224: mean_loss = 55.275799465179446\n",
      "101/224: mean_loss = 51.553739356994626\n",
      "121/224: mean_loss = 52.5233657836914\n",
      "141/224: mean_loss = 50.426094722747806\n",
      "161/224: mean_loss = 45.105530452728274\n",
      "181/224: mean_loss = 53.73977680206299\n",
      "201/224: mean_loss = 58.30236473083496\n",
      "221/224: mean_loss = 48.72586879730225\n",
      "3/10 =======================\n",
      "1/224: mean_loss = 91.10505676269531\n",
      "21/224: mean_loss = 65.74209423065186\n",
      "41/224: mean_loss = 57.85218276977539\n",
      "61/224: mean_loss = 49.96807165145874\n",
      "81/224: mean_loss = 51.1842378616333\n",
      "101/224: mean_loss = 59.19175624847412\n",
      "121/224: mean_loss = 59.20499143600464\n",
      "141/224: mean_loss = 62.14724884033203\n",
      "161/224: mean_loss = 63.30427732467651\n",
      "181/224: mean_loss = 46.02542810440063\n",
      "201/224: mean_loss = 50.42181234359741\n",
      "221/224: mean_loss = 71.38660488128662\n",
      "4/10 =======================\n",
      "1/224: mean_loss = 54.407081604003906\n",
      "21/224: mean_loss = 83.86360893249511\n",
      "41/224: mean_loss = 58.38212375640869\n",
      "61/224: mean_loss = 51.01598129272461\n",
      "81/224: mean_loss = 63.0070297241211\n",
      "101/224: mean_loss = 53.97681140899658\n",
      "121/224: mean_loss = 53.18643522262573\n",
      "141/224: mean_loss = 55.40326509475708\n",
      "161/224: mean_loss = 64.73407068252564\n",
      "181/224: mean_loss = 53.30327091217041\n",
      "201/224: mean_loss = 48.22525691986084\n",
      "221/224: mean_loss = 48.12676029205322\n",
      "5/10 =======================\n",
      "1/224: mean_loss = 62.32088851928711\n",
      "21/224: mean_loss = 50.052679252624515\n",
      "41/224: mean_loss = 43.62071685791015\n",
      "61/224: mean_loss = 49.62160301208496\n",
      "81/224: mean_loss = 39.517193698883055\n",
      "101/224: mean_loss = 44.5842511177063\n",
      "121/224: mean_loss = 48.229321765899655\n",
      "141/224: mean_loss = 46.102343463897704\n",
      "161/224: mean_loss = 46.96169900894165\n",
      "181/224: mean_loss = 47.781085300445554\n",
      "201/224: mean_loss = 43.93671073913574\n",
      "221/224: mean_loss = 52.05050678253174\n",
      "6/10 =======================\n",
      "1/224: mean_loss = 49.687618255615234\n",
      "21/224: mean_loss = 53.787613773345946\n",
      "41/224: mean_loss = 52.66293735504151\n",
      "61/224: mean_loss = 50.140066623687744\n",
      "81/224: mean_loss = 54.64020662307739\n",
      "101/224: mean_loss = 55.099778175354004\n",
      "121/224: mean_loss = 60.44411144256592\n",
      "141/224: mean_loss = 55.281723213195804\n",
      "161/224: mean_loss = 50.9818977355957\n",
      "181/224: mean_loss = 65.65963230133056\n",
      "201/224: mean_loss = 56.20555419921875\n",
      "221/224: mean_loss = 50.377515983581546\n",
      "7/10 =======================\n",
      "1/224: mean_loss = 51.71278381347656\n",
      "21/224: mean_loss = 70.82768058776855\n",
      "41/224: mean_loss = 51.021259212493895\n",
      "61/224: mean_loss = 46.390328311920165\n",
      "81/224: mean_loss = 54.61905126571655\n",
      "101/224: mean_loss = 48.74698171615601\n",
      "121/224: mean_loss = 43.97140531539917\n",
      "141/224: mean_loss = 39.08678493499756\n",
      "161/224: mean_loss = 45.20420823097229\n",
      "181/224: mean_loss = 41.13828010559082\n",
      "201/224: mean_loss = 46.35219583511353\n",
      "221/224: mean_loss = 48.72734375\n",
      "8/10 =======================\n",
      "1/224: mean_loss = 37.12742233276367\n",
      "21/224: mean_loss = 70.73418521881104\n",
      "41/224: mean_loss = 61.660400199890134\n",
      "61/224: mean_loss = 53.455229663848876\n",
      "81/224: mean_loss = 51.80336256027222\n",
      "101/224: mean_loss = 52.01281652450562\n",
      "121/224: mean_loss = 51.83504676818848\n",
      "141/224: mean_loss = 57.047743511199954\n",
      "161/224: mean_loss = 45.91104640960693\n",
      "181/224: mean_loss = 49.28060512542724\n",
      "201/224: mean_loss = 56.32358827590942\n",
      "221/224: mean_loss = 48.85504503250122\n",
      "9/10 =======================\n",
      "1/224: mean_loss = 36.75202178955078\n",
      "21/224: mean_loss = 41.80989799499512\n",
      "41/224: mean_loss = 38.94790534973144\n",
      "61/224: mean_loss = 42.52164497375488\n",
      "81/224: mean_loss = 58.03062028884888\n",
      "101/224: mean_loss = 56.609963512420656\n",
      "121/224: mean_loss = 67.59065685272216\n",
      "141/224: mean_loss = 53.181255149841306\n",
      "161/224: mean_loss = 52.74911689758301\n",
      "181/224: mean_loss = 58.21107683181763\n",
      "201/224: mean_loss = 52.74252128601074\n",
      "221/224: mean_loss = 39.31247358322143\n",
      "10/10 =======================\n",
      "1/224: mean_loss = 33.41421890258789\n",
      "21/224: mean_loss = 56.17394495010376\n",
      "41/224: mean_loss = 51.37560405731201\n",
      "61/224: mean_loss = 45.00692501068115\n",
      "81/224: mean_loss = 42.17727146148682\n",
      "101/224: mean_loss = 60.109725093841554\n",
      "121/224: mean_loss = 48.4259934425354\n",
      "141/224: mean_loss = 49.87718858718872\n",
      "161/224: mean_loss = 54.88802528381348\n",
      "181/224: mean_loss = 48.783101654052736\n",
      "201/224: mean_loss = 58.76863069534302\n",
      "221/224: mean_loss = 56.36137056350708\n"
     ]
    }
   ],
   "source": [
    "for e in range(EPOCH):\n",
    "    print(f'{e+1}/{EPOCH} =======================')\n",
    "    hidden = model.init_hidden(BATCH_SIZE)\n",
    "    losses = []\n",
    "\n",
    "    for i, batch in enumerate(get_batch(BATCH_SIZE, train_data)):\n",
    "        inputs, targets = formalize_batch(batch)\n",
    "        \n",
    "        model.zero_grad()\n",
    "\n",
    "        hidden = torch.detach(hidden)\n",
    "        preds, hidden = model(inputs, hidden)\n",
    "\n",
    "        loss = loss_function(preds, targets)\n",
    "        losses.append(loss.item())\n",
    "        loss.backward()\n",
    "\n",
    "        # torch.nn.utils.clip_grad_norm(model.parameters(), 0.5) # gradient clipping\n",
    "        optimizer.step()\n",
    "\n",
    "        # Track the errors\n",
    "        if i % 20 == 0:\n",
    "            print(f'{i+1}/{(len(train_data) // BATCH_SIZE) + 1}: mean_loss = {np.mean(losses)}')\n",
    "            losses = [] # "
   ]
  },
  {
   "cell_type": "code",
   "execution_count": 170,
   "metadata": {},
   "outputs": [],
   "source": [
    "test_ques, test_tags = formalize_batch(test_data)\n",
    "targets = [test_tags[i].item() for i in range(len(test_tags))]"
   ]
  },
  {
   "cell_type": "code",
   "execution_count": 171,
   "metadata": {},
   "outputs": [],
   "source": [
    "preds = []\n",
    "for i in range(0, len(test_ques), BATCH_SIZE)[:-1]:\n",
    "    temp_preds = list(zip(model(test_ques[i:i+BATCH_SIZE], hidden)[0].argmax(1).tolist(), targets[:44]))\n",
    "    preds.extend(temp_preds)"
   ]
  },
  {
   "cell_type": "code",
   "execution_count": 172,
   "metadata": {},
   "outputs": [
    {
     "name": "stdout",
     "output_type": "stream",
     "text": [
      "30.681818181818183\n"
     ]
    }
   ],
   "source": [
    "acc_count = 0\n",
    "for p in preds:\n",
    "    if p[0] == p[1]:\n",
    "        acc_count += 1\n",
    "\n",
    "print(acc_count / len(preds) * 100)"
   ]
  },
  {
   "cell_type": "code",
   "execution_count": null,
   "metadata": {},
   "outputs": [],
   "source": []
  }
 ],
 "metadata": {
  "kernelspec": {
   "display_name": "Python 3.8.13 ('ml')",
   "language": "python",
   "name": "python3"
  },
  "language_info": {
   "codemirror_mode": {
    "name": "ipython",
    "version": 3
   },
   "file_extension": ".py",
   "mimetype": "text/x-python",
   "name": "python",
   "nbconvert_exporter": "python",
   "pygments_lexer": "ipython3",
   "version": "3.8.13"
  },
  "orig_nbformat": 4,
  "vscode": {
   "interpreter": {
    "hash": "e76b06f811d914f25ddf1d876c9e6424e54248baadb52cf54ff8d72e027625bb"
   }
  }
 },
 "nbformat": 4,
 "nbformat_minor": 2
}
