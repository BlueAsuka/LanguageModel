{
 "cells": [
  {
   "cell_type": "markdown",
   "metadata": {},
   "source": [
    "A introudction of conditional frequency distribution (CFD).\n",
    "CFD is a collection of frequency distributions, each one for a different \"condition\"\n"
   ]
  },
  {
   "cell_type": "code",
   "execution_count": 2,
   "metadata": {},
   "outputs": [],
   "source": [
    "import nltk"
   ]
  },
  {
   "cell_type": "code",
   "execution_count": 3,
   "metadata": {},
   "outputs": [],
   "source": [
    "brown_corpus = nltk.corpus.brown"
   ]
  },
  {
   "cell_type": "code",
   "execution_count": 4,
   "metadata": {},
   "outputs": [],
   "source": [
    "cfd = nltk.ConditionalFreqDist((g, w) for g in brown_corpus.categories() for w in brown_corpus.words(categories=g))"
   ]
  },
  {
   "cell_type": "code",
   "execution_count": 6,
   "metadata": {},
   "outputs": [
    {
     "name": "stdout",
     "output_type": "stream",
     "text": [
      "                  can could   may might  must  will \n",
      "           news    93    86    66    38    50   389 \n",
      "       religion    82    59    78    12    54    71 \n",
      "        hobbies   268    58   131    22    83   264 \n",
      "science_fiction    16    49     4    12     8    16 \n",
      "        romance    74   193    11    51    45    43 \n",
      "          humor    16    30     8     8     9    13 \n"
     ]
    }
   ],
   "source": [
    "# Count frequency of words with certain genre\n",
    "genres = ['news', 'religion', 'hobbies', 'science_fiction', 'romance', 'humor']\n",
    "modals = ['can', 'could', 'may', 'might', 'must', 'will']\n",
    "cfd.tabulate(conditions=genres, samples=modals)"
   ]
  },
  {
   "cell_type": "code",
   "execution_count": 55,
   "metadata": {},
   "outputs": [
    {
     "name": "stdout",
     "output_type": "stream",
     "text": [
      "['The', 'Fulton', 'County', 'Grand', 'Jury', 'said', ...]\n"
     ]
    }
   ],
   "source": [
    "# Show news words\n",
    "news_raw = brown_corpus.words(categories='news')\n",
    "print(news_raw)"
   ]
  },
  {
   "cell_type": "code",
   "execution_count": 58,
   "metadata": {},
   "outputs": [
    {
     "name": "stdout",
     "output_type": "stream",
     "text": [
      "[('news', 'The'), ('news', 'Fulton'), ('news', 'County'), ('news', 'Grand'), ('news', 'Jury'), ('news', 'said'), ('news', 'Friday'), ('news', 'an'), ('news', 'investigation'), ('news', 'of')]\n",
      "Total number of pair is: 100554\n"
     ]
    }
   ],
   "source": [
    "# For a specific look at a single genre of news\n",
    "genre_word = [(g, w) for g in ['news'] for w in brown_corpus.words(categories=g)]\n",
    "\n",
    "# The result is a pair (genre, word) => (condition, event)\n",
    "print(f'{[p for p in genre_word[:10]]}')\n",
    "print(f'Total number of pair is: {len(genre_word)}')"
   ]
  },
  {
   "cell_type": "code",
   "execution_count": 38,
   "metadata": {},
   "outputs": [],
   "source": [
    "# CFD are used to record the number of times each sample occurred,\n",
    "# given the condition under which the experiment was run.\n",
    "news_cfd = nltk.ConditionalFreqDist(genre_word)"
   ]
  },
  {
   "cell_type": "code",
   "execution_count": 62,
   "metadata": {},
   "outputs": [
    {
     "name": "stdout",
     "output_type": "stream",
     "text": [
      "<ConditionalFreqDist with 1 conditions>\n",
      "['news']\n"
     ]
    },
    {
     "data": {
      "text/plain": [
       "FreqDist({'the': 5580, ',': 5188, '.': 4030, 'of': 2849, 'and': 2146, 'to': 2116, 'a': 1993, 'in': 1893, 'for': 943, 'The': 806, ...})"
      ]
     },
     "execution_count": 62,
     "metadata": {},
     "output_type": "execute_result"
    }
   ],
   "source": [
    "print(news_cfd)\n",
    "print(news_cfd.conditions())\n",
    "news_cfd['news']"
   ]
  },
  {
   "cell_type": "code",
   "execution_count": 49,
   "metadata": {},
   "outputs": [
    {
     "name": "stdout",
     "output_type": "stream",
     "text": [
      "        Monday   Tuesday Wednesday  Thursday    Friday  Saturday    Sunday \n",
      "news        54        43        22        20        41        33        51 \n"
     ]
    }
   ],
   "source": [
    "days = ['Monday', 'Tuesday', 'Wednesday', 'Thursday', 'Friday', 'Saturday', 'Sunday']\n",
    "news_cfd.tabulate(samples=days)"
   ]
  },
  {
   "cell_type": "code",
   "execution_count": 31,
   "metadata": {},
   "outputs": [],
   "source": [
    "from nltk.corpus import udhr\n",
    "languages = ['Chickasaw', 'English', 'German_Deutsch', 'Greenlandic_Inuktikut', 'Hungarian_Magyar', 'Ibibio_Efik']\n",
    "cfd = nltk.ConditionalFreqDist((lang, len(word)) for lang in languages for word in udhr.words(lang + '-Latin1'))"
   ]
  },
  {
   "cell_type": "code",
   "execution_count": 33,
   "metadata": {},
   "outputs": [
    {
     "name": "stdout",
     "output_type": "stream",
     "text": [
      "                         0    1    2    3    4    5    6    7    8    9 \n",
      "            Chickasaw    0  411  510  551  619  710  799  876  946  995 \n",
      "              English    0  185  525  883  997 1166 1283 1440 1558 1638 \n",
      "       German_Deutsch    0  171  263  614  717  894 1013 1110 1213 1275 \n",
      "Greenlandic_Inuktikut    0  139  150  151  154  175  182  241  259  283 \n",
      "     Hungarian_Magyar    0  302  431  503  655  767  881  972 1081 1171 \n",
      "          Ibibio_Efik    0  228  440  915 1418 1705 1867 1974 2049 2074 \n"
     ]
    }
   ],
   "source": [
    "cfd.tabulate(samples=range(10), cumulative=True)"
   ]
  },
  {
   "cell_type": "code",
   "execution_count": 86,
   "metadata": {},
   "outputs": [
    {
     "name": "stdout",
     "output_type": "stream",
     "text": [
      "[('In', 'the'), ('the', 'beginning'), ('beginning', 'God'), ('God', 'created'), ('created', 'the'), ('the', 'heaven'), ('heaven', 'and'), ('and', 'the'), ('the', 'earth'), ('earth', '.')]\n"
     ]
    }
   ],
   "source": [
    "# Create a bigram of a text\n",
    "text = nltk.corpus.genesis.words('english-kjv.txt')\n",
    "print(list(nltk.bigrams(text))[:10])\n",
    "bigrams = nltk.bigrams(text)\n"
   ]
  },
  {
   "cell_type": "code",
   "execution_count": 92,
   "metadata": {},
   "outputs": [],
   "source": [
    "# Treat each word as a condition \n",
    "# For each one we effectively create a frequency distribution over the following words\n",
    "cfd = nltk.ConditionalFreqDist(bigrams) # [_bigram-condition]\n",
    "# print(cfd.keys())"
   ]
  },
  {
   "cell_type": "code",
   "execution_count": 80,
   "metadata": {},
   "outputs": [],
   "source": [
    "# Natural Language Toolkit: code_random_text\n",
    "def generate_model(cfdist, init_word, n_generate=15):\n",
    "    for i in range(n_generate):\n",
    "        print(init_word, end=' ')\n",
    "        init_word = cfdist[init_word].max() # Select the most occured words as the next words"
   ]
  },
  {
   "cell_type": "code",
   "execution_count": 91,
   "metadata": {},
   "outputs": [
    {
     "name": "stdout",
     "output_type": "stream",
     "text": [
      "living creature that he said , and the land of the land of the land "
     ]
    }
   ],
   "source": [
    "generate_model(cfd, 'living')"
   ]
  },
  {
   "cell_type": "code",
   "execution_count": null,
   "metadata": {},
   "outputs": [],
   "source": []
  }
 ],
 "metadata": {
  "kernelspec": {
   "display_name": "Python 3.8.13 ('ml')",
   "language": "python",
   "name": "python3"
  },
  "language_info": {
   "codemirror_mode": {
    "name": "ipython",
    "version": 3
   },
   "file_extension": ".py",
   "mimetype": "text/x-python",
   "name": "python",
   "nbconvert_exporter": "python",
   "pygments_lexer": "ipython3",
   "version": "3.8.13"
  },
  "orig_nbformat": 4,
  "vscode": {
   "interpreter": {
    "hash": "e76b06f811d914f25ddf1d876c9e6424e54248baadb52cf54ff8d72e027625bb"
   }
  }
 },
 "nbformat": 4,
 "nbformat_minor": 2
}
